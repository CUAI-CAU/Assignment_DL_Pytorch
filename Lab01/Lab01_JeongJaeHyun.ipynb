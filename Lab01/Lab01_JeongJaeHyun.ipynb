{
 "cells": [
  {
   "cell_type": "markdown",
   "metadata": {
    "id": "1AT4yv5v54by"
   },
   "source": [
    "# Lab 1: Tensor Manipulation\n",
    "#### 정재현"
   ]
  },
  {
   "cell_type": "code",
   "execution_count": null,
   "metadata": {
    "id": "U3D61xE654cB"
   },
   "outputs": [],
   "source": [
    "import numpy as np\n",
    "import torch"
   ]
  },
  {
   "cell_type": "markdown",
   "metadata": {
    "id": "Bb2eocp354cI"
   },
   "source": [
    "### 1D Array with NumPy"
   ]
  },
  {
   "cell_type": "code",
   "execution_count": null,
   "metadata": {
    "colab": {
     "base_uri": "https://localhost:8080/"
    },
    "executionInfo": {
     "elapsed": 272,
     "status": "ok",
     "timestamp": 1633847129121,
     "user": {
      "displayName": "정재현",
      "photoUrl": "https://lh3.googleusercontent.com/a/default-user=s64",
      "userId": "14707165401475684808"
     },
     "user_tz": -540
    },
    "id": "vjUMR6fr54cK",
    "outputId": "3854db27-4607-4b07-a155-0912e82ed650"
   },
   "outputs": [
    {
     "name": "stdout",
     "output_type": "stream",
     "text": [
      "[0. 1. 2. 3. 4. 5. 6.]\n"
     ]
    }
   ],
   "source": [
    "t = np.array([0., 1., 2., 3., 4., 5., 6.])\n",
    "print(t)"
   ]
  },
  {
   "cell_type": "code",
   "execution_count": null,
   "metadata": {
    "colab": {
     "base_uri": "https://localhost:8080/"
    },
    "executionInfo": {
     "elapsed": 223,
     "status": "ok",
     "timestamp": 1633847131510,
     "user": {
      "displayName": "정재현",
      "photoUrl": "https://lh3.googleusercontent.com/a/default-user=s64",
      "userId": "14707165401475684808"
     },
     "user_tz": -540
    },
    "id": "k_9aHc5q54cM",
    "outputId": "c02c5028-9124-4e74-fa3f-276f7d6e2640"
   },
   "outputs": [
    {
     "name": "stdout",
     "output_type": "stream",
     "text": [
      "Rank  of t:  1\n",
      "Shape of t:  (7,)\n"
     ]
    }
   ],
   "source": [
    "print('Rank  of t: ', t.ndim)\n",
    "print('Shape of t: ', t.shape)"
   ]
  },
  {
   "cell_type": "code",
   "execution_count": null,
   "metadata": {
    "colab": {
     "base_uri": "https://localhost:8080/"
    },
    "executionInfo": {
     "elapsed": 250,
     "status": "ok",
     "timestamp": 1633847134235,
     "user": {
      "displayName": "정재현",
      "photoUrl": "https://lh3.googleusercontent.com/a/default-user=s64",
      "userId": "14707165401475684808"
     },
     "user_tz": -540
    },
    "id": "MiOJGI4754cO",
    "outputId": "265e62e0-e424-4188-babc-f6da1ecf0bda"
   },
   "outputs": [
    {
     "name": "stdout",
     "output_type": "stream",
     "text": [
      "t[0] t[1] t[-1] =  0.0 1.0 6.0\n",
      "t[2:5] t[4:-1]  =  [2. 3. 4.] [4. 5.]\n",
      "t[:2] t[3:]     =  [0. 1.] [3. 4. 5. 6.]\n"
     ]
    }
   ],
   "source": [
    "print('t[0] t[1] t[-1] = ', t[0], t[1], t[-1]) # Element\n",
    "print('t[2:5] t[4:-1]  = ', t[2:5], t[4:-1])   # Slicing\n",
    "print('t[:2] t[3:]     = ', t[:2], t[3:])      # Slicing"
   ]
  },
  {
   "cell_type": "markdown",
   "metadata": {
    "id": "AzAtO42l54cP"
   },
   "source": [
    "### 2D Array with NumPy"
   ]
  },
  {
   "cell_type": "code",
   "execution_count": null,
   "metadata": {
    "colab": {
     "base_uri": "https://localhost:8080/"
    },
    "executionInfo": {
     "elapsed": 270,
     "status": "ok",
     "timestamp": 1633847162946,
     "user": {
      "displayName": "정재현",
      "photoUrl": "https://lh3.googleusercontent.com/a/default-user=s64",
      "userId": "14707165401475684808"
     },
     "user_tz": -540
    },
    "id": "rS8wAB4-54cP",
    "outputId": "584a74d6-cb32-4432-9617-f35318c23f31"
   },
   "outputs": [
    {
     "name": "stdout",
     "output_type": "stream",
     "text": [
      "[[ 1.  2.  3.]\n",
      " [ 4.  5.  6.]\n",
      " [ 7.  8.  9.]\n",
      " [10. 11. 12.]]\n"
     ]
    }
   ],
   "source": [
    "t = np.array([[1., 2., 3.], [4., 5., 6.], [7., 8., 9.], [10., 11., 12.]])\n",
    "print(t)"
   ]
  },
  {
   "cell_type": "code",
   "execution_count": null,
   "metadata": {
    "colab": {
     "base_uri": "https://localhost:8080/"
    },
    "executionInfo": {
     "elapsed": 246,
     "status": "ok",
     "timestamp": 1633847166630,
     "user": {
      "displayName": "정재현",
      "photoUrl": "https://lh3.googleusercontent.com/a/default-user=s64",
      "userId": "14707165401475684808"
     },
     "user_tz": -540
    },
    "id": "6iOZ5t-k54cQ",
    "outputId": "9e9a765f-3b4e-4fbc-829c-6e1a2c0ff037"
   },
   "outputs": [
    {
     "name": "stdout",
     "output_type": "stream",
     "text": [
      "Rank  of t:  2\n",
      "Shape of t:  (4, 3)\n"
     ]
    }
   ],
   "source": [
    "print('Rank  of t: ', t.ndim)\n",
    "print('Shape of t: ', t.shape)"
   ]
  },
  {
   "cell_type": "markdown",
   "metadata": {
    "id": "g6LrfBP954cS"
   },
   "source": [
    "### 1D Array with PyTorch"
   ]
  },
  {
   "cell_type": "code",
   "execution_count": null,
   "metadata": {
    "colab": {
     "base_uri": "https://localhost:8080/"
    },
    "executionInfo": {
     "elapsed": 251,
     "status": "ok",
     "timestamp": 1633847214928,
     "user": {
      "displayName": "정재현",
      "photoUrl": "https://lh3.googleusercontent.com/a/default-user=s64",
      "userId": "14707165401475684808"
     },
     "user_tz": -540
    },
    "id": "jTkmPcoE54cS",
    "outputId": "a3357687-b9ff-4a5c-c129-395e6bcbd2a4"
   },
   "outputs": [
    {
     "name": "stdout",
     "output_type": "stream",
     "text": [
      "tensor([0., 1., 2., 3., 4., 5., 6.])\n"
     ]
    }
   ],
   "source": [
    "t = torch.FloatTensor([0., 1., 2., 3., 4., 5., 6.])\n",
    "print(t)"
   ]
  },
  {
   "cell_type": "code",
   "execution_count": null,
   "metadata": {
    "colab": {
     "base_uri": "https://localhost:8080/"
    },
    "executionInfo": {
     "elapsed": 9,
     "status": "ok",
     "timestamp": 1633847216053,
     "user": {
      "displayName": "정재현",
      "photoUrl": "https://lh3.googleusercontent.com/a/default-user=s64",
      "userId": "14707165401475684808"
     },
     "user_tz": -540
    },
    "id": "YQsUxARy54cU",
    "outputId": "aadb1f91-2cbc-4b62-fc9d-61d2ddee3b1d",
    "scrolled": true
   },
   "outputs": [
    {
     "name": "stdout",
     "output_type": "stream",
     "text": [
      "1\n",
      "torch.Size([7])\n",
      "torch.Size([7])\n",
      "tensor(0.) tensor(1.) tensor(6.)\n",
      "tensor([2., 3., 4.]) tensor([4., 5.])\n",
      "tensor([0., 1.]) tensor([3., 4., 5., 6.])\n"
     ]
    }
   ],
   "source": [
    "print(t.dim())  # rank\n",
    "print(t.shape)  # shape\n",
    "print(t.size()) # shape\n",
    "print(t[0], t[1], t[-1])  # Element\n",
    "print(t[2:5], t[4:-1])    # Slicing\n",
    "print(t[:2], t[3:])       # Slicing"
   ]
  },
  {
   "cell_type": "markdown",
   "metadata": {
    "id": "hmv2mt_p54cW"
   },
   "source": [
    "### 2D Array with PyTorch"
   ]
  },
  {
   "cell_type": "code",
   "execution_count": null,
   "metadata": {
    "id": "LbQ73-uH54cW",
    "outputId": "2ef45d23-4f08-45e7-b8d3-afc60a927780"
   },
   "outputs": [
    {
     "name": "stdout",
     "output_type": "stream",
     "text": [
      "tensor([[ 1.,  2.,  3.],\n",
      "        [ 4.,  5.,  6.],\n",
      "        [ 7.,  8.,  9.],\n",
      "        [10., 11., 12.]])\n"
     ]
    }
   ],
   "source": [
    "t = torch.FloatTensor([[1., 2., 3.],\n",
    "                       [4., 5., 6.],\n",
    "                       [7., 8., 9.],\n",
    "                       [10., 11., 12.]\n",
    "                      ])\n",
    "print(t)"
   ]
  },
  {
   "cell_type": "code",
   "execution_count": null,
   "metadata": {
    "id": "5farjPt354cX",
    "outputId": "86b7fd2f-e23b-4b54-b28d-8090802b8d96"
   },
   "outputs": [
    {
     "name": "stdout",
     "output_type": "stream",
     "text": [
      "2\n",
      "torch.Size([4, 3])\n",
      "tensor([ 2.,  5.,  8., 11.])\n",
      "torch.Size([4])\n",
      "tensor([[ 1.,  2.],\n",
      "        [ 4.,  5.],\n",
      "        [ 7.,  8.],\n",
      "        [10., 11.]])\n"
     ]
    }
   ],
   "source": [
    "print(t.dim())  # rank\n",
    "print(t.size()) # shape\n",
    "print(t[:, 1])     # 첫번째 열 벡터\n",
    "print(t[:, 1].size())\n",
    "print(t[:, :-1])"
   ]
  },
  {
   "cell_type": "markdown",
   "metadata": {
    "id": "A6CZr35254cZ"
   },
   "source": [
    "### Shape, Rank, Axis"
   ]
  },
  {
   "cell_type": "code",
   "execution_count": null,
   "metadata": {
    "id": "COEb5Sdh54cZ"
   },
   "outputs": [],
   "source": [
    "t = torch.FloatTensor([[[[1, 2, 3, 4],\n",
    "                         [5, 6, 7, 8],\n",
    "                         [9, 10, 11, 12]],\n",
    "                       [[13, 14, 15, 16],\n",
    "                        [17, 18, 19, 20],\n",
    "                        [21, 22, 23, 24]]\n",
    "                       ]])"
   ]
  },
  {
   "cell_type": "code",
   "execution_count": null,
   "metadata": {
    "id": "d8f8KrKo54ca",
    "outputId": "cffb1fe2-7a9b-474f-db30-c1ae5a0bac7e"
   },
   "outputs": [
    {
     "name": "stdout",
     "output_type": "stream",
     "text": [
      "4\n",
      "torch.Size([1, 2, 3, 4])\n"
     ]
    }
   ],
   "source": [
    "print(t.dim())  # rank  = 4\n",
    "print(t.size()) # shape = (1, 2, 3, 4)"
   ]
  },
  {
   "cell_type": "markdown",
   "metadata": {
    "id": "e_vq3W-H54cb"
   },
   "source": [
    "## Frequently Used Operations in PyTorch"
   ]
  },
  {
   "cell_type": "markdown",
   "metadata": {
    "id": "7R6LWkv054cb"
   },
   "source": [
    "### Mul vs. Matmul"
   ]
  },
  {
   "cell_type": "code",
   "execution_count": null,
   "metadata": {
    "colab": {
     "base_uri": "https://localhost:8080/"
    },
    "executionInfo": {
     "elapsed": 235,
     "status": "ok",
     "timestamp": 1633847754800,
     "user": {
      "displayName": "정재현",
      "photoUrl": "https://lh3.googleusercontent.com/a/default-user=s64",
      "userId": "14707165401475684808"
     },
     "user_tz": -540
    },
    "id": "jUk3UNln54cb",
    "outputId": "b99f478b-945c-47a5-9dcf-e03584a21fec"
   },
   "outputs": [
    {
     "name": "stdout",
     "output_type": "stream",
     "text": [
      "\n",
      "-------------\n",
      "Mul vs Matmul\n",
      "-------------\n",
      "Shape of Matrix 1:  torch.Size([2, 2])\n",
      "Shape of Matrix 2:  torch.Size([2, 1])\n",
      "tensor([[ 5.],\n",
      "        [11.]])\n",
      "-------------\n",
      "Shape of Matrix 1:  torch.Size([2, 2])\n",
      "Shape of Matrix 2:  torch.Size([2, 1])\n",
      "tensor([[1., 2.],\n",
      "        [6., 8.]])\n",
      "tensor([[1., 2.],\n",
      "        [6., 8.]])\n"
     ]
    }
   ],
   "source": [
    "print()\n",
    "print('-------------')\n",
    "print('Mul vs Matmul')\n",
    "print('-------------')\n",
    "m1 = torch.FloatTensor([[1, 2], [3, 4]])\n",
    "m2 = torch.FloatTensor([[1], [2]])\n",
    "print('Shape of Matrix 1: ', m1.shape) # 2 x 2\n",
    "print('Shape of Matrix 2: ', m2.shape) # 2 x 1\n",
    "print(m1.matmul(m2)) # 2 x 1\n",
    "\n",
    "print('-------------')\n",
    "\n",
    "m1 = torch.FloatTensor([[1, 2], [3, 4]])\n",
    "m2 = torch.FloatTensor([[1], [2]])\n",
    "print('Shape of Matrix 1: ', m1.shape) # 2 x 2\n",
    "print('Shape of Matrix 2: ', m2.shape) # 2 x 1  => 2 x 2\n",
    "print(m1 * m2) # 2 x 2\n",
    "print(m1.mul(m2))"
   ]
  },
  {
   "cell_type": "markdown",
   "metadata": {
    "id": "GPQM8mPd54cd"
   },
   "source": [
    "### Broadcasting"
   ]
  },
  {
   "cell_type": "code",
   "execution_count": null,
   "metadata": {
    "id": "Gb7OGj1t54ce",
    "outputId": "61ab767a-fccd-488f-9fd2-aac39de1f84d"
   },
   "outputs": [
    {
     "name": "stdout",
     "output_type": "stream",
     "text": [
      "tensor([[5., 5.]])\n"
     ]
    }
   ],
   "source": [
    "# Same shape\n",
    "m1 = torch.FloatTensor([[3, 3]])\n",
    "m2 = torch.FloatTensor([[2, 2]])\n",
    "print(m1 + m2)"
   ]
  },
  {
   "cell_type": "code",
   "execution_count": null,
   "metadata": {
    "id": "X0Xn84RM54ce",
    "outputId": "05f54b20-93fc-4027-a7ac-34f35ffa6691"
   },
   "outputs": [
    {
     "name": "stdout",
     "output_type": "stream",
     "text": [
      "tensor([[4., 5.]])\n"
     ]
    }
   ],
   "source": [
    "# Vector + scalar\n",
    "m1 = torch.FloatTensor([[1, 2]])\n",
    "m2 = torch.FloatTensor([3]) # 3 -> [[3, 3]]  스칼라를 같은 크기의 벡터로 변환하여 더해준다\n",
    "print(m1 + m2)"
   ]
  },
  {
   "cell_type": "code",
   "execution_count": null,
   "metadata": {
    "id": "dqoFADXJ54cf",
    "outputId": "6993fe24-51f5-4b13-bde6-68b1b629e95f"
   },
   "outputs": [
    {
     "name": "stdout",
     "output_type": "stream",
     "text": [
      "tensor([[4., 5.],\n",
      "        [5., 6.]])\n"
     ]
    }
   ],
   "source": [
    "# 2 x 1 Vector + 1 x 2 Vector\n",
    "m1 = torch.FloatTensor([[1, 2]])     # (1,2)  => (2,2)\n",
    "m2 = torch.FloatTensor([[3], [4]])   # (2,1)  => (2,2)\n",
    "print(m1 + m2)"
   ]
  },
  {
   "cell_type": "markdown",
   "metadata": {
    "id": "wpc94zkN54cf"
   },
   "source": [
    "### Mean"
   ]
  },
  {
   "cell_type": "code",
   "execution_count": null,
   "metadata": {
    "colab": {
     "base_uri": "https://localhost:8080/"
    },
    "executionInfo": {
     "elapsed": 398,
     "status": "ok",
     "timestamp": 1633847833339,
     "user": {
      "displayName": "정재현",
      "photoUrl": "https://lh3.googleusercontent.com/a/default-user=s64",
      "userId": "14707165401475684808"
     },
     "user_tz": -540
    },
    "id": "FtZR1vxz54cg",
    "outputId": "bbd584c4-700f-4bfc-be84-095fac7ebf79"
   },
   "outputs": [
    {
     "name": "stdout",
     "output_type": "stream",
     "text": [
      "tensor(1.5000)\n"
     ]
    }
   ],
   "source": [
    "t = torch.FloatTensor([1, 2])\n",
    "print(t.mean())"
   ]
  },
  {
   "cell_type": "code",
   "execution_count": null,
   "metadata": {
    "colab": {
     "base_uri": "https://localhost:8080/"
    },
    "executionInfo": {
     "elapsed": 276,
     "status": "ok",
     "timestamp": 1633847844602,
     "user": {
      "displayName": "정재현",
      "photoUrl": "https://lh3.googleusercontent.com/a/default-user=s64",
      "userId": "14707165401475684808"
     },
     "user_tz": -540
    },
    "id": "psiq7_-e54cg",
    "outputId": "de6a3433-428f-4463-997e-8bdd776aa55a"
   },
   "outputs": [
    {
     "name": "stdout",
     "output_type": "stream",
     "text": [
      "Can only calculate the mean of floating types. Got Long instead.\n"
     ]
    }
   ],
   "source": [
    "# Can't use mean() on integers\n",
    "\n",
    "t = torch.LongTensor([1, 2])\n",
    "\n",
    "try:\n",
    "    print(t.mean())\n",
    "\n",
    "except Exception as exc:\n",
    "    print(exc)"
   ]
  },
  {
   "cell_type": "markdown",
   "metadata": {
    "id": "4k5Mm0BJ54ch"
   },
   "source": [
    "You can also use `t.mean` for higher rank tensors to get mean of all elements, or mean by particular dimension."
   ]
  },
  {
   "cell_type": "code",
   "execution_count": null,
   "metadata": {
    "colab": {
     "base_uri": "https://localhost:8080/"
    },
    "executionInfo": {
     "elapsed": 237,
     "status": "ok",
     "timestamp": 1633847899175,
     "user": {
      "displayName": "정재현",
      "photoUrl": "https://lh3.googleusercontent.com/a/default-user=s64",
      "userId": "14707165401475684808"
     },
     "user_tz": -540
    },
    "id": "ggE_Z2DO54ch",
    "outputId": "97291935-c380-4ebf-b775-a33dc4e19326"
   },
   "outputs": [
    {
     "name": "stdout",
     "output_type": "stream",
     "text": [
      "tensor([[1., 2.],\n",
      "        [3., 4.]])\n"
     ]
    }
   ],
   "source": [
    "t = torch.FloatTensor([[1, 2], [3, 4]])\n",
    "print(t)"
   ]
  },
  {
   "cell_type": "code",
   "execution_count": null,
   "metadata": {
    "colab": {
     "base_uri": "https://localhost:8080/"
    },
    "executionInfo": {
     "elapsed": 14,
     "status": "ok",
     "timestamp": 1633847900019,
     "user": {
      "displayName": "정재현",
      "photoUrl": "https://lh3.googleusercontent.com/a/default-user=s64",
      "userId": "14707165401475684808"
     },
     "user_tz": -540
    },
    "id": "BGUdo-At54ci",
    "outputId": "d77dc59f-80e2-4bb7-d247-d4abd3ed69b4"
   },
   "outputs": [
    {
     "name": "stdout",
     "output_type": "stream",
     "text": [
      "tensor(2.5000)\n",
      "tensor([2., 3.])\n",
      "tensor([1.5000, 3.5000])\n",
      "tensor([1.5000, 3.5000])\n"
     ]
    }
   ],
   "source": [
    "print(t.mean())\n",
    "print(t.mean(dim=0))  # 디멘션 없애고 1 x 2\n",
    "print(t.mean(dim=1))  # 2 x 1 로 \n",
    "print(t.mean(dim=-1))"
   ]
  },
  {
   "cell_type": "markdown",
   "metadata": {
    "id": "5Zk7acEj54ci"
   },
   "source": [
    "### Sum"
   ]
  },
  {
   "cell_type": "code",
   "execution_count": null,
   "metadata": {
    "colab": {
     "base_uri": "https://localhost:8080/"
    },
    "executionInfo": {
     "elapsed": 225,
     "status": "ok",
     "timestamp": 1633847978693,
     "user": {
      "displayName": "정재현",
      "photoUrl": "https://lh3.googleusercontent.com/a/default-user=s64",
      "userId": "14707165401475684808"
     },
     "user_tz": -540
    },
    "id": "cWQXjMcS54cj",
    "outputId": "1a554d6f-d305-43e0-fe00-59b3c8856cec"
   },
   "outputs": [
    {
     "name": "stdout",
     "output_type": "stream",
     "text": [
      "tensor([[1., 2.],\n",
      "        [3., 4.]])\n"
     ]
    }
   ],
   "source": [
    "t = torch.FloatTensor([[1, 2], [3, 4]])\n",
    "print(t)"
   ]
  },
  {
   "cell_type": "code",
   "execution_count": null,
   "metadata": {
    "colab": {
     "base_uri": "https://localhost:8080/"
    },
    "executionInfo": {
     "elapsed": 236,
     "status": "ok",
     "timestamp": 1633847988284,
     "user": {
      "displayName": "정재현",
      "photoUrl": "https://lh3.googleusercontent.com/a/default-user=s64",
      "userId": "14707165401475684808"
     },
     "user_tz": -540
    },
    "id": "kdS9b4hm54cj",
    "outputId": "4fe4e279-1582-4c6b-e22e-74f10a65d425"
   },
   "outputs": [
    {
     "name": "stdout",
     "output_type": "stream",
     "text": [
      "tensor(10.)\n",
      "tensor([4., 6.])\n",
      "tensor([3., 7.])\n",
      "tensor([3., 7.])\n"
     ]
    }
   ],
   "source": [
    "print(t.sum())\n",
    "print(t.sum(dim=0)) # 열 끼리 더해주고 1 x 2\n",
    "print(t.sum(dim=1)) # 행 끼리 더해주고 2 x 1\n",
    "print(t.sum(dim=-1))"
   ]
  },
  {
   "cell_type": "markdown",
   "metadata": {
    "id": "6AMnjazk54cj"
   },
   "source": [
    "### Max and Argmax"
   ]
  },
  {
   "cell_type": "code",
   "execution_count": null,
   "metadata": {
    "colab": {
     "base_uri": "https://localhost:8080/"
    },
    "executionInfo": {
     "elapsed": 268,
     "status": "ok",
     "timestamp": 1633848034540,
     "user": {
      "displayName": "정재현",
      "photoUrl": "https://lh3.googleusercontent.com/a/default-user=s64",
      "userId": "14707165401475684808"
     },
     "user_tz": -540
    },
    "id": "pCQBmMGW54ck",
    "outputId": "04917817-8b70-4836-b34c-88bc261dc261"
   },
   "outputs": [
    {
     "name": "stdout",
     "output_type": "stream",
     "text": [
      "tensor([[1., 2.],\n",
      "        [3., 4.]])\n"
     ]
    }
   ],
   "source": [
    "t = torch.FloatTensor([[1, 2], [3, 4]])\n",
    "print(t)"
   ]
  },
  {
   "cell_type": "markdown",
   "metadata": {
    "id": "4ChVebuK54cl"
   },
   "source": [
    "The `max` operator returns one value if it is called without an argument."
   ]
  },
  {
   "cell_type": "code",
   "execution_count": null,
   "metadata": {
    "colab": {
     "base_uri": "https://localhost:8080/"
    },
    "executionInfo": {
     "elapsed": 303,
     "status": "ok",
     "timestamp": 1633848037690,
     "user": {
      "displayName": "정재현",
      "photoUrl": "https://lh3.googleusercontent.com/a/default-user=s64",
      "userId": "14707165401475684808"
     },
     "user_tz": -540
    },
    "id": "U1BARTc554cl",
    "outputId": "87386ac4-3d49-4a6f-82d6-91ce5755ee53"
   },
   "outputs": [
    {
     "name": "stdout",
     "output_type": "stream",
     "text": [
      "tensor(4.)\n"
     ]
    }
   ],
   "source": [
    "print(t.max()) # Returns one value: max"
   ]
  },
  {
   "cell_type": "markdown",
   "metadata": {
    "id": "ZImtiyUg54cm"
   },
   "source": [
    "The `max` operator returns 2 values when called with dimension specified. The first value is the maximum value, and the second value is the argmax: the index of the element with maximum value."
   ]
  },
  {
   "cell_type": "code",
   "execution_count": null,
   "metadata": {
    "id": "gemI3bdC54cm",
    "outputId": "0d69c393-48f1-4461-ffcb-77611b56ad06"
   },
   "outputs": [
    {
     "name": "stdout",
     "output_type": "stream",
     "text": [
      "(tensor([3., 4.]), tensor([1, 1]))\n",
      "Max:  tensor([3., 4.])\n",
      "Argmax:  tensor([1, 1])\n"
     ]
    }
   ],
   "source": [
    "print(t.max(dim=0)) # Returns two values: max and argmax\n",
    "print('Max: ', t.max(dim=0)[0])      # 열끼리 비교해서 최대값\n",
    "print('Argmax: ', t.max(dim=0)[1])   # 그 값의 인덱스 "
   ]
  },
  {
   "cell_type": "code",
   "execution_count": null,
   "metadata": {
    "id": "5dNP3UEx54co",
    "outputId": "9f98b1a0-2277-47fe-8226-8641a0713401"
   },
   "outputs": [
    {
     "name": "stdout",
     "output_type": "stream",
     "text": [
      "(tensor([2., 4.]), tensor([1, 1]))\n",
      "(tensor([2., 4.]), tensor([1, 1]))\n"
     ]
    }
   ],
   "source": [
    "print(t.max(dim=1))  # 두번째 디멘션에 대해서 비교(행끼리)\n",
    "print(t.max(dim=-1))"
   ]
  },
  {
   "cell_type": "markdown",
   "metadata": {
    "id": "3BhETh6254co"
   },
   "source": [
    "### View"
   ]
  },
  {
   "cell_type": "code",
   "execution_count": null,
   "metadata": {
    "colab": {
     "base_uri": "https://localhost:8080/"
    },
    "executionInfo": {
     "elapsed": 275,
     "status": "ok",
     "timestamp": 1633848876522,
     "user": {
      "displayName": "정재현",
      "photoUrl": "https://lh3.googleusercontent.com/a/default-user=s64",
      "userId": "14707165401475684808"
     },
     "user_tz": -540
    },
    "id": "jkZ46Ilm54cq",
    "outputId": "054632fa-ff02-4881-97c4-02f199918d13"
   },
   "outputs": [
    {
     "name": "stdout",
     "output_type": "stream",
     "text": [
      "torch.Size([2, 2, 3])\n"
     ]
    }
   ],
   "source": [
    "# Reshape 기능을 한다.\n",
    "\n",
    "t = np.array([[[0, 1, 2],\n",
    "               [3, 4, 5]],\n",
    "\n",
    "              [[6, 7, 8],\n",
    "               [9, 10, 11]]])\n",
    "\n",
    "ft = torch.FloatTensor(t)\n",
    "print(ft.shape)"
   ]
  },
  {
   "cell_type": "code",
   "execution_count": null,
   "metadata": {
    "colab": {
     "base_uri": "https://localhost:8080/"
    },
    "executionInfo": {
     "elapsed": 7,
     "status": "ok",
     "timestamp": 1633848876906,
     "user": {
      "displayName": "정재현",
      "photoUrl": "https://lh3.googleusercontent.com/a/default-user=s64",
      "userId": "14707165401475684808"
     },
     "user_tz": -540
    },
    "id": "QSmNDSV354cq",
    "outputId": "9d763d5a-44dc-4f65-950c-3a159ea89b2a"
   },
   "outputs": [
    {
     "name": "stdout",
     "output_type": "stream",
     "text": [
      "tensor([[ 0.,  1.,  2.],\n",
      "        [ 3.,  4.,  5.],\n",
      "        [ 6.,  7.,  8.],\n",
      "        [ 9., 10., 11.]])\n",
      "torch.Size([4, 3])\n"
     ]
    }
   ],
   "source": [
    "print(ft.view([-1, 3]))     # (2 x 2, 3) = (4 . 3)\n",
    "print(ft.view([-1, 3]).shape)"
   ]
  },
  {
   "cell_type": "code",
   "execution_count": null,
   "metadata": {
    "colab": {
     "base_uri": "https://localhost:8080/"
    },
    "executionInfo": {
     "elapsed": 220,
     "status": "ok",
     "timestamp": 1633848910654,
     "user": {
      "displayName": "정재현",
      "photoUrl": "https://lh3.googleusercontent.com/a/default-user=s64",
      "userId": "14707165401475684808"
     },
     "user_tz": -540
    },
    "id": "EoB4x6fV54cq",
    "outputId": "c7a45163-60cb-45cb-8ed1-2c14ff17f5ad"
   },
   "outputs": [
    {
     "name": "stdout",
     "output_type": "stream",
     "text": [
      "tensor([[[ 0.,  1.,  2.]],\n",
      "\n",
      "        [[ 3.,  4.,  5.]],\n",
      "\n",
      "        [[ 6.,  7.,  8.]],\n",
      "\n",
      "        [[ 9., 10., 11.]]])\n",
      "torch.Size([4, 1, 3])\n"
     ]
    }
   ],
   "source": [
    "print(ft.view([-1, 1, 3]))  # 첫번째 차원은 모르겟고(-1) 나머지는 1, 3 으로 지정\n",
    "print(ft.view([-1, 1, 3]).shape)"
   ]
  },
  {
   "cell_type": "markdown",
   "metadata": {
    "id": "k2V6l0Ew54cr"
   },
   "source": [
    "### Squeeze"
   ]
  },
  {
   "cell_type": "code",
   "execution_count": null,
   "metadata": {
    "colab": {
     "base_uri": "https://localhost:8080/"
    },
    "executionInfo": {
     "elapsed": 481,
     "status": "ok",
     "timestamp": 1633849005263,
     "user": {
      "displayName": "정재현",
      "photoUrl": "https://lh3.googleusercontent.com/a/default-user=s64",
      "userId": "14707165401475684808"
     },
     "user_tz": -540
    },
    "id": "CVMl4VN554cr",
    "outputId": "90ad367d-dd84-4aa9-c8b5-3fa88f41ebc2"
   },
   "outputs": [
    {
     "name": "stdout",
     "output_type": "stream",
     "text": [
      "tensor([[0.],\n",
      "        [1.],\n",
      "        [2.]])\n",
      "torch.Size([3, 1])\n"
     ]
    }
   ],
   "source": [
    "# 쥐어 짜다, view함수와 비슷하지만 전체에서 하나가 남은 차원을 제거해준다.\n",
    "\n",
    "ft = torch.FloatTensor([[0], [1], [2]])\n",
    "print(ft)\n",
    "print(ft.shape)"
   ]
  },
  {
   "cell_type": "code",
   "execution_count": null,
   "metadata": {
    "colab": {
     "base_uri": "https://localhost:8080/"
    },
    "executionInfo": {
     "elapsed": 11,
     "status": "ok",
     "timestamp": 1633849005505,
     "user": {
      "displayName": "정재현",
      "photoUrl": "https://lh3.googleusercontent.com/a/default-user=s64",
      "userId": "14707165401475684808"
     },
     "user_tz": -540
    },
    "id": "bOJhiF_A54cs",
    "outputId": "83a1bada-fc5f-4818-ced1-fc0d2699c40e"
   },
   "outputs": [
    {
     "name": "stdout",
     "output_type": "stream",
     "text": [
      "tensor([0., 1., 2.])\n",
      "torch.Size([3])\n"
     ]
    }
   ],
   "source": [
    "print(ft.squeeze())\n",
    "print(ft.squeeze().shape)"
   ]
  },
  {
   "cell_type": "code",
   "execution_count": null,
   "metadata": {
    "colab": {
     "base_uri": "https://localhost:8080/"
    },
    "executionInfo": {
     "elapsed": 222,
     "status": "ok",
     "timestamp": 1633849058360,
     "user": {
      "displayName": "정재현",
      "photoUrl": "https://lh3.googleusercontent.com/a/default-user=s64",
      "userId": "14707165401475684808"
     },
     "user_tz": -540
    },
    "id": "kZ8_ZNbR_dbX",
    "outputId": "0002aa06-1595-4c18-b2e2-c7eac8571daf"
   },
   "outputs": [
    {
     "name": "stdout",
     "output_type": "stream",
     "text": [
      "tensor([[0.],\n",
      "        [1.],\n",
      "        [2.]])\n",
      "torch.Size([3, 1])\n"
     ]
    }
   ],
   "source": [
    "print(ft.squeeze(dim = 0))\n",
    "print(ft.squeeze(dim = 0).shape)  # 여전히 같지만 dim = 1로 지정하면 스퀴즈한 결과와 같은 효과"
   ]
  },
  {
   "cell_type": "markdown",
   "metadata": {
    "id": "hEvhiCem54cs"
   },
   "source": [
    "### Unsqueeze"
   ]
  },
  {
   "cell_type": "code",
   "execution_count": null,
   "metadata": {
    "colab": {
     "base_uri": "https://localhost:8080/"
    },
    "executionInfo": {
     "elapsed": 304,
     "status": "ok",
     "timestamp": 1633849123244,
     "user": {
      "displayName": "정재현",
      "photoUrl": "https://lh3.googleusercontent.com/a/default-user=s64",
      "userId": "14707165401475684808"
     },
     "user_tz": -540
    },
    "id": "FoT8BxQt54cs",
    "outputId": "be409861-2e4b-4fa3-ae8e-e862400fce3c"
   },
   "outputs": [
    {
     "name": "stdout",
     "output_type": "stream",
     "text": [
      "torch.Size([3])\n"
     ]
    }
   ],
   "source": [
    "\n",
    "ft = torch.Tensor([0, 1, 2])\n",
    "print(ft.shape)"
   ]
  },
  {
   "cell_type": "code",
   "execution_count": null,
   "metadata": {
    "colab": {
     "base_uri": "https://localhost:8080/"
    },
    "executionInfo": {
     "elapsed": 235,
     "status": "ok",
     "timestamp": 1633849124910,
     "user": {
      "displayName": "정재현",
      "photoUrl": "https://lh3.googleusercontent.com/a/default-user=s64",
      "userId": "14707165401475684808"
     },
     "user_tz": -540
    },
    "id": "yew7bURo54ct",
    "outputId": "7433668d-7d5b-4692-e292-7ab9971018f8"
   },
   "outputs": [
    {
     "name": "stdout",
     "output_type": "stream",
     "text": [
      "tensor([[0., 1., 2.]])\n",
      "torch.Size([1, 3])\n"
     ]
    }
   ],
   "source": [
    "print(ft.unsqueeze(0))       # dimension = 0 ,  (3, ) => (1, 3)\n",
    "print(ft.unsqueeze(0).shape)"
   ]
  },
  {
   "cell_type": "code",
   "execution_count": null,
   "metadata": {
    "id": "aBpMfb5t54ct",
    "outputId": "1127bd72-8269-4cd9-9951-3b341f5453af"
   },
   "outputs": [
    {
     "name": "stdout",
     "output_type": "stream",
     "text": [
      "tensor([[0., 1., 2.]])\n",
      "torch.Size([1, 3])\n"
     ]
    }
   ],
   "source": [
    "print(ft.view(1, -1))\n",
    "print(ft.view(1, -1).shape)"
   ]
  },
  {
   "cell_type": "code",
   "execution_count": null,
   "metadata": {
    "id": "SPwwP5VH54cu",
    "outputId": "4944b634-14c7-4ed1-d900-6a9ee21a82da"
   },
   "outputs": [
    {
     "name": "stdout",
     "output_type": "stream",
     "text": [
      "tensor([[0.],\n",
      "        [1.],\n",
      "        [2.]])\n",
      "torch.Size([3, 1])\n"
     ]
    }
   ],
   "source": [
    "print(ft.unsqueeze(1))      # dimension = 0 ,  (3, ) => (3, 1)\n",
    "print(ft.unsqueeze(1).shape)"
   ]
  },
  {
   "cell_type": "code",
   "execution_count": null,
   "metadata": {
    "id": "oPJazJ0s54cu",
    "outputId": "7921602c-efe8-4ad0-d53b-97d424477bc0"
   },
   "outputs": [
    {
     "name": "stdout",
     "output_type": "stream",
     "text": [
      "tensor([[0.],\n",
      "        [1.],\n",
      "        [2.]])\n",
      "torch.Size([3, 1])\n"
     ]
    }
   ],
   "source": [
    "print(ft.unsqueeze(-1))       # 마지막디멘션 1을 의미하므로 위의 코드와 같은 결과\n",
    "print(ft.unsqueeze(-1).shape)"
   ]
  },
  {
   "cell_type": "markdown",
   "metadata": {
    "id": "4bnb457o54cu"
   },
   "source": [
    "### Scatter (for one-hot encoding)"
   ]
  },
  {
   "cell_type": "code",
   "execution_count": null,
   "metadata": {
    "id": "Ryt5b31W54cv",
    "outputId": "fd5fff1d-d37e-48ba-f98e-b04034f1f099"
   },
   "outputs": [
    {
     "name": "stdout",
     "output_type": "stream",
     "text": [
      "tensor([[0],\n",
      "        [1],\n",
      "        [2],\n",
      "        [0]])\n"
     ]
    }
   ],
   "source": [
    "lt = torch.LongTensor([[0], [1], [2], [0]])\n",
    "print(lt)"
   ]
  },
  {
   "cell_type": "code",
   "execution_count": null,
   "metadata": {
    "id": "P09tWSOL54cv",
    "outputId": "7322877f-c0bc-4d5d-8ff8-2fe43cb233d7"
   },
   "outputs": [
    {
     "name": "stdout",
     "output_type": "stream",
     "text": [
      "tensor([[1., 0., 0.],\n",
      "        [0., 1., 0.],\n",
      "        [0., 0., 1.],\n",
      "        [1., 0., 0.]])\n"
     ]
    }
   ],
   "source": [
    "one_hot = torch.zeros(4, 3) # batch_size = 4, classes = 3\n",
    "one_hot.scatter_(1, lt, 1)\n",
    "print(one_hot)"
   ]
  },
  {
   "cell_type": "markdown",
   "metadata": {
    "id": "0NCO9FPA54cw"
   },
   "source": [
    "### Casting"
   ]
  },
  {
   "cell_type": "code",
   "execution_count": null,
   "metadata": {
    "colab": {
     "base_uri": "https://localhost:8080/"
    },
    "executionInfo": {
     "elapsed": 257,
     "status": "ok",
     "timestamp": 1633849230056,
     "user": {
      "displayName": "정재현",
      "photoUrl": "https://lh3.googleusercontent.com/a/default-user=s64",
      "userId": "14707165401475684808"
     },
     "user_tz": -540
    },
    "id": "DRiLrepg54cw",
    "outputId": "bc8ba99b-e08f-499b-de99-d441838bd7f3"
   },
   "outputs": [
    {
     "name": "stdout",
     "output_type": "stream",
     "text": [
      "tensor([1, 2, 3, 4])\n"
     ]
    }
   ],
   "source": [
    "lt = torch.LongTensor([1, 2, 3, 4])   # long 으로 선언\n",
    "print(lt)"
   ]
  },
  {
   "cell_type": "code",
   "execution_count": null,
   "metadata": {
    "colab": {
     "base_uri": "https://localhost:8080/"
    },
    "executionInfo": {
     "elapsed": 1816,
     "status": "ok",
     "timestamp": 1633849241014,
     "user": {
      "displayName": "정재현",
      "photoUrl": "https://lh3.googleusercontent.com/a/default-user=s64",
      "userId": "14707165401475684808"
     },
     "user_tz": -540
    },
    "id": "SYGNy7b554cw",
    "outputId": "72355e1c-5232-4ca4-fec2-431935a5cabb"
   },
   "outputs": [
    {
     "name": "stdout",
     "output_type": "stream",
     "text": [
      "tensor([1., 2., 3., 4.])\n"
     ]
    }
   ],
   "source": [
    "print(lt.float())"
   ]
  },
  {
   "cell_type": "code",
   "execution_count": null,
   "metadata": {
    "colab": {
     "base_uri": "https://localhost:8080/"
    },
    "executionInfo": {
     "elapsed": 10,
     "status": "ok",
     "timestamp": 1633849241310,
     "user": {
      "displayName": "정재현",
      "photoUrl": "https://lh3.googleusercontent.com/a/default-user=s64",
      "userId": "14707165401475684808"
     },
     "user_tz": -540
    },
    "id": "HX2hodj454cx",
    "outputId": "64968a8a-ec2a-41b5-fb76-212f74315c41"
   },
   "outputs": [
    {
     "name": "stdout",
     "output_type": "stream",
     "text": [
      "tensor([1, 0, 0, 1], dtype=torch.uint8)\n"
     ]
    }
   ],
   "source": [
    "bt = torch.ByteTensor([True, False, False, True])\n",
    "print(bt)"
   ]
  },
  {
   "cell_type": "code",
   "execution_count": null,
   "metadata": {
    "colab": {
     "base_uri": "https://localhost:8080/"
    },
    "executionInfo": {
     "elapsed": 8,
     "status": "ok",
     "timestamp": 1633849244286,
     "user": {
      "displayName": "정재현",
      "photoUrl": "https://lh3.googleusercontent.com/a/default-user=s64",
      "userId": "14707165401475684808"
     },
     "user_tz": -540
    },
    "id": "6zBlKieF54cx",
    "outputId": "ba64e5f0-8507-4af4-83a2-4bfc43d9c2be"
   },
   "outputs": [
    {
     "name": "stdout",
     "output_type": "stream",
     "text": [
      "tensor([1, 0, 0, 1])\n",
      "tensor([1., 0., 0., 1.])\n"
     ]
    }
   ],
   "source": [
    "print(bt.long())    # 정수\n",
    "print(bt.float())    # 실수"
   ]
  },
  {
   "cell_type": "markdown",
   "metadata": {
    "id": "ZAB-n3aW54cx"
   },
   "source": [
    "### Concatenation"
   ]
  },
  {
   "cell_type": "code",
   "execution_count": null,
   "metadata": {
    "id": "4PjaN94-54cy"
   },
   "outputs": [],
   "source": [
    "x = torch.FloatTensor([[1, 2], [3, 4]])    # 각각 2 x 2 \n",
    "y = torch.FloatTensor([[5, 6], [7, 8]])"
   ]
  },
  {
   "cell_type": "code",
   "execution_count": null,
   "metadata": {
    "id": "i8H6s-Hr54cy",
    "outputId": "44133ee7-af41-47fa-ba43-ae716ff78931"
   },
   "outputs": [
    {
     "name": "stdout",
     "output_type": "stream",
     "text": [
      "tensor([[1., 2.],\n",
      "        [3., 4.],\n",
      "        [5., 6.],\n",
      "        [7., 8.]])\n",
      "tensor([[1., 2., 5., 6.],\n",
      "        [3., 4., 7., 8.]])\n"
     ]
    }
   ],
   "source": [
    "print(torch.cat([x, y], dim=0))  # 세로로 붙인다(행방향)\n",
    "print(torch.cat([x, y], dim=1))  # 가로로 붙인다(열방향)"
   ]
  },
  {
   "cell_type": "markdown",
   "metadata": {
    "id": "5Bpliqty54cy"
   },
   "source": [
    "### Stacking"
   ]
  },
  {
   "cell_type": "code",
   "execution_count": null,
   "metadata": {
    "colab": {
     "base_uri": "https://localhost:8080/"
    },
    "executionInfo": {
     "elapsed": 231,
     "status": "ok",
     "timestamp": 1633849632092,
     "user": {
      "displayName": "정재현",
      "photoUrl": "https://lh3.googleusercontent.com/a/default-user=s64",
      "userId": "14707165401475684808"
     },
     "user_tz": -540
    },
    "id": "jQCI0tn654cz",
    "outputId": "1af46c75-ee19-4707-cb4a-9f4b95ccb878"
   },
   "outputs": [
    {
     "name": "stdout",
     "output_type": "stream",
     "text": [
      "torch.Size([2])\n"
     ]
    }
   ],
   "source": [
    "# cat을 더 편리하게 실행해주는 기능\n",
    "\n",
    "x = torch.FloatTensor([1, 4])\n",
    "y = torch.FloatTensor([2, 5])\n",
    "z = torch.FloatTensor([3, 6])\n",
    "\n",
    "print(x.shape)"
   ]
  },
  {
   "cell_type": "code",
   "execution_count": null,
   "metadata": {
    "colab": {
     "base_uri": "https://localhost:8080/"
    },
    "executionInfo": {
     "elapsed": 374,
     "status": "ok",
     "timestamp": 1633849546769,
     "user": {
      "displayName": "정재현",
      "photoUrl": "https://lh3.googleusercontent.com/a/default-user=s64",
      "userId": "14707165401475684808"
     },
     "user_tz": -540
    },
    "id": "QsPntE0J54cz",
    "outputId": "6bab1314-3da3-4c73-bfab-f73ca98605ba"
   },
   "outputs": [
    {
     "name": "stdout",
     "output_type": "stream",
     "text": [
      "tensor([[1., 4.],\n",
      "        [2., 5.],\n",
      "        [3., 6.]])\n",
      "tensor([[1., 2., 3.],\n",
      "        [4., 5., 6.]])\n"
     ]
    }
   ],
   "source": [
    "print(torch.stack([x, y, z]))           # 행방향으로 쌓기(default)\n",
    "print(torch.stack([x, y, z], dim=1))    # 열방향으로 쌓기 (traspose 효과)"
   ]
  },
  {
   "cell_type": "code",
   "execution_count": null,
   "metadata": {
    "id": "H7_w7Tgj54cz",
    "outputId": "018fb9b1-0086-4a0d-93be-3ba4b08d40df"
   },
   "outputs": [
    {
     "name": "stdout",
     "output_type": "stream",
     "text": [
      "tensor([[1., 4.],\n",
      "        [2., 5.],\n",
      "        [3., 6.]])\n"
     ]
    }
   ],
   "source": [
    "print(torch.cat([x.unsqueeze(0), y.unsqueeze(0), z.unsqueeze(0)], dim=0))  # unsqueeze하면 1x2되고 행방향으로 쌓음"
   ]
  },
  {
   "cell_type": "markdown",
   "metadata": {
    "id": "CbYNG2Aw54c0"
   },
   "source": [
    "### Ones and Zeros Like"
   ]
  },
  {
   "cell_type": "code",
   "execution_count": null,
   "metadata": {
    "colab": {
     "base_uri": "https://localhost:8080/"
    },
    "executionInfo": {
     "elapsed": 388,
     "status": "ok",
     "timestamp": 1633849610308,
     "user": {
      "displayName": "정재현",
      "photoUrl": "https://lh3.googleusercontent.com/a/default-user=s64",
      "userId": "14707165401475684808"
     },
     "user_tz": -540
    },
    "id": "fF1WM0gK54c0",
    "outputId": "7d50d4cf-3cbe-44a6-c465-fa229f9309a0"
   },
   "outputs": [
    {
     "name": "stdout",
     "output_type": "stream",
     "text": [
      "tensor([[0., 1., 2.],\n",
      "        [2., 1., 0.]])\n"
     ]
    },
    {
     "data": {
      "text/plain": [
       "torch.Size([2, 3])"
      ]
     },
     "execution_count": 49,
     "metadata": {},
     "output_type": "execute_result"
    }
   ],
   "source": [
    "x = torch.FloatTensor([[0, 1, 2], [2, 1, 0]])\n",
    "print(x)\n",
    "x.shape"
   ]
  },
  {
   "cell_type": "code",
   "execution_count": null,
   "metadata": {
    "colab": {
     "base_uri": "https://localhost:8080/"
    },
    "executionInfo": {
     "elapsed": 277,
     "status": "ok",
     "timestamp": 1633849652323,
     "user": {
      "displayName": "정재현",
      "photoUrl": "https://lh3.googleusercontent.com/a/default-user=s64",
      "userId": "14707165401475684808"
     },
     "user_tz": -540
    },
    "id": "vUyatd1k54c0",
    "outputId": "6375bbed-bd10-46d8-ff41-3a79c729895c"
   },
   "outputs": [
    {
     "name": "stdout",
     "output_type": "stream",
     "text": [
      "tensor([1., 1.])\n",
      "tensor([0., 0.])\n"
     ]
    }
   ],
   "source": [
    "print(torch.ones_like(x))  # x  shape와 같은 크기로 텐서 생성\n",
    "print(torch.zeros_like(x))"
   ]
  },
  {
   "cell_type": "markdown",
   "metadata": {
    "id": "Y3xkXaKZ54c1"
   },
   "source": [
    "### In-place Operation"
   ]
  },
  {
   "cell_type": "code",
   "execution_count": null,
   "metadata": {
    "id": "ymRWcyoR54c2"
   },
   "outputs": [],
   "source": [
    "x = torch.FloatTensor([[1, 2], [3, 4]])"
   ]
  },
  {
   "cell_type": "code",
   "execution_count": null,
   "metadata": {
    "colab": {
     "base_uri": "https://localhost:8080/"
    },
    "executionInfo": {
     "elapsed": 237,
     "status": "ok",
     "timestamp": 1633849749570,
     "user": {
      "displayName": "정재현",
      "photoUrl": "https://lh3.googleusercontent.com/a/default-user=s64",
      "userId": "14707165401475684808"
     },
     "user_tz": -540
    },
    "id": "1cYs-vO254c3",
    "outputId": "17eab0ea-a848-455f-f8a7-a565ce82c1f5"
   },
   "outputs": [
    {
     "name": "stdout",
     "output_type": "stream",
     "text": [
      "tensor([[2., 4.],\n",
      "        [6., 8.]])\n",
      "tensor([[1., 2.],\n",
      "        [3., 4.]])\n",
      "tensor([[2., 4.],\n",
      "        [6., 8.]])\n",
      "tensor([[2., 4.],\n",
      "        [6., 8.]])\n"
     ]
    }
   ],
   "source": [
    "print(x.mul(2.))\n",
    "print(x)      # 기존 텐서 값 유지\n",
    "print(x.mul_(2.))   # _ 는 결과 값을 기존 텐서에 넣어라는 의미 (inplace = True와 비슷)\n",
    "print(x)"
   ]
  },
  {
   "cell_type": "markdown",
   "metadata": {
    "id": "VfOXKUFt54c4"
   },
   "source": [
    "## Miscellaneous"
   ]
  },
  {
   "cell_type": "markdown",
   "metadata": {
    "id": "V39vmnmS54c5"
   },
   "source": [
    "### Zip"
   ]
  },
  {
   "cell_type": "code",
   "execution_count": null,
   "metadata": {
    "id": "MbZV4gll54c5",
    "outputId": "e018eba8-933d-4adb-abb0-3b13597faad2"
   },
   "outputs": [
    {
     "name": "stdout",
     "output_type": "stream",
     "text": [
      "1 4\n",
      "2 5\n",
      "3 6\n"
     ]
    }
   ],
   "source": [
    "for x, y in zip([1, 2, 3], [4, 5, 6]):\n",
    "    print(x, y)"
   ]
  },
  {
   "cell_type": "code",
   "execution_count": null,
   "metadata": {
    "id": "uUVIkHDN54c6",
    "outputId": "94b18d1b-5c59-4633-dd66-cc6df04d1142"
   },
   "outputs": [
    {
     "name": "stdout",
     "output_type": "stream",
     "text": [
      "1 4 7\n",
      "2 5 8\n",
      "3 6 9\n"
     ]
    }
   ],
   "source": [
    "for x, y, z in zip([1, 2, 3], [4, 5, 6], [7, 8, 9]):\n",
    "    print(x, y, z)"
   ]
  }
 ],
 "metadata": {
  "colab": {
   "collapsed_sections": [],
   "name": "lab-01_tensor_manipulation.ipynb",
   "provenance": []
  },
  "kernelspec": {
   "display_name": "Python 3 (ipykernel)",
   "language": "python",
   "name": "python3"
  },
  "language_info": {
   "codemirror_mode": {
    "name": "ipython",
    "version": 3
   },
   "file_extension": ".py",
   "mimetype": "text/x-python",
   "name": "python",
   "nbconvert_exporter": "python",
   "pygments_lexer": "ipython3",
   "version": "3.8.5"
  }
 },
 "nbformat": 4,
 "nbformat_minor": 1
}
