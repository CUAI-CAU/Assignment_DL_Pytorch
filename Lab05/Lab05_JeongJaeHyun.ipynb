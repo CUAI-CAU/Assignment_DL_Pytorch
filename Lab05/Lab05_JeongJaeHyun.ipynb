{
 "cells": [
  {
   "cell_type": "markdown",
   "metadata": {
    "id": "iexBhp3EMGyL"
   },
   "source": [
    "# Lab 5: Logistic Classification\n",
    "#### 정재현"
   ]
  },
  {
   "cell_type": "markdown",
   "metadata": {
    "id": "kcdyowRkMGyv"
   },
   "source": [
    "## Imports"
   ]
  },
  {
   "cell_type": "code",
   "execution_count": 1,
   "metadata": {
    "executionInfo": {
     "elapsed": 26495,
     "status": "ok",
     "timestamp": 1633852786680,
     "user": {
      "displayName": "정재현",
      "photoUrl": "https://lh3.googleusercontent.com/a/default-user=s64",
      "userId": "14707165401475684808"
     },
     "user_tz": -540
    },
    "id": "3fUX80N9MGyw"
   },
   "outputs": [],
   "source": [
    "import torch\n",
    "import torch.nn as nn\n",
    "import torch.nn.functional as F\n",
    "import torch.optim as optim"
   ]
  },
  {
   "cell_type": "code",
   "execution_count": 2,
   "metadata": {
    "colab": {
     "base_uri": "https://localhost:8080/"
    },
    "executionInfo": {
     "elapsed": 18,
     "status": "ok",
     "timestamp": 1633852786684,
     "user": {
      "displayName": "정재현",
      "photoUrl": "https://lh3.googleusercontent.com/a/default-user=s64",
      "userId": "14707165401475684808"
     },
     "user_tz": -540
    },
    "id": "zSngcLvJMGyy",
    "outputId": "95260dea-8bb6-4f79-cc47-09517745da3c"
   },
   "outputs": [
    {
     "data": {
      "text/plain": [
       "<torch._C.Generator at 0x7f331a65bc10>"
      ]
     },
     "execution_count": 2,
     "metadata": {},
     "output_type": "execute_result"
    }
   ],
   "source": [
    "# For reproducibility\n",
    "torch.manual_seed(1)"
   ]
  },
  {
   "cell_type": "markdown",
   "metadata": {
    "id": "RzToWBfCMGy0"
   },
   "source": [
    "## Training Data"
   ]
  },
  {
   "cell_type": "code",
   "execution_count": 3,
   "metadata": {
    "executionInfo": {
     "elapsed": 9,
     "status": "ok",
     "timestamp": 1633852786686,
     "user": {
      "displayName": "정재현",
      "photoUrl": "https://lh3.googleusercontent.com/a/default-user=s64",
      "userId": "14707165401475684808"
     },
     "user_tz": -540
    },
    "id": "99E80jWaMGy1"
   },
   "outputs": [],
   "source": [
    "x_data = [[1, 2], [2, 3], [3, 1], [4, 3], [5, 3], [6, 2]]  # 6 x 2\n",
    "y_data = [[0], [0], [0], [1], [1], [1]]   # 6 x 1"
   ]
  },
  {
   "cell_type": "code",
   "execution_count": 7,
   "metadata": {
    "executionInfo": {
     "elapsed": 333,
     "status": "ok",
     "timestamp": 1633852867094,
     "user": {
      "displayName": "정재현",
      "photoUrl": "https://lh3.googleusercontent.com/a/default-user=s64",
      "userId": "14707165401475684808"
     },
     "user_tz": -540
    },
    "id": "mJ79_kpyMGy2"
   },
   "outputs": [],
   "source": [
    "x_train = torch.FloatTensor(x_data)\n",
    "y_train = torch.FloatTensor(y_data)"
   ]
  },
  {
   "cell_type": "code",
   "execution_count": 8,
   "metadata": {
    "colab": {
     "base_uri": "https://localhost:8080/"
    },
    "executionInfo": {
     "elapsed": 17,
     "status": "ok",
     "timestamp": 1633852867365,
     "user": {
      "displayName": "정재현",
      "photoUrl": "https://lh3.googleusercontent.com/a/default-user=s64",
      "userId": "14707165401475684808"
     },
     "user_tz": -540
    },
    "id": "OROhDl_YMGy4",
    "outputId": "3f011b50-33fa-4382-9b5b-8cf91a589335"
   },
   "outputs": [
    {
     "name": "stdout",
     "output_type": "stream",
     "text": [
      "torch.Size([6, 2])\n",
      "torch.Size([6, 1])\n"
     ]
    }
   ],
   "source": [
    "print(x_train.shape)\n",
    "print(y_train.shape)"
   ]
  },
  {
   "cell_type": "markdown",
   "metadata": {
    "id": "Ky_xizE3MGy5"
   },
   "source": [
    "$$ H(X) = \\frac{1}{1+e^{-W^T X}} $$"
   ]
  },
  {
   "cell_type": "code",
   "execution_count": 9,
   "metadata": {
    "colab": {
     "base_uri": "https://localhost:8080/"
    },
    "executionInfo": {
     "elapsed": 9,
     "status": "ok",
     "timestamp": 1633852870656,
     "user": {
      "displayName": "정재현",
      "photoUrl": "https://lh3.googleusercontent.com/a/default-user=s64",
      "userId": "14707165401475684808"
     },
     "user_tz": -540
    },
    "id": "2-lnQSZPMGy6",
    "outputId": "a5a74cb5-bf79-4f91-9bfd-1d3fca220b45"
   },
   "outputs": [
    {
     "name": "stdout",
     "output_type": "stream",
     "text": [
      "e^1 equals:  tensor([2.7183])\n"
     ]
    }
   ],
   "source": [
    "print('e^1 equals: ', torch.exp(torch.FloatTensor([1])))  # exponential"
   ]
  },
  {
   "cell_type": "code",
   "execution_count": 10,
   "metadata": {
    "executionInfo": {
     "elapsed": 5,
     "status": "ok",
     "timestamp": 1633852870926,
     "user": {
      "displayName": "정재현",
      "photoUrl": "https://lh3.googleusercontent.com/a/default-user=s64",
      "userId": "14707165401475684808"
     },
     "user_tz": -540
    },
    "id": "TRPjPibRMGy7"
   },
   "outputs": [],
   "source": [
    "W = torch.zeros((2, 1), requires_grad=True)\n",
    "b = torch.zeros(1, requires_grad=True)"
   ]
  },
  {
   "cell_type": "code",
   "execution_count": 11,
   "metadata": {
    "executionInfo": {
     "elapsed": 3,
     "status": "ok",
     "timestamp": 1633852871211,
     "user": {
      "displayName": "정재현",
      "photoUrl": "https://lh3.googleusercontent.com/a/default-user=s64",
      "userId": "14707165401475684808"
     },
     "user_tz": -540
    },
    "id": "5dItkEMDMGy7"
   },
   "outputs": [],
   "source": [
    "hypothesis = 1 / (1 + torch.exp(-(x_train.matmul(W) + b)))  # torch.matmul(X, W) + b"
   ]
  },
  {
   "cell_type": "code",
   "execution_count": 12,
   "metadata": {
    "colab": {
     "base_uri": "https://localhost:8080/"
    },
    "executionInfo": {
     "elapsed": 281,
     "status": "ok",
     "timestamp": 1633852924282,
     "user": {
      "displayName": "정재현",
      "photoUrl": "https://lh3.googleusercontent.com/a/default-user=s64",
      "userId": "14707165401475684808"
     },
     "user_tz": -540
    },
    "id": "noZ98cN9MGy8",
    "outputId": "bdc2f27a-920b-4c04-86df-56213c840d0e"
   },
   "outputs": [
    {
     "name": "stdout",
     "output_type": "stream",
     "text": [
      "tensor([[0.5000],\n",
      "        [0.5000],\n",
      "        [0.5000],\n",
      "        [0.5000],\n",
      "        [0.5000],\n",
      "        [0.5000]], grad_fn=<MulBackward0>)\n",
      "torch.Size([6, 1])\n"
     ]
    }
   ],
   "source": [
    "print(hypothesis)\n",
    "print(hypothesis.shape)"
   ]
  },
  {
   "cell_type": "code",
   "execution_count": 13,
   "metadata": {
    "colab": {
     "base_uri": "https://localhost:8080/"
    },
    "executionInfo": {
     "elapsed": 254,
     "status": "ok",
     "timestamp": 1633852936110,
     "user": {
      "displayName": "정재현",
      "photoUrl": "https://lh3.googleusercontent.com/a/default-user=s64",
      "userId": "14707165401475684808"
     },
     "user_tz": -540
    },
    "id": "7wXojbgmMGy9",
    "outputId": "b6c5df5d-1102-41a6-f438-271c3f37209c"
   },
   "outputs": [
    {
     "name": "stdout",
     "output_type": "stream",
     "text": [
      "1/(1+e^{-1}) equals:  tensor([0.7311])\n"
     ]
    }
   ],
   "source": [
    "print('1/(1+e^{-1}) equals: ', torch.sigmoid(torch.FloatTensor([1])))   # torch에서 sigmoid 함수 제공"
   ]
  },
  {
   "cell_type": "code",
   "execution_count": 14,
   "metadata": {
    "executionInfo": {
     "elapsed": 281,
     "status": "ok",
     "timestamp": 1633852946285,
     "user": {
      "displayName": "정재현",
      "photoUrl": "https://lh3.googleusercontent.com/a/default-user=s64",
      "userId": "14707165401475684808"
     },
     "user_tz": -540
    },
    "id": "1uTHZFqEMGy-"
   },
   "outputs": [],
   "source": [
    "hypothesis = torch.sigmoid(x_train.matmul(W) + b)"
   ]
  },
  {
   "cell_type": "code",
   "execution_count": 15,
   "metadata": {
    "colab": {
     "base_uri": "https://localhost:8080/"
    },
    "executionInfo": {
     "elapsed": 457,
     "status": "ok",
     "timestamp": 1633852950863,
     "user": {
      "displayName": "정재현",
      "photoUrl": "https://lh3.googleusercontent.com/a/default-user=s64",
      "userId": "14707165401475684808"
     },
     "user_tz": -540
    },
    "id": "xXfP_uunMGy-",
    "outputId": "32b27397-a70e-48d8-9d9e-c33a5e86a917"
   },
   "outputs": [
    {
     "name": "stdout",
     "output_type": "stream",
     "text": [
      "tensor([[0.5000],\n",
      "        [0.5000],\n",
      "        [0.5000],\n",
      "        [0.5000],\n",
      "        [0.5000],\n",
      "        [0.5000]], grad_fn=<SigmoidBackward>)\n",
      "torch.Size([6, 1])\n"
     ]
    }
   ],
   "source": [
    "print(hypothesis)          \n",
    "print(hypothesis.shape)"
   ]
  },
  {
   "cell_type": "markdown",
   "metadata": {
    "id": "31nlY5p3MGy_"
   },
   "source": [
    "$$ cost(W) = -\\frac{1}{m} \\sum y \\log\\left(H(x)\\right) + (1-y) \\left( \\log(1-H(x) \\right) $$"
   ]
  },
  {
   "cell_type": "code",
   "execution_count": 16,
   "metadata": {
    "colab": {
     "base_uri": "https://localhost:8080/"
    },
    "executionInfo": {
     "elapsed": 246,
     "status": "ok",
     "timestamp": 1633853012918,
     "user": {
      "displayName": "정재현",
      "photoUrl": "https://lh3.googleusercontent.com/a/default-user=s64",
      "userId": "14707165401475684808"
     },
     "user_tz": -540
    },
    "id": "IVeHS8_QMGzA",
    "outputId": "3d93d402-c389-4c36-caf3-50425e6101b1"
   },
   "outputs": [
    {
     "name": "stdout",
     "output_type": "stream",
     "text": [
      "tensor([[0.5000],\n",
      "        [0.5000],\n",
      "        [0.5000],\n",
      "        [0.5000],\n",
      "        [0.5000],\n",
      "        [0.5000]], grad_fn=<SigmoidBackward>)\n",
      "tensor([[0.],\n",
      "        [0.],\n",
      "        [0.],\n",
      "        [1.],\n",
      "        [1.],\n",
      "        [1.]])\n"
     ]
    }
   ],
   "source": [
    "print(hypothesis)    #  H(x) = P(x =1; W)\n",
    "print(y_train)"
   ]
  },
  {
   "cell_type": "code",
   "execution_count": 17,
   "metadata": {
    "colab": {
     "base_uri": "https://localhost:8080/"
    },
    "executionInfo": {
     "elapsed": 253,
     "status": "ok",
     "timestamp": 1633853082912,
     "user": {
      "displayName": "정재현",
      "photoUrl": "https://lh3.googleusercontent.com/a/default-user=s64",
      "userId": "14707165401475684808"
     },
     "user_tz": -540
    },
    "id": "b9_qHyzPMGzB",
    "outputId": "0bfe60bb-2ef8-4514-db32-3ce84a446b32"
   },
   "outputs": [
    {
     "data": {
      "text/plain": [
       "tensor([0.6931], grad_fn=<NegBackward>)"
      ]
     },
     "execution_count": 17,
     "metadata": {},
     "output_type": "execute_result"
    }
   ],
   "source": [
    "-(y_train[0] * torch.log(hypothesis[0]) + \n",
    "  (1 - y_train[0]) * torch.log(1 - hypothesis[0]))\n",
    "\n",
    "# -ylog(H(x))+(1−y)(log(1−H(x))"
   ]
  },
  {
   "cell_type": "code",
   "execution_count": 18,
   "metadata": {
    "colab": {
     "base_uri": "https://localhost:8080/"
    },
    "executionInfo": {
     "elapsed": 11,
     "status": "ok",
     "timestamp": 1633853084238,
     "user": {
      "displayName": "정재현",
      "photoUrl": "https://lh3.googleusercontent.com/a/default-user=s64",
      "userId": "14707165401475684808"
     },
     "user_tz": -540
    },
    "id": "TSFfPN4bMGzC",
    "outputId": "717e9d76-7cd0-4541-c869-3bfbad40510a"
   },
   "outputs": [
    {
     "name": "stdout",
     "output_type": "stream",
     "text": [
      "tensor([[0.6931],\n",
      "        [0.6931],\n",
      "        [0.6931],\n",
      "        [0.6931],\n",
      "        [0.6931],\n",
      "        [0.6931]], grad_fn=<NegBackward>)\n"
     ]
    }
   ],
   "source": [
    "losses = -(y_train * torch.log(hypothesis) + \n",
    "           (1 - y_train) * torch.log(1 - hypothesis))\n",
    "print(losses)"
   ]
  },
  {
   "cell_type": "code",
   "execution_count": 19,
   "metadata": {
    "colab": {
     "base_uri": "https://localhost:8080/"
    },
    "executionInfo": {
     "elapsed": 372,
     "status": "ok",
     "timestamp": 1633853089347,
     "user": {
      "displayName": "정재현",
      "photoUrl": "https://lh3.googleusercontent.com/a/default-user=s64",
      "userId": "14707165401475684808"
     },
     "user_tz": -540
    },
    "id": "inDqFgMcMGzD",
    "outputId": "81c229d0-e651-4201-80d1-51d48908e619"
   },
   "outputs": [
    {
     "name": "stdout",
     "output_type": "stream",
     "text": [
      "tensor(0.6931, grad_fn=<MeanBackward0>)\n"
     ]
    }
   ],
   "source": [
    "cost = losses.mean()\n",
    "print(cost)"
   ]
  },
  {
   "cell_type": "markdown",
   "metadata": {
    "id": "yqyjJijUMGzE"
   },
   "source": [
    "## Computing the Cost Function with `F.binary_cross_entropy`"
   ]
  },
  {
   "cell_type": "code",
   "execution_count": 21,
   "metadata": {
    "colab": {
     "base_uri": "https://localhost:8080/"
    },
    "executionInfo": {
     "elapsed": 272,
     "status": "ok",
     "timestamp": 1633853115409,
     "user": {
      "displayName": "정재현",
      "photoUrl": "https://lh3.googleusercontent.com/a/default-user=s64",
      "userId": "14707165401475684808"
     },
     "user_tz": -540
    },
    "id": "aIuU3Q7DMGzF",
    "outputId": "f3de3d36-4c5a-44b6-99a8-2093056c9470"
   },
   "outputs": [
    {
     "data": {
      "text/plain": [
       "tensor(0.6931, grad_fn=<BinaryCrossEntropyBackward>)"
      ]
     },
     "execution_count": 21,
     "metadata": {},
     "output_type": "execute_result"
    }
   ],
   "source": [
    "F.binary_cross_entropy(hypothesis, y_train) # binary인 경우 cross entropy 구하는 함수"
   ]
  },
  {
   "cell_type": "markdown",
   "metadata": {
    "id": "_9fKy9waMGzF"
   },
   "source": [
    "## Training with Low-level Binary Cross Entropy Loss"
   ]
  },
  {
   "cell_type": "code",
   "execution_count": 22,
   "metadata": {
    "executionInfo": {
     "elapsed": 320,
     "status": "ok",
     "timestamp": 1633853125466,
     "user": {
      "displayName": "정재현",
      "photoUrl": "https://lh3.googleusercontent.com/a/default-user=s64",
      "userId": "14707165401475684808"
     },
     "user_tz": -540
    },
    "id": "Bpdy4fCgMGzG"
   },
   "outputs": [],
   "source": [
    "x_data = [[1, 2], [2, 3], [3, 1], [4, 3], [5, 3], [6, 2]]\n",
    "y_data = [[0], [0], [0], [1], [1], [1]]\n",
    "x_train = torch.FloatTensor(x_data)\n",
    "y_train = torch.FloatTensor(y_data)"
   ]
  },
  {
   "cell_type": "code",
   "execution_count": 38,
   "metadata": {
    "colab": {
     "base_uri": "https://localhost:8080/"
    },
    "executionInfo": {
     "elapsed": 641,
     "status": "ok",
     "timestamp": 1633853404673,
     "user": {
      "displayName": "정재현",
      "photoUrl": "https://lh3.googleusercontent.com/a/default-user=s64",
      "userId": "14707165401475684808"
     },
     "user_tz": -540
    },
    "id": "8EUNw4mqMGzG",
    "outputId": "bcd031c0-3f52-4ca8-c30f-0341550fc498"
   },
   "outputs": [
    {
     "name": "stdout",
     "output_type": "stream",
     "text": [
      "Epoch    0/1000 Cost: 0.693147\n",
      "Epoch  100/1000 Cost: 0.134722\n",
      "Epoch  200/1000 Cost: 0.080643\n",
      "Epoch  300/1000 Cost: 0.057900\n",
      "Epoch  400/1000 Cost: 0.045300\n",
      "Epoch  500/1000 Cost: 0.037261\n",
      "Epoch  600/1000 Cost: 0.031673\n",
      "Epoch  700/1000 Cost: 0.027556\n",
      "Epoch  800/1000 Cost: 0.024394\n",
      "Epoch  900/1000 Cost: 0.021888\n",
      "Epoch 1000/1000 Cost: 0.019852\n"
     ]
    }
   ],
   "source": [
    "# 모델 초기화\n",
    "W = torch.zeros((2, 1), requires_grad=True)\n",
    "b = torch.zeros(1, requires_grad=True)\n",
    "\n",
    "# optimizer 설정\n",
    "optimizer = optim.SGD([W, b], lr=1)  # Stocastic Gradient Descent\n",
    "\n",
    "nb_epochs = 1000\n",
    "\n",
    "for epoch in range(nb_epochs + 1):\n",
    "\n",
    "    # Cost 계산\n",
    "    hypothesis = torch.sigmoid(x_train.matmul(W) + b) # or .mm or @\n",
    "    cost = -(y_train * torch.log(hypothesis) + \n",
    "             (1 - y_train) * torch.log(1 - hypothesis)).mean()\n",
    "\n",
    "    # cost로 H(x) 개선\n",
    "    optimizer.zero_grad()   # 그래디언트 초기화\n",
    "    cost.backward()         # 역전파 실행\n",
    "    optimizer.step()        # 코스트 값을 최소화하는 방향으로 업데이트\n",
    "\n",
    "    # 100번마다 로그 출력\n",
    "    if epoch % 100 == 0:\n",
    "        print('Epoch {:4d}/{} Cost: {:.6f}'.format(\n",
    "            epoch, nb_epochs, cost.item()\n",
    "        ))"
   ]
  },
  {
   "cell_type": "markdown",
   "metadata": {
    "id": "m1wBwxl6MGzH"
   },
   "source": [
    "## Training with `F.binary_cross_entropy`"
   ]
  },
  {
   "cell_type": "code",
   "execution_count": 39,
   "metadata": {
    "colab": {
     "base_uri": "https://localhost:8080/"
    },
    "executionInfo": {
     "elapsed": 635,
     "status": "ok",
     "timestamp": 1633853410480,
     "user": {
      "displayName": "정재현",
      "photoUrl": "https://lh3.googleusercontent.com/a/default-user=s64",
      "userId": "14707165401475684808"
     },
     "user_tz": -540
    },
    "id": "fzQVguRiMGzH",
    "outputId": "fd487cd8-a235-4edb-dd42-32de9430c062"
   },
   "outputs": [
    {
     "name": "stdout",
     "output_type": "stream",
     "text": [
      "Epoch    0/1000 Cost: 0.693147\n",
      "Epoch  100/1000 Cost: 0.134722\n",
      "Epoch  200/1000 Cost: 0.080643\n",
      "Epoch  300/1000 Cost: 0.057900\n",
      "Epoch  400/1000 Cost: 0.045300\n",
      "Epoch  500/1000 Cost: 0.037261\n",
      "Epoch  600/1000 Cost: 0.031672\n",
      "Epoch  700/1000 Cost: 0.027556\n",
      "Epoch  800/1000 Cost: 0.024394\n",
      "Epoch  900/1000 Cost: 0.021888\n",
      "Epoch 1000/1000 Cost: 0.019852\n"
     ]
    }
   ],
   "source": [
    "# 모델 초기화\n",
    "W = torch.zeros((2, 1), requires_grad=True)\n",
    "b = torch.zeros(1, requires_grad=True)\n",
    "# optimizer 설정\n",
    "optimizer = optim.SGD([W, b], lr=1)\n",
    "\n",
    "nb_epochs = 1000\n",
    "for epoch in range(nb_epochs + 1):\n",
    "\n",
    "    # Cost 계산\n",
    "    hypothesis = torch.sigmoid(x_train.matmul(W) + b) # or .mm or @\n",
    "    cost = F.binary_cross_entropy(hypothesis, y_train)\n",
    "\n",
    "    # cost로 H(x) 개선\n",
    "    optimizer.zero_grad()\n",
    "    cost.backward()\n",
    "    optimizer.step()\n",
    "\n",
    "    # 100번마다 로그 출력\n",
    "    if epoch % 100 == 0:\n",
    "        print('Epoch {:4d}/{} Cost: {:.6f}'.format(\n",
    "            epoch, nb_epochs, cost.item()\n",
    "        ))"
   ]
  },
  {
   "cell_type": "markdown",
   "metadata": {
    "id": "_PjOXNv1MGzI"
   },
   "source": [
    "## Loading Real Data"
   ]
  },
  {
   "cell_type": "code",
   "execution_count": 40,
   "metadata": {
    "executionInfo": {
     "elapsed": 270,
     "status": "ok",
     "timestamp": 1633853418652,
     "user": {
      "displayName": "정재현",
      "photoUrl": "https://lh3.googleusercontent.com/a/default-user=s64",
      "userId": "14707165401475684808"
     },
     "user_tz": -540
    },
    "id": "bNPIizzxMGzI"
   },
   "outputs": [],
   "source": [
    "import numpy as np"
   ]
  },
  {
   "cell_type": "code",
   "execution_count": 41,
   "metadata": {
    "colab": {
     "base_uri": "https://localhost:8080/"
    },
    "executionInfo": {
     "elapsed": 25482,
     "status": "ok",
     "timestamp": 1633853471423,
     "user": {
      "displayName": "정재현",
      "photoUrl": "https://lh3.googleusercontent.com/a/default-user=s64",
      "userId": "14707165401475684808"
     },
     "user_tz": -540
    },
    "id": "2JNlCKsHQPoZ",
    "outputId": "8c3b3068-71c2-431f-ccb4-6477e7b313ed"
   },
   "outputs": [
    {
     "name": "stdout",
     "output_type": "stream",
     "text": [
      "Mounted at /content/drive\n"
     ]
    }
   ],
   "source": [
    "from google.colab import drive\n",
    "drive.mount('/content/drive')"
   ]
  },
  {
   "cell_type": "code",
   "execution_count": 45,
   "metadata": {
    "executionInfo": {
     "elapsed": 664,
     "status": "ok",
     "timestamp": 1633853539851,
     "user": {
      "displayName": "정재현",
      "photoUrl": "https://lh3.googleusercontent.com/a/default-user=s64",
      "userId": "14707165401475684808"
     },
     "user_tz": -540
    },
    "id": "KYBa9O2sMGzJ"
   },
   "outputs": [],
   "source": [
    "xy = np.loadtxt('/content/drive/MyDrive/Pytorch/PyTorch-master/data-03-diabetes.csv', delimiter=',', dtype=np.float32)\n",
    "\n",
    "x_data = xy[:, 0:-1]\n",
    "y_data = xy[:, [-1]]\n",
    "x_train = torch.FloatTensor(x_data)\n",
    "y_train = torch.FloatTensor(y_data)"
   ]
  },
  {
   "cell_type": "code",
   "execution_count": 46,
   "metadata": {
    "colab": {
     "base_uri": "https://localhost:8080/"
    },
    "executionInfo": {
     "elapsed": 268,
     "status": "ok",
     "timestamp": 1633853544301,
     "user": {
      "displayName": "정재현",
      "photoUrl": "https://lh3.googleusercontent.com/a/default-user=s64",
      "userId": "14707165401475684808"
     },
     "user_tz": -540
    },
    "id": "snramXeAMGzJ",
    "outputId": "d0cf3156-15ed-4c4d-abd0-50a0d5b2456f"
   },
   "outputs": [
    {
     "name": "stdout",
     "output_type": "stream",
     "text": [
      "tensor([[-0.2941,  0.4874,  0.1803, -0.2929,  0.0000,  0.0015, -0.5312, -0.0333],\n",
      "        [-0.8824, -0.1457,  0.0820, -0.4141,  0.0000, -0.2072, -0.7669, -0.6667],\n",
      "        [-0.0588,  0.8392,  0.0492,  0.0000,  0.0000, -0.3055, -0.4927, -0.6333],\n",
      "        [-0.8824, -0.1055,  0.0820, -0.5354, -0.7778, -0.1624, -0.9240,  0.0000],\n",
      "        [ 0.0000,  0.3769, -0.3443, -0.2929, -0.6028,  0.2846,  0.8873, -0.6000]])\n",
      "tensor([[0.],\n",
      "        [1.],\n",
      "        [0.],\n",
      "        [1.],\n",
      "        [0.]])\n"
     ]
    }
   ],
   "source": [
    "print(x_train[0:5])\n",
    "print(y_train[0:5])"
   ]
  },
  {
   "cell_type": "markdown",
   "metadata": {
    "id": "GLRr4_8QMGzJ"
   },
   "source": [
    "## Training with Real Data using low-level Binary Cross Entropy Loss"
   ]
  },
  {
   "cell_type": "code",
   "execution_count": 47,
   "metadata": {
    "colab": {
     "base_uri": "https://localhost:8080/"
    },
    "executionInfo": {
     "elapsed": 385,
     "status": "ok",
     "timestamp": 1633853547421,
     "user": {
      "displayName": "정재현",
      "photoUrl": "https://lh3.googleusercontent.com/a/default-user=s64",
      "userId": "14707165401475684808"
     },
     "user_tz": -540
    },
    "id": "2GB2gcq3MGzK",
    "outputId": "48ae5683-c11b-4653-8fab-b7de52c90fa1"
   },
   "outputs": [
    {
     "name": "stdout",
     "output_type": "stream",
     "text": [
      "Epoch    0/100 Cost: 0.693147\n",
      "Epoch   10/100 Cost: 0.572727\n",
      "Epoch   20/100 Cost: 0.539493\n",
      "Epoch   30/100 Cost: 0.519708\n",
      "Epoch   40/100 Cost: 0.507066\n",
      "Epoch   50/100 Cost: 0.498539\n",
      "Epoch   60/100 Cost: 0.492549\n",
      "Epoch   70/100 Cost: 0.488209\n",
      "Epoch   80/100 Cost: 0.484985\n",
      "Epoch   90/100 Cost: 0.482543\n",
      "Epoch  100/100 Cost: 0.480661\n"
     ]
    }
   ],
   "source": [
    "# 모델 초기화\n",
    "W = torch.zeros((8, 1), requires_grad=True)\n",
    "b = torch.zeros(1, requires_grad=True)\n",
    "# optimizer 설정\n",
    "optimizer = optim.SGD([W, b], lr=1)\n",
    "\n",
    "nb_epochs = 100\n",
    "for epoch in range(nb_epochs + 1):\n",
    "\n",
    "    # Cost 계산\n",
    "    hypothesis = torch.sigmoid(x_train.matmul(W) + b) # or .mm or @\n",
    "    cost = -(y_train * torch.log(hypothesis) + (1 - y_train) * torch.log(1 - hypothesis)).mean()\n",
    "\n",
    "    # cost로 H(x) 개선\n",
    "    optimizer.zero_grad()\n",
    "    cost.backward()\n",
    "    optimizer.step()\n",
    "\n",
    "    # 10번마다 로그 출력\n",
    "    if epoch % 10 == 0:\n",
    "        print('Epoch {:4d}/{} Cost: {:.6f}'.format(\n",
    "            epoch, nb_epochs, cost.item()\n",
    "        ))"
   ]
  },
  {
   "cell_type": "markdown",
   "metadata": {
    "id": "zKUXFQN_MGzK"
   },
   "source": [
    "## Training with Real Data using `F.binary_cross_entropy`"
   ]
  },
  {
   "cell_type": "code",
   "execution_count": 48,
   "metadata": {
    "colab": {
     "base_uri": "https://localhost:8080/"
    },
    "executionInfo": {
     "elapsed": 287,
     "status": "ok",
     "timestamp": 1633853551908,
     "user": {
      "displayName": "정재현",
      "photoUrl": "https://lh3.googleusercontent.com/a/default-user=s64",
      "userId": "14707165401475684808"
     },
     "user_tz": -540
    },
    "id": "NkkAGmjxMGzL",
    "outputId": "1e5878a5-1dfa-496e-e60e-2f41ab6134a4"
   },
   "outputs": [
    {
     "name": "stdout",
     "output_type": "stream",
     "text": [
      "Epoch    0/100 Cost: 0.693147\n",
      "Epoch   10/100 Cost: 0.572727\n",
      "Epoch   20/100 Cost: 0.539493\n",
      "Epoch   30/100 Cost: 0.519708\n",
      "Epoch   40/100 Cost: 0.507066\n",
      "Epoch   50/100 Cost: 0.498539\n",
      "Epoch   60/100 Cost: 0.492549\n",
      "Epoch   70/100 Cost: 0.488209\n",
      "Epoch   80/100 Cost: 0.484985\n",
      "Epoch   90/100 Cost: 0.482543\n",
      "Epoch  100/100 Cost: 0.480661\n"
     ]
    }
   ],
   "source": [
    "# 모델 초기화\n",
    "W = torch.zeros((8, 1), requires_grad=True)\n",
    "b = torch.zeros(1, requires_grad=True)\n",
    "# optimizer 설정\n",
    "optimizer = optim.SGD([W, b], lr=1)\n",
    "\n",
    "nb_epochs = 100\n",
    "for epoch in range(nb_epochs + 1):\n",
    "\n",
    "    # Cost 계산\n",
    "    hypothesis = torch.sigmoid(x_train.matmul(W) + b) # or .mm or @\n",
    "    cost = F.binary_cross_entropy(hypothesis, y_train)\n",
    "\n",
    "    # cost로 H(x) 개선\n",
    "    optimizer.zero_grad()\n",
    "    cost.backward()\n",
    "    optimizer.step()\n",
    "\n",
    "    # 10번마다 로그 출력\n",
    "    if epoch % 10 == 0:\n",
    "        print('Epoch {:4d}/{} Cost: {:.6f}'.format(\n",
    "            epoch, nb_epochs, cost.item()\n",
    "        ))"
   ]
  },
  {
   "cell_type": "markdown",
   "metadata": {
    "id": "KS4g2iBBMGzL"
   },
   "source": [
    "## Checking the Accuracy our our Model"
   ]
  },
  {
   "cell_type": "markdown",
   "metadata": {
    "id": "hYgN3xVRMGzM"
   },
   "source": [
    "After we finish training the model, we want to check how well our model fits the training set."
   ]
  },
  {
   "cell_type": "code",
   "execution_count": 49,
   "metadata": {
    "colab": {
     "base_uri": "https://localhost:8080/"
    },
    "executionInfo": {
     "elapsed": 19,
     "status": "ok",
     "timestamp": 1633853554795,
     "user": {
      "displayName": "정재현",
      "photoUrl": "https://lh3.googleusercontent.com/a/default-user=s64",
      "userId": "14707165401475684808"
     },
     "user_tz": -540
    },
    "id": "DB0LCCSvMGzM",
    "outputId": "57abae64-57c4-495c-f842-ec5f604258fe"
   },
   "outputs": [
    {
     "name": "stdout",
     "output_type": "stream",
     "text": [
      "tensor([[0.4103],\n",
      "        [0.9242],\n",
      "        [0.2300],\n",
      "        [0.9411],\n",
      "        [0.1772]], grad_fn=<SliceBackward>)\n"
     ]
    }
   ],
   "source": [
    "hypothesis = torch.sigmoid(x_train.matmul(W) + b)\n",
    "print(hypothesis[:5])"
   ]
  },
  {
   "cell_type": "markdown",
   "metadata": {
    "id": "qqku0Z2MMGzM"
   },
   "source": [
    "We can change **hypothesis** (real number from 0 to 1) to **binary predictions** (either 0 or 1) by comparing them to 0.5."
   ]
  },
  {
   "cell_type": "code",
   "execution_count": 50,
   "metadata": {
    "colab": {
     "base_uri": "https://localhost:8080/"
    },
    "executionInfo": {
     "elapsed": 8,
     "status": "ok",
     "timestamp": 1633853556981,
     "user": {
      "displayName": "정재현",
      "photoUrl": "https://lh3.googleusercontent.com/a/default-user=s64",
      "userId": "14707165401475684808"
     },
     "user_tz": -540
    },
    "id": "SY8QBRiJMGzN",
    "outputId": "2faf4555-7f5c-48d0-bccc-cb33d0930100"
   },
   "outputs": [
    {
     "name": "stdout",
     "output_type": "stream",
     "text": [
      "tensor([[False],\n",
      "        [ True],\n",
      "        [False],\n",
      "        [ True],\n",
      "        [False]])\n"
     ]
    }
   ],
   "source": [
    "prediction = hypothesis >= torch.FloatTensor([0.5])\n",
    "print(prediction[:5])"
   ]
  },
  {
   "cell_type": "markdown",
   "metadata": {
    "id": "lSeplL7aMGzN"
   },
   "source": [
    "Then, we compare it with the correct labels `y_train`."
   ]
  },
  {
   "cell_type": "code",
   "execution_count": 51,
   "metadata": {
    "colab": {
     "base_uri": "https://localhost:8080/"
    },
    "executionInfo": {
     "elapsed": 250,
     "status": "ok",
     "timestamp": 1633853559497,
     "user": {
      "displayName": "정재현",
      "photoUrl": "https://lh3.googleusercontent.com/a/default-user=s64",
      "userId": "14707165401475684808"
     },
     "user_tz": -540
    },
    "id": "eJ2qwtL6MGzN",
    "outputId": "138a94ec-35ea-45f5-f999-fda169eb8139"
   },
   "outputs": [
    {
     "name": "stdout",
     "output_type": "stream",
     "text": [
      "tensor([[False],\n",
      "        [ True],\n",
      "        [False],\n",
      "        [ True],\n",
      "        [False]])\n",
      "tensor([[0.],\n",
      "        [1.],\n",
      "        [0.],\n",
      "        [1.],\n",
      "        [0.]])\n"
     ]
    }
   ],
   "source": [
    "print(prediction[:5])\n",
    "print(y_train[:5])"
   ]
  },
  {
   "cell_type": "code",
   "execution_count": 52,
   "metadata": {
    "colab": {
     "base_uri": "https://localhost:8080/"
    },
    "executionInfo": {
     "elapsed": 241,
     "status": "ok",
     "timestamp": 1633853561146,
     "user": {
      "displayName": "정재현",
      "photoUrl": "https://lh3.googleusercontent.com/a/default-user=s64",
      "userId": "14707165401475684808"
     },
     "user_tz": -540
    },
    "id": "6jJBeVAsMGzO",
    "outputId": "61b0e3f5-22ec-40cd-a323-69c23acef991"
   },
   "outputs": [
    {
     "name": "stdout",
     "output_type": "stream",
     "text": [
      "tensor([[True],\n",
      "        [True],\n",
      "        [True],\n",
      "        [True],\n",
      "        [True]])\n"
     ]
    }
   ],
   "source": [
    "correct_prediction = prediction.float() == y_train\n",
    "print(correct_prediction[:5])"
   ]
  },
  {
   "cell_type": "markdown",
   "metadata": {
    "id": "gMPjuYaqMGzO"
   },
   "source": [
    "Finally, we can calculate the accuracy by counting the number of correct predictions and dividng by total number of predictions."
   ]
  },
  {
   "cell_type": "code",
   "execution_count": 54,
   "metadata": {
    "colab": {
     "base_uri": "https://localhost:8080/"
    },
    "executionInfo": {
     "elapsed": 303,
     "status": "ok",
     "timestamp": 1633853581268,
     "user": {
      "displayName": "정재현",
      "photoUrl": "https://lh3.googleusercontent.com/a/default-user=s64",
      "userId": "14707165401475684808"
     },
     "user_tz": -540
    },
    "id": "HHvnNLOGMGzO",
    "outputId": "d0b4a019-3ac5-49cc-d33d-8713f24d1dcc"
   },
   "outputs": [
    {
     "name": "stdout",
     "output_type": "stream",
     "text": [
      "The model has an accuracy of 76.68% for the training set.\n"
     ]
    }
   ],
   "source": [
    "accuracy = correct_prediction.sum().item() / len(correct_prediction)\n",
    "print('The model has an accuracy of {:2.2f}% for the training set.'.format(accuracy * 100))"
   ]
  },
  {
   "cell_type": "markdown",
   "metadata": {
    "id": "9PpISKDQMGzP"
   },
   "source": [
    "## Optional: High-level Implementation with `nn.Module`"
   ]
  },
  {
   "cell_type": "code",
   "execution_count": 55,
   "metadata": {
    "executionInfo": {
     "elapsed": 4,
     "status": "ok",
     "timestamp": 1633853584032,
     "user": {
      "displayName": "정재현",
      "photoUrl": "https://lh3.googleusercontent.com/a/default-user=s64",
      "userId": "14707165401475684808"
     },
     "user_tz": -540
    },
    "id": "kJHJE_0WMGzP"
   },
   "outputs": [],
   "source": [
    "class BinaryClassifier(nn.Module):\n",
    "    def __init__(self):\n",
    "        super().__init__()\n",
    "        self.linear = nn.Linear(8, 1) #  W와 b를 가지고 있다 각각 사이즈는 d x 1 , 1\n",
    "        self.sigmoid = nn.Sigmoid()\n",
    "\n",
    "    def forward(self, x):\n",
    "        return self.sigmoid(self.linear(x))"
   ]
  },
  {
   "cell_type": "code",
   "execution_count": 62,
   "metadata": {
    "colab": {
     "base_uri": "https://localhost:8080/"
    },
    "executionInfo": {
     "elapsed": 381,
     "status": "ok",
     "timestamp": 1633853762827,
     "user": {
      "displayName": "정재현",
      "photoUrl": "https://lh3.googleusercontent.com/a/default-user=s64",
      "userId": "14707165401475684808"
     },
     "user_tz": -540
    },
    "id": "NSZQ4yuhMGzP",
    "outputId": "4052487f-23ec-4112-b8e5-1717cb106806"
   },
   "outputs": [
    {
     "data": {
      "text/plain": [
       "<bound method Module.parameters of BinaryClassifier(\n",
       "  (linear): Linear(in_features=8, out_features=1, bias=True)\n",
       "  (sigmoid): Sigmoid()\n",
       ")>"
      ]
     },
     "execution_count": 62,
     "metadata": {},
     "output_type": "execute_result"
    }
   ],
   "source": [
    "model = BinaryClassifier()\n",
    "model.parameters"
   ]
  },
  {
   "cell_type": "code",
   "execution_count": 59,
   "metadata": {
    "colab": {
     "base_uri": "https://localhost:8080/"
    },
    "executionInfo": {
     "elapsed": 264,
     "status": "ok",
     "timestamp": 1633853699981,
     "user": {
      "displayName": "정재현",
      "photoUrl": "https://lh3.googleusercontent.com/a/default-user=s64",
      "userId": "14707165401475684808"
     },
     "user_tz": -540
    },
    "id": "sZaoCKMUMGzQ",
    "outputId": "cdc91480-2050-40bb-bff7-5651cef03d1a"
   },
   "outputs": [
    {
     "name": "stdout",
     "output_type": "stream",
     "text": [
      "Epoch    0/100 Cost: 0.691402 Accuracy 55.47%\n",
      "Epoch   10/100 Cost: 0.576110 Accuracy 66.93%\n",
      "Epoch   20/100 Cost: 0.541669 Accuracy 72.33%\n",
      "Epoch   30/100 Cost: 0.521164 Accuracy 76.28%\n",
      "Epoch   40/100 Cost: 0.508066 Accuracy 76.55%\n",
      "Epoch   50/100 Cost: 0.499238 Accuracy 77.08%\n",
      "Epoch   60/100 Cost: 0.493040 Accuracy 77.08%\n",
      "Epoch   70/100 Cost: 0.488553 Accuracy 77.08%\n",
      "Epoch   80/100 Cost: 0.485224 Accuracy 76.42%\n",
      "Epoch   90/100 Cost: 0.482704 Accuracy 76.42%\n",
      "Epoch  100/100 Cost: 0.480765 Accuracy 76.81%\n"
     ]
    }
   ],
   "source": [
    "# optimizer 설정\n",
    "optimizer = optim.SGD(model.parameters(), lr=1)\n",
    "\n",
    "nb_epochs = 100\n",
    "for epoch in range(nb_epochs + 1):\n",
    "\n",
    "    # H(x) 계산\n",
    "    hypothesis = model(x_train)\n",
    "\n",
    "    # cost 계산\n",
    "    cost = F.binary_cross_entropy(hypothesis, y_train)\n",
    "\n",
    "    # cost로 H(x) 개선\n",
    "    optimizer.zero_grad()\n",
    "    cost.backward()\n",
    "    optimizer.step()\n",
    "    \n",
    "    # 20번마다 로그 출력\n",
    "    if epoch % 10 == 0:\n",
    "        prediction = hypothesis >= torch.FloatTensor([0.5])\n",
    "        correct_prediction = prediction.float() == y_train\n",
    "        accuracy = correct_prediction.sum().item() / len(correct_prediction)\n",
    "        print('Epoch {:4d}/{} Cost: {:.6f} Accuracy {:2.2f}%'.format(\n",
    "            epoch, nb_epochs, cost.item(), accuracy * 100,\n",
    "        ))\n"
   ]
  }
 ],
 "metadata": {
  "colab": {
   "collapsed_sections": [],
   "name": "lab-05_logistic_classification_JeongJaeHyun.ipynb",
   "provenance": []
  },
  "kernelspec": {
   "display_name": "Python 3 (ipykernel)",
   "language": "python",
   "name": "python3"
  },
  "language_info": {
   "codemirror_mode": {
    "name": "ipython",
    "version": 3
   },
   "file_extension": ".py",
   "mimetype": "text/x-python",
   "name": "python",
   "nbconvert_exporter": "python",
   "pygments_lexer": "ipython3",
   "version": "3.8.5"
  }
 },
 "nbformat": 4,
 "nbformat_minor": 1
}
