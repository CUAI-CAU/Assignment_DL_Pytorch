{
  "nbformat": 4,
  "nbformat_minor": 0,
  "metadata": {
    "kernelspec": {
      "display_name": "Python 3",
      "language": "python",
      "name": "python3"
    },
    "language_info": {
      "codemirror_mode": {
        "name": "ipython",
        "version": 3
      },
      "file_extension": ".py",
      "mimetype": "text/x-python",
      "name": "python",
      "nbconvert_exporter": "python",
      "pygments_lexer": "ipython3",
      "version": "3.6.5"
    },
    "colab": {
      "name": "lab-11_6_PackedSequence.ipynb",
      "provenance": []
    }
  },
  "cells": [
    {
      "cell_type": "markdown",
      "metadata": {
        "id": "syAmfuNNRv0t"
      },
      "source": [
        "# PackedSequence 와 PaddedSequence\n",
        "\n",
        "[링크: PackedSequence에 대한 PyTorch 공식 문서](https://pytorch.org/docs/stable/nn.html#packedsequence)\n",
        "\n",
        "이 튜토리얼에서는 RNN / LSTM 계열의 모델에서 sequence batch를 잘 활용할 수 있는 `PackedSequence` 와 `PaddedSequence`를 만드는 법을 배워보겠습니다.\n",
        "\n",
        "PyTorch 라이브러리 안에는 다음 4가지 함수들이 주어집니다.\n",
        "\n",
        "`pad_sequence`, `pack_sequence`, `pack_padded_sequence`, `pad_packed_sequence`\n",
        "\n",
        "하지만 함수 이름만 봐서는 상당히 헷갈릴 수 있기 때문에 다음 그림을 참고하시면 이해하기 편하실 것 같습니다."
      ]
    },
    {
      "cell_type": "markdown",
      "metadata": {
        "id": "N0lfsdiARv0w"
      },
      "source": [
        "<img src=\"figures/sequence.png\" alt=\"drawing\" width=\"700\"/>"
      ]
    },
    {
      "cell_type": "code",
      "metadata": {
        "id": "hQUahEDmRv0x"
      },
      "source": [
        "import torch\n",
        "import numpy as np\n",
        "from torch.nn.utils.rnn import pad_sequence, pack_sequence, pack_padded_sequence, pad_packed_sequence"
      ],
      "execution_count": 1,
      "outputs": []
    },
    {
      "cell_type": "markdown",
      "metadata": {
        "id": "VGyPwhh7Rv0z"
      },
      "source": [
        "## 예제 데이터\n",
        "\n",
        "실습을 위해 간단한 예제 데이터를 만들었습니다.\n",
        "여기서 잘 기억하셔야할 점은 batch size가 5이고, sequence 중 가장 긴 길이는 13라는 것 입니다."
      ]
    },
    {
      "cell_type": "code",
      "metadata": {
        "scrolled": true,
        "colab": {
          "base_uri": "https://localhost:8080/"
        },
        "id": "GrtYXTHhRv00",
        "outputId": "759ddb27-2f29-4f10-9212-7e6ad60d8852"
      },
      "source": [
        "# Random word from random word generator\n",
        "data = ['hello world',\n",
        "        'midnight',\n",
        "        'calculation',\n",
        "        'path',\n",
        "        'short circuit']\n",
        "\n",
        "# Make dictionary\n",
        "char_set = ['<pad>'] + list(set(char for seq in data for char in seq)) # Get all characters and include pad token\n",
        "char2idx = {char: idx for idx, char in enumerate(char_set)} # Constuct character to index dictionary\n",
        "print('char_set:', char_set)\n",
        "print('char_set length:', len(char_set))"
      ],
      "execution_count": 2,
      "outputs": [
        {
          "output_type": "stream",
          "name": "stdout",
          "text": [
            "char_set: ['<pad>', 'n', 'i', 's', 'a', 'u', 'p', 'l', 'g', 'c', 't', 'm', ' ', 'o', 'h', 'r', 'd', 'w', 'e']\n",
            "char_set length: 19\n"
          ]
        }
      ]
    },
    {
      "cell_type": "code",
      "metadata": {
        "colab": {
          "base_uri": "https://localhost:8080/"
        },
        "id": "ddD4ph23Rv02",
        "outputId": "b0ba8781-a3c0-42f9-cc5d-395b1f23dd5c"
      },
      "source": [
        "# Convert character to index and make list of tensors\n",
        "X = [torch.LongTensor([char2idx[char] for char in seq]) for seq in data]\n",
        "\n",
        "# Check converted result\n",
        "for sequence in X:\n",
        "    print(sequence)"
      ],
      "execution_count": 3,
      "outputs": [
        {
          "output_type": "stream",
          "name": "stdout",
          "text": [
            "tensor([14, 18,  7,  7, 13, 12, 17, 13, 15,  7, 16])\n",
            "tensor([11,  2, 16,  1,  2,  8, 14, 10])\n",
            "tensor([ 9,  4,  7,  9,  5,  7,  4, 10,  2, 13,  1])\n",
            "tensor([ 6,  4, 10, 14])\n",
            "tensor([ 3, 14, 13, 15, 10, 12,  9,  2, 15,  9,  5,  2, 10])\n"
          ]
        }
      ]
    },
    {
      "cell_type": "markdown",
      "metadata": {
        "id": "ZYyVY3JmRv02"
      },
      "source": [
        "다음과 같이 sequence의 길이가 제각각인 것을 확인하실 수 있습니다."
      ]
    },
    {
      "cell_type": "code",
      "metadata": {
        "colab": {
          "base_uri": "https://localhost:8080/"
        },
        "id": "8R_6pmC0Rv03",
        "outputId": "e81cecdb-5bab-4482-c6bf-dceeac41d690"
      },
      "source": [
        "# Make length tensor (will be used later in 'pack_padded_sequence' function)\n",
        "lengths = [len(seq) for seq in X]\n",
        "print('lengths:', lengths)"
      ],
      "execution_count": 4,
      "outputs": [
        {
          "output_type": "stream",
          "name": "stdout",
          "text": [
            "lengths: [11, 8, 11, 4, 13]\n"
          ]
        }
      ]
    },
    {
      "cell_type": "markdown",
      "metadata": {
        "id": "sBh8ihW8Rv03"
      },
      "source": [
        "# Sequence 데이터의 경우 어떻게 batch로 묶을까요?\n",
        "위와같이 Text 나 audio 처럼 sequence 형식인 데이터의 경우 길이가 각각 다 다르기 때문에 \n",
        "\n",
        "하나의 batch로 만들어주기 위해서 일반적으로 제일 긴 sequence 길이에 맞춰 뒷부분에 padding을 추가해줍니다.\n",
        "\n",
        "이 방식이 일반적으로 많이 쓰이는 Padding 방식입니다.\n",
        "\n",
        "하지만 PyTorch에서는 `PackedSequence`라는 것을 쓰면 padding 없이도 정확히 필요한 부분까지만 병렬 계산을 할 수 있습니다."
      ]
    },
    {
      "cell_type": "markdown",
      "metadata": {
        "id": "y3TimvsORv04"
      },
      "source": [
        "# `pad_sequence` 함수를 이용하여 PaddedSequence (그냥 Tensor) 만들기\n",
        "\n",
        "사실, PaddedSequence는 sequence중에서 가장 긴 sequence와 길이를 맞추어주기 위해 padding을 추가한 일반적인 **Tensor**를 말합니다.\n",
        "\n",
        "(따로 PaddedSequence라는 class는 존재하지 않습니다.)\n",
        "\n",
        "이때, `pad_sequence`라는 PyTorch 기본 라이브러리 함수를 이용하면 쉽게 padding을 추가할 수 있습니다.\n",
        "\n",
        "여기서 주의하실 점은 input이 **Tensor들의 list** 로 주어져야합니다. (그냥 **Tensor** 가 아닌 **Tensor들의 list** 입니다.)\n",
        "\n",
        "list 안에 있는 각각의 Tensor들의 shape가 `(?, a, b, ...)` 라고 할때, (여기서 ?는 각각 다른 sequence length 입니다.)\n",
        "\n",
        "`pad_sequence` 함수를 쓰면 `(T, batch_size, a, b, ...)` shape를 가지는 Tensor가 리턴됩니다. \n",
        "(여기서 `T`는 batch안에서 가장 큰 sequence length 입니다.)\n",
        "\n",
        "만약, `pad_sequence`에 명시적으로 `batch_first=True`라는 파라미터를 지정해주면, \n",
        "\n",
        "`(batch_size, T, a, b, ...)` shape를 가지는 Tensor가 리턴됩니다. \n",
        "\n",
        "기본적으로 padding 값은 0으로 되어있지만, `padding_value=42`와 같이 파라미터를 지정해주면, padding하는 값도 정할 수 있습니다."
      ]
    },
    {
      "cell_type": "code",
      "metadata": {
        "colab": {
          "base_uri": "https://localhost:8080/"
        },
        "id": "4OO7z42cRv05",
        "outputId": "563e9b39-84a3-47f0-cecc-8103980f9723"
      },
      "source": [
        "# Make a Tensor of shape (Batch x Maximum_Sequence_Length)\n",
        "padded_sequence = pad_sequence(X, batch_first=True) # X is now padded sequence\n",
        "print(padded_sequence)\n",
        "print(padded_sequence.shape)"
      ],
      "execution_count": 5,
      "outputs": [
        {
          "output_type": "stream",
          "name": "stdout",
          "text": [
            "tensor([[14, 18,  7,  7, 13, 12, 17, 13, 15,  7, 16,  0,  0],\n",
            "        [11,  2, 16,  1,  2,  8, 14, 10,  0,  0,  0,  0,  0],\n",
            "        [ 9,  4,  7,  9,  5,  7,  4, 10,  2, 13,  1,  0,  0],\n",
            "        [ 6,  4, 10, 14,  0,  0,  0,  0,  0,  0,  0,  0,  0],\n",
            "        [ 3, 14, 13, 15, 10, 12,  9,  2, 15,  9,  5,  2, 10]])\n",
            "torch.Size([5, 13])\n"
          ]
        }
      ]
    },
    {
      "cell_type": "markdown",
      "metadata": {
        "id": "5YXGzhC7Rv06"
      },
      "source": [
        "# `pack_sequence` 함수를 이용하여 PackedSequence 만들기\n",
        "\n",
        "PackedSequence는 위와같이 padding token을 추가하여 sequence의 최대 길이에 맞는 Tensor를 만드는게 아닌,\n",
        "\n",
        "padding을 추가하지 않고 정확히 주어진 sequence 길이까지만 모델이 연산을 하게끔 만드는 PyTorch의 자료구조입니다.\n",
        "\n",
        "이 PackedSequence를 만들기 위해서는 한가지 조건이 필요합니다.\n",
        "- **주어지는 input (list of Tensor)는 길이에 따른 내림차순으로 정렬이 되어있어야 합니다.**\n",
        "\n",
        "따라서 먼저 input을 길이에 따른 내림차순으로 정렬해봅시다."
      ]
    },
    {
      "cell_type": "code",
      "metadata": {
        "colab": {
          "base_uri": "https://localhost:8080/"
        },
        "id": "dysskbi5Rv07",
        "outputId": "5e4fe17e-220b-4f19-fe89-751be163acb5"
      },
      "source": [
        "# Sort by descending lengths\n",
        "sorted_idx = sorted(range(len(lengths)), key=lengths.__getitem__, reverse=True)\n",
        "sorted_X = [X[idx] for idx in sorted_idx]\n",
        "\n",
        "# Check converted result\n",
        "for sequence in sorted_X:\n",
        "    print(sequence)"
      ],
      "execution_count": 6,
      "outputs": [
        {
          "output_type": "stream",
          "name": "stdout",
          "text": [
            "tensor([ 3, 14, 13, 15, 10, 12,  9,  2, 15,  9,  5,  2, 10])\n",
            "tensor([14, 18,  7,  7, 13, 12, 17, 13, 15,  7, 16])\n",
            "tensor([ 9,  4,  7,  9,  5,  7,  4, 10,  2, 13,  1])\n",
            "tensor([11,  2, 16,  1,  2,  8, 14, 10])\n",
            "tensor([ 6,  4, 10, 14])\n"
          ]
        }
      ]
    },
    {
      "cell_type": "markdown",
      "metadata": {
        "id": "NNL83bU-Rv07"
      },
      "source": [
        "자, 이제 input Tensor가 정렬되었으니 `pack_sequence`를 이용하여 PackedSequence를 만들어보겠습니다."
      ]
    },
    {
      "cell_type": "code",
      "metadata": {
        "colab": {
          "base_uri": "https://localhost:8080/"
        },
        "id": "yNL6-TBHRv08",
        "outputId": "467fbcf0-851a-47a9-fddc-c5896551a31d"
      },
      "source": [
        "packed_sequence = pack_sequence(sorted_X)\n",
        "print(packed_sequence)"
      ],
      "execution_count": 7,
      "outputs": [
        {
          "output_type": "stream",
          "name": "stdout",
          "text": [
            "PackedSequence(data=tensor([ 3, 14,  9, 11,  6, 14, 18,  4,  2,  4, 13,  7,  7, 16, 10, 15,  7,  9,\n",
            "         1, 14, 10, 13,  5,  2, 12, 12,  7,  8,  9, 17,  4, 14,  2, 13, 10, 10,\n",
            "        15, 15,  2,  9,  7, 13,  5, 16,  1,  2, 10]), batch_sizes=tensor([5, 5, 5, 5, 4, 4, 4, 4, 3, 3, 3, 1, 1]), sorted_indices=None, unsorted_indices=None)\n"
          ]
        }
      ]
    },
    {
      "cell_type": "markdown",
      "metadata": {
        "id": "v129WujrRv09"
      },
      "source": [
        "# Embedding 적용해보기\n",
        "자 이제, `PackedSequence`와 padding이 된 Tensor인 `PaddedSequence`를 만들어보았으니, RNN에 input으로 넣어서 테스트해보려고 합니다.\n",
        "\n",
        "그 전에, 위에 예제들에서는 input이 character의 index들을 가지고 있는 데이터였지만, 보통은 주로 이를 embedding한 값을 RNN의 input으로 넣어줍니다.\n",
        "\n",
        "이 튜토리얼에서는 one-hot character embedding을 해보도록 하겠습니다."
      ]
    },
    {
      "cell_type": "code",
      "metadata": {
        "colab": {
          "base_uri": "https://localhost:8080/"
        },
        "id": "E5E20Q5_Rv09",
        "outputId": "db7ea9b5-da49-48c8-a6e1-55e759656e86"
      },
      "source": [
        "# one-hot embedding using PaddedSequence\n",
        "eye = torch.eye(len(char_set)) # Identity matrix of shape (len(char_set), len(char_set))\n",
        "embedded_tensor = eye[padded_sequence]\n",
        "print(embedded_tensor.shape) # shape: (Batch_size, max_sequence_length, number_of_input_tokens)"
      ],
      "execution_count": 8,
      "outputs": [
        {
          "output_type": "stream",
          "name": "stdout",
          "text": [
            "torch.Size([5, 13, 19])\n"
          ]
        }
      ]
    },
    {
      "cell_type": "code",
      "metadata": {
        "colab": {
          "base_uri": "https://localhost:8080/"
        },
        "id": "-ATeraHLRv0-",
        "outputId": "eca081cf-909a-40c9-aca4-d91258a161d4"
      },
      "source": [
        "# one-hot embedding using PackedSequence\n",
        "embedded_packed_seq = pack_sequence([eye[X[idx]] for idx in sorted_idx])\n",
        "print(embedded_packed_seq.data.shape)"
      ],
      "execution_count": 9,
      "outputs": [
        {
          "output_type": "stream",
          "name": "stdout",
          "text": [
            "torch.Size([47, 19])\n"
          ]
        }
      ]
    },
    {
      "cell_type": "markdown",
      "metadata": {
        "id": "hiV2PPJfRv0_"
      },
      "source": [
        "# RNN 모델 만들기\n",
        "간단한 RNN 모델을 한번 만들어봅시다."
      ]
    },
    {
      "cell_type": "code",
      "metadata": {
        "id": "TdrSDprwRv0_"
      },
      "source": [
        "# declare RNN\n",
        "rnn = torch.nn.RNN(input_size=len(char_set), hidden_size=30, batch_first=True)"
      ],
      "execution_count": 10,
      "outputs": []
    },
    {
      "cell_type": "markdown",
      "metadata": {
        "id": "iivv00vCRv1A"
      },
      "source": [
        "`PaddedSequence`를 이용하여 RNN에 넣어봅시다."
      ]
    },
    {
      "cell_type": "code",
      "metadata": {
        "colab": {
          "base_uri": "https://localhost:8080/"
        },
        "id": "-1bR4M6mRv1A",
        "outputId": "16f8cdce-8e79-48ee-f874-1cec29f0bdfa"
      },
      "source": [
        "rnn_output, hidden = rnn(embedded_tensor)\n",
        "print(rnn_output.shape) # shape: (batch_size, max_seq_length, hidden_size)\n",
        "print(hidden.shape)     # shape: (num_layers * num_directions, batch_size, hidden_size)"
      ],
      "execution_count": 11,
      "outputs": [
        {
          "output_type": "stream",
          "name": "stdout",
          "text": [
            "torch.Size([5, 13, 30])\n",
            "torch.Size([1, 5, 30])\n"
          ]
        }
      ]
    },
    {
      "cell_type": "markdown",
      "metadata": {
        "id": "F32jyyt3Rv1C"
      },
      "source": [
        "`PackedSequence`를 이용하여 RNN에 넣어봅시다."
      ]
    },
    {
      "cell_type": "code",
      "metadata": {
        "colab": {
          "base_uri": "https://localhost:8080/"
        },
        "id": "8mfg5HtaRv1C",
        "outputId": "9672cbb7-9bec-4623-e562-67692a75b34c"
      },
      "source": [
        "rnn_output, hidden = rnn(embedded_packed_seq)\n",
        "print(rnn_output.data.shape)\n",
        "print(hidden.data.shape)"
      ],
      "execution_count": 12,
      "outputs": [
        {
          "output_type": "stream",
          "name": "stdout",
          "text": [
            "torch.Size([47, 30])\n",
            "torch.Size([1, 5, 30])\n"
          ]
        }
      ]
    },
    {
      "cell_type": "markdown",
      "metadata": {
        "id": "hgm9SU8bRv1D"
      },
      "source": [
        "# `pad_packed_sequence`\n",
        "\n",
        "위 함수는 `PackedSequence`를 `PaddedSequence`(Tensor)로 바꾸어주는 함수입니다.\n",
        "\n",
        "`PackedSequence`는 각 sequence에 대한 길이 정보도 가지고있기 때문에, 이 함수는 Tensor와 함께 길이에 대한 리스트를 튜플로 리턴해줍니다.\n",
        "\n",
        "리턴값: (Tensor, list_of_lengths)"
      ]
    },
    {
      "cell_type": "code",
      "metadata": {
        "colab": {
          "base_uri": "https://localhost:8080/"
        },
        "id": "zWkaCqQCRv1D",
        "outputId": "69c7dad8-acdc-4135-eb61-8e061d93084b"
      },
      "source": [
        "unpacked_sequence, seq_lengths = pad_packed_sequence(embedded_packed_seq, batch_first=True)\n",
        "print(unpacked_sequence.shape)\n",
        "print(seq_lengths)"
      ],
      "execution_count": 13,
      "outputs": [
        {
          "output_type": "stream",
          "name": "stdout",
          "text": [
            "torch.Size([5, 13, 19])\n",
            "tensor([13, 11, 11,  8,  4])\n"
          ]
        }
      ]
    },
    {
      "cell_type": "markdown",
      "metadata": {
        "id": "6JaO23fvRv1E"
      },
      "source": [
        "# `pack_padded_sequence`\n",
        "반대로, Padding이 된 Tensor인 `PaddedSequence`를 `PackedSequence`로 바꾸어주는 함수도 있습니다.\n",
        "\n",
        "`pack_padded_sequence` 함수는 실제 sequence길이에 대한 정보를 모르기때문에, 파라미터로 꼭 제공해주어야합니다.\n",
        "\n",
        "여기서 주의하여야 할 점은, input인 `PaddedSequence`가 아까 언급드린 **길이에 따른 내림차순으로 정렬되어야 한다는** 조건이 성립되어야 `PackedSequence`로 올바르게 변환될 수 있습니다.\n",
        "\n",
        "아까 저희가 만든 `padded_sequence` 변수는 이 조건을 만족하지 않기 때문에 다시 새로 만들어보겠습니다."
      ]
    },
    {
      "cell_type": "code",
      "metadata": {
        "colab": {
          "base_uri": "https://localhost:8080/"
        },
        "id": "e_6OR0pERv1E",
        "outputId": "536d71eb-a76d-4c15-c03d-2ce113ee982e"
      },
      "source": [
        "embedded_padded_sequence = eye[pad_sequence(sorted_X, batch_first=True)]\n",
        "print(embedded_padded_sequence.shape)"
      ],
      "execution_count": 14,
      "outputs": [
        {
          "output_type": "stream",
          "name": "stdout",
          "text": [
            "torch.Size([5, 13, 19])\n"
          ]
        }
      ]
    },
    {
      "cell_type": "markdown",
      "metadata": {
        "id": "3Y0N31isRv1F"
      },
      "source": [
        "이제 이 padding이 된 Tensor를 `PackedSequence`로 변환해보겠습니다."
      ]
    },
    {
      "cell_type": "code",
      "metadata": {
        "colab": {
          "base_uri": "https://localhost:8080/"
        },
        "id": "g0lH0gGRRv1F",
        "outputId": "10bd1132-4851-4a7b-9195-aeb878a25d1a"
      },
      "source": [
        "sorted_lengths = sorted(lengths, reverse=True)\n",
        "new_packed_sequence = pack_padded_sequence(embedded_padded_sequence, sorted_lengths, batch_first=True)\n",
        "print(new_packed_sequence.data.shape)\n",
        "print(new_packed_sequence.batch_sizes)"
      ],
      "execution_count": 15,
      "outputs": [
        {
          "output_type": "stream",
          "name": "stdout",
          "text": [
            "torch.Size([47, 19])\n",
            "tensor([5, 5, 5, 5, 4, 4, 4, 4, 3, 3, 3, 1, 1])\n"
          ]
        }
      ]
    }
  ]
}