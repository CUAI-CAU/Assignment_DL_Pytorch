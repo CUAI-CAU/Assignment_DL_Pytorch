{
 "cells": [
  {
   "cell_type": "code",
   "execution_count": 1,
   "id": "7983057f",
   "metadata": {},
   "outputs": [],
   "source": [
    "import torch\n",
    "import numpy as np\n",
    "from torch.nn.utils.rnn import pad_sequence, pack_sequence, pack_padded_sequence, pad_packed_sequence"
   ]
  },
  {
   "cell_type": "markdown",
   "id": "7237fe72",
   "metadata": {},
   "source": [
    "### 다음은 예제 데이터이다. \n",
    "#### batch_size는 5이고, sequence 중 가장 긴 길이는 13이다."
   ]
  },
  {
   "cell_type": "code",
   "execution_count": 2,
   "id": "0c27c30f",
   "metadata": {},
   "outputs": [
    {
     "name": "stdout",
     "output_type": "stream",
     "text": [
      "char_set: ['<pad>', 'n', 's', 'o', ' ', 'w', 'u', 'l', 'd', 'i', 'g', 'a', 'p', 't', 'm', 'e', 'r', 'c', 'h']\n",
      "char_set length: 19\n"
     ]
    }
   ],
   "source": [
    "# Random word from random word generator\n",
    "data = ['hello world',\n",
    "        'midnight',\n",
    "        'calculation',\n",
    "        'path',\n",
    "        'short circuit']\n",
    "\n",
    "# Make dictionary\n",
    "char_set = ['<pad>'] + list(set(char for seq in data for char in seq)) # Get all characters and include pad token\n",
    "char2idx = {char: idx for idx, char in enumerate(char_set)} # Constuct character to index dictionary\n",
    "print('char_set:', char_set)\n",
    "print('char_set length:', len(char_set))"
   ]
  },
  {
   "cell_type": "code",
   "execution_count": 3,
   "id": "fb84f435",
   "metadata": {},
   "outputs": [
    {
     "name": "stdout",
     "output_type": "stream",
     "text": [
      "tensor([18, 15,  7,  7,  3,  4,  5,  3, 16,  7,  8])\n",
      "tensor([14,  9,  8,  1,  9, 10, 18, 13])\n",
      "tensor([17, 11,  7, 17,  6,  7, 11, 13,  9,  3,  1])\n",
      "tensor([12, 11, 13, 18])\n",
      "tensor([ 2, 18,  3, 16, 13,  4, 17,  9, 16, 17,  6,  9, 13])\n"
     ]
    }
   ],
   "source": [
    "# Convert character to index and make list of tensors\n",
    "X = [torch.LongTensor([char2idx[char] for char in seq]) for seq in data]\n",
    "\n",
    "# Check converted result\n",
    "for sequence in X:\n",
    "    print(sequence)"
   ]
  },
  {
   "cell_type": "markdown",
   "id": "c2dca0c0",
   "metadata": {},
   "source": [
    "다음과 같이 sequence의 길이가 제각각이다."
   ]
  },
  {
   "cell_type": "code",
   "execution_count": 4,
   "id": "b3940811",
   "metadata": {},
   "outputs": [
    {
     "name": "stdout",
     "output_type": "stream",
     "text": [
      "lengths: [11, 8, 11, 4, 13]\n"
     ]
    }
   ],
   "source": [
    "# Make length tensor (will be used later in 'pack_padded_sequence' function)\n",
    "lengths = [len(seq) for seq in X]\n",
    "print('lengths:', lengths)"
   ]
  },
  {
   "cell_type": "markdown",
   "id": "1fbdb99a",
   "metadata": {},
   "source": [
    "위와 같이 Text나 audio 처럼 sequence 형식인 경우 길이가 각각 다르기 때문에,\n",
    "하나의 batch로 만들기 위해 일반적으로 가장 긴 sequence 길이에 맞춰 뒷부분에 padding을 추가합니다.\n",
    "이 방식이 일반적으로 많이 쓰이는 Padding 방식입니다.\n",
    "하지만 pytorch에서는 PackedSequence라는 것을 쓰면 padding 없이도 정확히 필요한 부분까지만 병렬계산을 할 수 있습니다."
   ]
  },
  {
   "cell_type": "markdown",
   "id": "77c564fe",
   "metadata": {},
   "source": [
    "PaddedSequence는 sequence중에서 가장 긴 sequence와 길이를 맞추어주기 위해 padding을 추가한 일반적인 Tensor를 말합니다.  \n",
    "이 때, pad_sequence라는 pytorch 기본 라이브러리 함수를 이용하면 쉽게 padding을 추가할 수 있습니다.  \n",
    "여기서 주의할 점은, Input이 Tensor들의 list로 주어져야한다는 것입니다.  \n",
    "list 안에 있는 각각의 Tensor들의 shape가 (?, a, b, ...) 라고 할때, (여기서 ?는 각각 다른 sequence length 입니다.)  \n",
    "pad_sequence 함수를 쓰면 (T, batch_size, a, b, ...) shape를 가지는 Tensor가 리턴됩니다. (여기서 T는 batch안에서 가장 큰 sequence length 입니다.)  \n",
    "만약, pad_sequence에 명시적으로 batch_first=True라는 파라미터를 지정해주면,  \n",
    "(batch_size, T, a, b, ...) shape를 가지는 Tensor가 리턴됩니다.  \n",
    "기본적으로 padding 값은 0으로 되어있지만, padding_value=42와 같이 파라미터를 지정해주면, padding하는 값도 정할 수 있습니다."
   ]
  },
  {
   "cell_type": "code",
   "execution_count": 6,
   "id": "b9323a9d",
   "metadata": {},
   "outputs": [
    {
     "name": "stdout",
     "output_type": "stream",
     "text": [
      "tensor([[18, 15,  7,  7,  3,  4,  5,  3, 16,  7,  8,  0,  0],\n",
      "        [14,  9,  8,  1,  9, 10, 18, 13,  0,  0,  0,  0,  0],\n",
      "        [17, 11,  7, 17,  6,  7, 11, 13,  9,  3,  1,  0,  0],\n",
      "        [12, 11, 13, 18,  0,  0,  0,  0,  0,  0,  0,  0,  0],\n",
      "        [ 2, 18,  3, 16, 13,  4, 17,  9, 16, 17,  6,  9, 13]])\n",
      "torch.Size([5, 13])\n"
     ]
    }
   ],
   "source": [
    "# Make a Tensor of shape (Batch x Maximum_Sequence_Length)\n",
    "padded_sequence = pad_sequence(X, batch_first=True) # X is now padded sequence\n",
    "print(padded_sequence)\n",
    "print(padded_sequence.shape)"
   ]
  },
  {
   "cell_type": "markdown",
   "id": "c1086db5",
   "metadata": {},
   "source": [
    "PackedSequence는 위와같이 padding token을 추가하여 sequence의 최대 길이에 맞는 Tensor를 만드는게 아닌,  \n",
    "padding을 추가하지 않고 정확히 주어진 sequence 길이까지만 모델이 연산을 하게끔 만드는 PyTorch의 자료구조입니다.  \n",
    "이 PackedSequence를 만들기 위해서는 한가지 조건이 필요합니다.  \n",
    "주어지는 input (list of Tensor)는 길이에 따른 내림차순으로 정렬이 되어있어야 합니다.  \n",
    "따라서 먼저 input을 길이에 따른 내림차순으로 정렬해봅시다."
   ]
  },
  {
   "cell_type": "code",
   "execution_count": 7,
   "id": "060cf528",
   "metadata": {},
   "outputs": [
    {
     "name": "stdout",
     "output_type": "stream",
     "text": [
      "tensor([ 2, 18,  3, 16, 13,  4, 17,  9, 16, 17,  6,  9, 13])\n",
      "tensor([18, 15,  7,  7,  3,  4,  5,  3, 16,  7,  8])\n",
      "tensor([17, 11,  7, 17,  6,  7, 11, 13,  9,  3,  1])\n",
      "tensor([14,  9,  8,  1,  9, 10, 18, 13])\n",
      "tensor([12, 11, 13, 18])\n"
     ]
    }
   ],
   "source": [
    "# Sort by descending lengths\n",
    "sorted_idx = sorted(range(len(lengths)), key=lengths.__getitem__, reverse=True)\n",
    "sorted_X = [X[idx] for idx in sorted_idx]\n",
    "\n",
    "# Check converted result\n",
    "for sequence in sorted_X:\n",
    "    print(sequence)"
   ]
  },
  {
   "cell_type": "markdown",
   "id": "4fed3f8f",
   "metadata": {},
   "source": [
    "이제 input Tensor가 정렬되었으니, pack_sequence를 이용하여 PackedSequence를 만들어봅시다."
   ]
  },
  {
   "cell_type": "code",
   "execution_count": 8,
   "id": "6103dcd5",
   "metadata": {},
   "outputs": [
    {
     "name": "stdout",
     "output_type": "stream",
     "text": [
      "PackedSequence(data=tensor([ 2, 18, 17, 14, 12, 18, 15, 11,  9, 11,  3,  7,  7,  8, 13, 16,  7, 17,\n",
      "         1, 18, 13,  3,  6,  9,  4,  4,  7, 10, 17,  5, 11, 18,  9,  3, 13, 13,\n",
      "        16, 16,  9, 17,  7,  3,  6,  8,  1,  9, 13]), batch_sizes=tensor([5, 5, 5, 5, 4, 4, 4, 4, 3, 3, 3, 1, 1]), sorted_indices=None, unsorted_indices=None)\n"
     ]
    }
   ],
   "source": [
    "packed_sequence = pack_sequence(sorted_X)\n",
    "print(packed_sequence)"
   ]
  },
  {
   "cell_type": "markdown",
   "id": "36aa3695",
   "metadata": {},
   "source": [
    "### Embedding 적용해보기"
   ]
  },
  {
   "cell_type": "markdown",
   "id": "84a5c93b",
   "metadata": {},
   "source": [
    "자 이제, PackedSequence와 padding이 된 Tensor인 PaddedSequence를 만들어보았으니, RNN에 input으로 넣어서 테스트해보려고 합니다.  \n",
    "그 전에, 위에 예제들에서는 input이 character의 index들을 가지고 있는 데이터였지만, 보통은 주로 이를 embedding한 값을 RNN의 input으로 넣어줍니다.  \n",
    "이 튜토리얼에서는 one-hot character embedding을 해보도록 하겠습니다."
   ]
  },
  {
   "cell_type": "code",
   "execution_count": 10,
   "id": "f206fcbb",
   "metadata": {},
   "outputs": [
    {
     "name": "stdout",
     "output_type": "stream",
     "text": [
      "torch.Size([5, 13, 19])\n"
     ]
    }
   ],
   "source": [
    "# one-hot embedding using PaddedSequence\n",
    "eye = torch.eye(len(char_set)) # Identity matrix of shape (len(char_set), len(char_set))\n",
    "embedded_tensor = eye[padded_sequence]\n",
    "print(embedded_tensor.shape) # shape: (Batch_size, max_sequence_length, number_of_input_tokens)"
   ]
  },
  {
   "cell_type": "code",
   "execution_count": 11,
   "id": "79d4fa28",
   "metadata": {},
   "outputs": [
    {
     "name": "stdout",
     "output_type": "stream",
     "text": [
      "torch.Size([47, 19])\n"
     ]
    }
   ],
   "source": [
    "# one-hot embedding using PackedSequence\n",
    "embedded_packed_seq = pack_sequence([eye[X[idx]] for idx in sorted_idx])\n",
    "print(embedded_packed_seq.data.shape)"
   ]
  },
  {
   "cell_type": "markdown",
   "id": "58726270",
   "metadata": {},
   "source": [
    "### RNN 모델 만들기"
   ]
  },
  {
   "cell_type": "code",
   "execution_count": 12,
   "id": "310221a3",
   "metadata": {},
   "outputs": [],
   "source": [
    "# declare RNN\n",
    "rnn = torch.nn.RNN(input_size=len(char_set), hidden_size=30, batch_first=True)"
   ]
  },
  {
   "cell_type": "markdown",
   "id": "5e045197",
   "metadata": {},
   "source": [
    "PaddedSequence를 이용하여 RNN에 넣어봅시다."
   ]
  },
  {
   "cell_type": "code",
   "execution_count": 13,
   "id": "2594e018",
   "metadata": {},
   "outputs": [
    {
     "name": "stdout",
     "output_type": "stream",
     "text": [
      "torch.Size([5, 13, 30])\n",
      "torch.Size([1, 5, 30])\n"
     ]
    }
   ],
   "source": [
    "rnn_output, hidden = rnn(embedded_tensor)\n",
    "print(rnn_output.shape) # shape: (batch_size, max_seq_length, hidden_size)\n",
    "print(hidden.shape)     # shape: (num_layers * num_directions, batch_size, hidden_size)"
   ]
  },
  {
   "cell_type": "markdown",
   "id": "e9771dac",
   "metadata": {},
   "source": [
    "PackedSequence를 이용하여 RNN에 넣어봅시다."
   ]
  },
  {
   "cell_type": "code",
   "execution_count": 14,
   "id": "4d820673",
   "metadata": {},
   "outputs": [
    {
     "name": "stdout",
     "output_type": "stream",
     "text": [
      "torch.Size([47, 30])\n",
      "torch.Size([1, 5, 30])\n"
     ]
    }
   ],
   "source": [
    "rnn_output, hidden = rnn(embedded_packed_seq)\n",
    "print(rnn_output.data.shape)\n",
    "print(hidden.data.shape)"
   ]
  },
  {
   "cell_type": "markdown",
   "id": "f0515a8e",
   "metadata": {},
   "source": [
    "### pad_packed_sequence\n",
    "위 함수는 PackedSequence를 PaddedSequence(Tensor)로 바꾸어주는 함수입니다.  \n",
    "PackedSequence는 각 sequence에 대한 길이 정보도 갖고있기 때문에, 이 함수는 Tensor와 함께 길이에 대한 리스트를 튜플로 리턴해줍니다.  \n",
    "리턴값: (Tensor, list_of_lengths)"
   ]
  },
  {
   "cell_type": "code",
   "execution_count": 15,
   "id": "4c64528c",
   "metadata": {},
   "outputs": [
    {
     "name": "stdout",
     "output_type": "stream",
     "text": [
      "torch.Size([5, 13, 19])\n",
      "tensor([13, 11, 11,  8,  4])\n"
     ]
    }
   ],
   "source": [
    "unpacked_sequence, seq_lengths = pad_packed_sequence(embedded_packed_seq, batch_first=True)\n",
    "print(unpacked_sequence.shape)\n",
    "print(seq_lengths)"
   ]
  },
  {
   "cell_type": "markdown",
   "id": "48c2ff21",
   "metadata": {},
   "source": [
    "### pack_padded_sequence\n",
    "반대로, padding이 된 Tensor인 PaddedSequence를 PackedSequence로 바꿔어주는 함수도 있습니다.\n",
    "packed_padded_sequence 함수는 실제 sequence 길이에 대한 정보를 모르기 때문에, 파라미터로 꼭 제공해 주어야합니다.\n",
    "주의할 점은, input인 PaddedSequence가 길이에 따른 내림차순으로 정렬되어야 한다는 조건이 성립되어야 PackedSequence로  \n",
    "올바르게 변환될 수 있습니다.  \n",
    "이전에 만든 padded_sequence 변수는 이 조건을 만족하지 않기 때문에 새로 만들어봅니다."
   ]
  },
  {
   "cell_type": "code",
   "execution_count": 16,
   "id": "e32becb7",
   "metadata": {},
   "outputs": [
    {
     "name": "stdout",
     "output_type": "stream",
     "text": [
      "torch.Size([5, 13, 19])\n"
     ]
    }
   ],
   "source": [
    "embedded_padded_sequence = eye[pad_sequence(sorted_X, batch_first=True)]\n",
    "print(embedded_padded_sequence.shape)"
   ]
  },
  {
   "cell_type": "markdown",
   "id": "08940789",
   "metadata": {},
   "source": [
    "이제 이 padding이 된 Tensor를 PackedSequence로 변환해봅니다."
   ]
  },
  {
   "cell_type": "code",
   "execution_count": 17,
   "id": "135c7ffd",
   "metadata": {},
   "outputs": [
    {
     "name": "stdout",
     "output_type": "stream",
     "text": [
      "torch.Size([47, 19])\n",
      "tensor([5, 5, 5, 5, 4, 4, 4, 4, 3, 3, 3, 1, 1])\n"
     ]
    }
   ],
   "source": [
    "sorted_lengths = sorted(lengths, reverse=True)\n",
    "new_packed_sequence = pack_padded_sequence(embedded_padded_sequence, sorted_lengths, batch_first=True)\n",
    "print(new_packed_sequence.data.shape)\n",
    "print(new_packed_sequence.batch_sizes)"
   ]
  }
 ],
 "metadata": {
  "kernelspec": {
   "display_name": "Python 3",
   "language": "python",
   "name": "python3"
  },
  "language_info": {
   "codemirror_mode": {
    "name": "ipython",
    "version": 3
   },
   "file_extension": ".py",
   "mimetype": "text/x-python",
   "name": "python",
   "nbconvert_exporter": "python",
   "pygments_lexer": "ipython3",
   "version": "3.7.10"
  }
 },
 "nbformat": 4,
 "nbformat_minor": 5
}
