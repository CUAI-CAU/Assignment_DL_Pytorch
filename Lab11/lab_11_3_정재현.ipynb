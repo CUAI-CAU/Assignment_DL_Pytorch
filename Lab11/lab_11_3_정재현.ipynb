{
  "nbformat": 4,
  "nbformat_minor": 0,
  "metadata": {
    "kernelspec": {
      "display_name": "Python 3",
      "language": "python",
      "name": "python3"
    },
    "language_info": {
      "codemirror_mode": {
        "name": "ipython",
        "version": 3
      },
      "file_extension": ".py",
      "mimetype": "text/x-python",
      "name": "python",
      "nbconvert_exporter": "python",
      "pygments_lexer": "ipython3",
      "version": "3.7.0"
    },
    "colab": {
      "name": "lab-11_3_longseq.ipynb",
      "provenance": []
    }
  },
  "cells": [
    {
      "cell_type": "code",
      "metadata": {
        "id": "IYEbEQjyRslN"
      },
      "source": [
        "import torch\n",
        "import torch.optim as optim\n",
        "import numpy as np"
      ],
      "execution_count": 1,
      "outputs": []
    },
    {
      "cell_type": "code",
      "metadata": {
        "colab": {
          "base_uri": "https://localhost:8080/"
        },
        "id": "9mgLF7jARslQ",
        "outputId": "646fc988-5b12-4e16-e280-f51822170a67"
      },
      "source": [
        "# Random seed to make results deterministic and reproducible\n",
        "torch.manual_seed(0)"
      ],
      "execution_count": 2,
      "outputs": [
        {
          "output_type": "execute_result",
          "data": {
            "text/plain": [
              "<torch._C.Generator at 0x7f0923fcfad0>"
            ]
          },
          "metadata": {},
          "execution_count": 2
        }
      ]
    },
    {
      "cell_type": "code",
      "metadata": {
        "id": "W1pjUDzcRslS"
      },
      "source": [
        "sentence = (\"if you want to build a ship, don't drum up people together to \"\n",
        "            \"collect wood and don't assign them tasks and work, but rather \"\n",
        "            \"teach them to long for the endless immensity of the sea.\")"
      ],
      "execution_count": 3,
      "outputs": []
    },
    {
      "cell_type": "code",
      "metadata": {
        "id": "Ykcd5pj7RslS"
      },
      "source": [
        "# make dictionary\n",
        "char_set = list(set(sentence))\n",
        "char_dic = {c: i for i, c in enumerate(char_set)}"
      ],
      "execution_count": 4,
      "outputs": []
    },
    {
      "cell_type": "code",
      "metadata": {
        "id": "4tyzk7FRRslT"
      },
      "source": [
        "# hyper parameters\n",
        "dic_size = len(char_dic)\n",
        "hidden_size = len(char_dic)\n",
        "sequence_length = 10  # Any arbitrary number\n",
        "learning_rate = 0.1"
      ],
      "execution_count": 5,
      "outputs": []
    },
    {
      "cell_type": "code",
      "metadata": {
        "colab": {
          "base_uri": "https://localhost:8080/"
        },
        "id": "pJZt8fx2RslU",
        "outputId": "c029e689-47b2-4eb9-a0cb-5ca8607e6902"
      },
      "source": [
        "# data setting\n",
        "x_data = []\n",
        "y_data = []\n",
        "\n",
        "for i in range(0, len(sentence) - sequence_length):\n",
        "    x_str = sentence[i:i + sequence_length]\n",
        "    y_str = sentence[i + 1: i + sequence_length + 1]\n",
        "    print(i, x_str, '->', y_str)\n",
        "\n",
        "    x_data.append([char_dic[c] for c in x_str])  # x str to index\n",
        "    y_data.append([char_dic[c] for c in y_str])  # y str to index\n",
        "\n",
        "x_one_hot = [np.eye(dic_size)[x] for x in x_data]"
      ],
      "execution_count": 6,
      "outputs": [
        {
          "output_type": "stream",
          "name": "stdout",
          "text": [
            "0 if you wan -> f you want\n",
            "1 f you want ->  you want \n",
            "2  you want  -> you want t\n",
            "3 you want t -> ou want to\n",
            "4 ou want to -> u want to \n",
            "5 u want to  ->  want to b\n",
            "6  want to b -> want to bu\n",
            "7 want to bu -> ant to bui\n",
            "8 ant to bui -> nt to buil\n",
            "9 nt to buil -> t to build\n",
            "10 t to build ->  to build \n",
            "11  to build  -> to build a\n",
            "12 to build a -> o build a \n",
            "13 o build a  ->  build a s\n",
            "14  build a s -> build a sh\n",
            "15 build a sh -> uild a shi\n",
            "16 uild a shi -> ild a ship\n",
            "17 ild a ship -> ld a ship,\n",
            "18 ld a ship, -> d a ship, \n",
            "19 d a ship,  ->  a ship, d\n",
            "20  a ship, d -> a ship, do\n",
            "21 a ship, do ->  ship, don\n",
            "22  ship, don -> ship, don'\n",
            "23 ship, don' -> hip, don't\n",
            "24 hip, don't -> ip, don't \n",
            "25 ip, don't  -> p, don't d\n",
            "26 p, don't d -> , don't dr\n",
            "27 , don't dr ->  don't dru\n",
            "28  don't dru -> don't drum\n",
            "29 don't drum -> on't drum \n",
            "30 on't drum  -> n't drum u\n",
            "31 n't drum u -> 't drum up\n",
            "32 't drum up -> t drum up \n",
            "33 t drum up  ->  drum up p\n",
            "34  drum up p -> drum up pe\n",
            "35 drum up pe -> rum up peo\n",
            "36 rum up peo -> um up peop\n",
            "37 um up peop -> m up peopl\n",
            "38 m up peopl ->  up people\n",
            "39  up people -> up people \n",
            "40 up people  -> p people t\n",
            "41 p people t ->  people to\n",
            "42  people to -> people tog\n",
            "43 people tog -> eople toge\n",
            "44 eople toge -> ople toget\n",
            "45 ople toget -> ple togeth\n",
            "46 ple togeth -> le togethe\n",
            "47 le togethe -> e together\n",
            "48 e together ->  together \n",
            "49  together  -> together t\n",
            "50 together t -> ogether to\n",
            "51 ogether to -> gether to \n",
            "52 gether to  -> ether to c\n",
            "53 ether to c -> ther to co\n",
            "54 ther to co -> her to col\n",
            "55 her to col -> er to coll\n",
            "56 er to coll -> r to colle\n",
            "57 r to colle ->  to collec\n",
            "58  to collec -> to collect\n",
            "59 to collect -> o collect \n",
            "60 o collect  ->  collect w\n",
            "61  collect w -> collect wo\n",
            "62 collect wo -> ollect woo\n",
            "63 ollect woo -> llect wood\n",
            "64 llect wood -> lect wood \n",
            "65 lect wood  -> ect wood a\n",
            "66 ect wood a -> ct wood an\n",
            "67 ct wood an -> t wood and\n",
            "68 t wood and ->  wood and \n",
            "69  wood and  -> wood and d\n",
            "70 wood and d -> ood and do\n",
            "71 ood and do -> od and don\n",
            "72 od and don -> d and don'\n",
            "73 d and don' ->  and don't\n",
            "74  and don't -> and don't \n",
            "75 and don't  -> nd don't a\n",
            "76 nd don't a -> d don't as\n",
            "77 d don't as ->  don't ass\n",
            "78  don't ass -> don't assi\n",
            "79 don't assi -> on't assig\n",
            "80 on't assig -> n't assign\n",
            "81 n't assign -> 't assign \n",
            "82 't assign  -> t assign t\n",
            "83 t assign t ->  assign th\n",
            "84  assign th -> assign the\n",
            "85 assign the -> ssign them\n",
            "86 ssign them -> sign them \n",
            "87 sign them  -> ign them t\n",
            "88 ign them t -> gn them ta\n",
            "89 gn them ta -> n them tas\n",
            "90 n them tas ->  them task\n",
            "91  them task -> them tasks\n",
            "92 them tasks -> hem tasks \n",
            "93 hem tasks  -> em tasks a\n",
            "94 em tasks a -> m tasks an\n",
            "95 m tasks an ->  tasks and\n",
            "96  tasks and -> tasks and \n",
            "97 tasks and  -> asks and w\n",
            "98 asks and w -> sks and wo\n",
            "99 sks and wo -> ks and wor\n",
            "100 ks and wor -> s and work\n",
            "101 s and work ->  and work,\n",
            "102  and work, -> and work, \n",
            "103 and work,  -> nd work, b\n",
            "104 nd work, b -> d work, bu\n",
            "105 d work, bu ->  work, but\n",
            "106  work, but -> work, but \n",
            "107 work, but  -> ork, but r\n",
            "108 ork, but r -> rk, but ra\n",
            "109 rk, but ra -> k, but rat\n",
            "110 k, but rat -> , but rath\n",
            "111 , but rath ->  but rathe\n",
            "112  but rathe -> but rather\n",
            "113 but rather -> ut rather \n",
            "114 ut rather  -> t rather t\n",
            "115 t rather t ->  rather te\n",
            "116  rather te -> rather tea\n",
            "117 rather tea -> ather teac\n",
            "118 ather teac -> ther teach\n",
            "119 ther teach -> her teach \n",
            "120 her teach  -> er teach t\n",
            "121 er teach t -> r teach th\n",
            "122 r teach th ->  teach the\n",
            "123  teach the -> teach them\n",
            "124 teach them -> each them \n",
            "125 each them  -> ach them t\n",
            "126 ach them t -> ch them to\n",
            "127 ch them to -> h them to \n",
            "128 h them to  ->  them to l\n",
            "129  them to l -> them to lo\n",
            "130 them to lo -> hem to lon\n",
            "131 hem to lon -> em to long\n",
            "132 em to long -> m to long \n",
            "133 m to long  ->  to long f\n",
            "134  to long f -> to long fo\n",
            "135 to long fo -> o long for\n",
            "136 o long for ->  long for \n",
            "137  long for  -> long for t\n",
            "138 long for t -> ong for th\n",
            "139 ong for th -> ng for the\n",
            "140 ng for the -> g for the \n",
            "141 g for the  ->  for the e\n",
            "142  for the e -> for the en\n",
            "143 for the en -> or the end\n",
            "144 or the end -> r the endl\n",
            "145 r the endl ->  the endle\n",
            "146  the endle -> the endles\n",
            "147 the endles -> he endless\n",
            "148 he endless -> e endless \n",
            "149 e endless  ->  endless i\n",
            "150  endless i -> endless im\n",
            "151 endless im -> ndless imm\n",
            "152 ndless imm -> dless imme\n",
            "153 dless imme -> less immen\n",
            "154 less immen -> ess immens\n",
            "155 ess immens -> ss immensi\n",
            "156 ss immensi -> s immensit\n",
            "157 s immensit ->  immensity\n",
            "158  immensity -> immensity \n",
            "159 immensity  -> mmensity o\n",
            "160 mmensity o -> mensity of\n",
            "161 mensity of -> ensity of \n",
            "162 ensity of  -> nsity of t\n",
            "163 nsity of t -> sity of th\n",
            "164 sity of th -> ity of the\n",
            "165 ity of the -> ty of the \n",
            "166 ty of the  -> y of the s\n",
            "167 y of the s ->  of the se\n",
            "168  of the se -> of the sea\n",
            "169 of the sea -> f the sea.\n"
          ]
        }
      ]
    },
    {
      "cell_type": "code",
      "metadata": {
        "colab": {
          "base_uri": "https://localhost:8080/"
        },
        "id": "BXtAGuOORslV",
        "outputId": "cd04e681-5aec-417c-beb9-94946e3aeae2"
      },
      "source": [
        "# transform as torch tensor variable\n",
        "X = torch.FloatTensor(x_one_hot)\n",
        "Y = torch.LongTensor(y_data)"
      ],
      "execution_count": 7,
      "outputs": [
        {
          "output_type": "stream",
          "name": "stderr",
          "text": [
            "/usr/local/lib/python3.7/dist-packages/ipykernel_launcher.py:2: UserWarning: Creating a tensor from a list of numpy.ndarrays is extremely slow. Please consider converting the list to a single numpy.ndarray with numpy.array() before converting to a tensor. (Triggered internally at  ../torch/csrc/utils/tensor_new.cpp:201.)\n",
            "  \n"
          ]
        }
      ]
    },
    {
      "cell_type": "code",
      "metadata": {
        "id": "obXyOVDBRslW"
      },
      "source": [
        "# declare RNN + FC\n",
        "class Net(torch.nn.Module):\n",
        "    def __init__(self, input_dim, hidden_dim, layers):\n",
        "        super(Net, self).__init__()\n",
        "        self.rnn = torch.nn.RNN(input_dim, hidden_dim, num_layers=layers, batch_first=True)\n",
        "        self.fc = torch.nn.Linear(hidden_dim, hidden_dim, bias=True)\n",
        "\n",
        "    def forward(self, x):\n",
        "        x, _status = self.rnn(x)\n",
        "        x = self.fc(x)\n",
        "        return x"
      ],
      "execution_count": 9,
      "outputs": []
    },
    {
      "cell_type": "code",
      "metadata": {
        "id": "Cp6Vfw-RRslX"
      },
      "source": [
        "# declare RNN + FC\n",
        "class Net(torch.nn.Module):\n",
        "    def __init__(self, input_dim, hidden_dim, layers):\n",
        "        super(Net, self).__init__()\n",
        "        self.rnn = torch.nn.RNN(input_dim, hidden_dim, num_layers=layers, batch_first=True)\n",
        "        self.fc = torch.nn.Linear(hidden_dim, hidden_dim, bias=True)\n",
        "\n",
        "    def forward(self, x):\n",
        "        x, _status = self.rnn(x)\n",
        "        x = self.fc(x)\n",
        "        return x\n",
        "\n",
        "\n",
        "net = Net(dic_size, hidden_size, 2)"
      ],
      "execution_count": 10,
      "outputs": []
    },
    {
      "cell_type": "code",
      "metadata": {
        "id": "KxhpW0d6RslY"
      },
      "source": [
        "# loss & optimizer setting\n",
        "criterion = torch.nn.CrossEntropyLoss()\n",
        "optimizer = optim.Adam(net.parameters(), learning_rate)"
      ],
      "execution_count": 11,
      "outputs": []
    },
    {
      "cell_type": "code",
      "metadata": {
        "colab": {
          "base_uri": "https://localhost:8080/"
        },
        "id": "GQfZPCeARslZ",
        "outputId": "858a1eae-0c9b-4a30-e948-62675d52dd50"
      },
      "source": [
        "# start training\n",
        "for i in range(100):\n",
        "    optimizer.zero_grad()\n",
        "    outputs = net(X)\n",
        "    loss = criterion(outputs.view(-1, dic_size), Y.view(-1))\n",
        "    loss.backward()\n",
        "    optimizer.step()\n",
        "\n",
        "    results = outputs.argmax(dim=2)\n",
        "    predict_str = \"\"\n",
        "    for j, result in enumerate(results):\n",
        "        # print(i, j, ''.join([char_set[t] for t in result]), loss.item())\n",
        "        if j == 0:\n",
        "            predict_str += ''.join([char_set[t] for t in result])\n",
        "        else:\n",
        "            predict_str += char_set[result[-1]]\n",
        "\n",
        "    print(predict_str)"
      ],
      "execution_count": 12,
      "outputs": [
        {
          "output_type": "stream",
          "name": "stdout",
          "text": [
            "a.,a..b,..bg,.ga.a,,.a.a.aa,ga.bbbg,,aata,aa.aa,,aaa,.a,..aaaga.a,,,ab,..aaa.,a,..bbg,.aa,.ba,.aba,.a.ba.,a,..a,ga.ab,,.a..aa,a.aba,.aba,ga,.aa...a.,.aa.,,,..ba.aa.ba.ag..aa,.a..a\n",
            "                                                                                                                                                                                   \n",
            "                                                                                                                                                                                   \n",
            " aoontoao  aooaoo  oaooao   ooo aooooo oo oo oaootoo   oo aooao   oaoooo  to otoo   oo aoooaooo oo   oono oootooooo oootoa to oo oooaoto  o   oao oooo nooooooooooo   ooo  oooo oon\n",
            "gh.cnmdmod dodmdddd dmdmolddhddmd dhdd d dddd ddddhdhdhd dd dldddd d dmdpddhd dhdmd dhdddhdd dddl d ddddd dod dddhd dhdlht d d dld dt dod.ddddhd dd dmdt hdhd dhd  dddddddddddmdndl\n",
            "t t t dr d d d d d    d t d d d d d d     d    d       d  t   d d    d   d    d d d d d d d     d d     d d d d d d d d d  d d d d d d    d d     d d d   d d d d          d d d   \n",
            "t t t t t  e e r      t t   e t e e t      o   e     t e  e   t d r   o   t e e   t e t t  e          t t t   e e t t   t      t t t d        t t t e   t t   e   t        e   e t \n",
            "t tot      t t  t   t t t   to  t t t  eo      e       e  t     t r  eo   t   t t   t   t  t t      t   t t   t e   t   to t   t t to to      t   t t t t t   t   t   oto  t   t t \n",
            "t to  t n  to  o  t tntht n to  t to   to  o   tot     tr to     t   to   to  to  t tn  t  tot  t   t tn  to  t to  to  eo tot t thto to tt   to  tot  n  t   to     toto  to  t t \n",
            "t ton t n  to eot t to  eo  to  t to   to to   eoto    eo to to ttn  to   tot to  t to  t  toto to  t en  to  t to  to  eo totn  toeo to tt    o  toto n  to tto  t  toten toeo  t \n",
            "t ton't n  to toa t tn  t   do  t to l to to   t do    er t t'  tt d to   tod to 't tn  t dt tn to  t end eon t to  to  er t tn  toer to 't e     t tr n  e   to     e een ther    \n",
            "t ton'tant ton'osle tnd e   ton't tont to don 't to l  er ton'n 'tnd ton  tod to 't tn lt dtoen ton t tnd tonlt eor ton er totn  toer ton't e dor t er nd to lto     totan toer  t \n",
            "t tor'tand to 'otlt and e , tor't to,e tm ten 't t  lt er to ln 't t ton  tnd to 't tnslt dther ton t end tonln eot t s er tonns toer to 't e dor t erlnd tn lto  ms theanltherl t \n",
            "totor'thnd ao los t and tr, ton't toen ao eemsltnth lt er th lm etnt ton  tnd aon't tns in ther tos t tnd tor s eos tos er thsn  ther to lt   eor ther nd tns to  r  thean themb t \n",
            "toto 'tont ao lot t andodof ton't ao m ao ten ltnto lt er to 'o eent tor  tnd ton't tns indther to  isind tor t eot totler tosn  aher to lond tor ther nd tnshto eo iiheaf therf s \n",
            "totor'tont to lot t and t , don't tofm an len lenth lt er th 'o eent tor  tnd ton't tnsii dthem ths s tnd tor t aot tot er thrn  them th ltnd tor therfnd tn iion sdii eaf themd s \n",
            "totonctonthto lot t anshtp, ton't aofn tm leo lento lt er ton'o eenthaor  tnd aon't ansiindther ton s ans aor t eot aoshem tonn  toer tonlend eor toersnd ensiionea  ioeaf'toer, s \n",
            "toton'tonthto lot t andhtp, don't ao,m tn den lento lt er to lo ee theon  tnd aon't ansii dthem tos s and tor , aot aoshem tosn  toem to le d eor themdnd ensiipnen ii eaf themd s \n",
            "toto ctont to lotlt andhi , don't toam dm den le to lthem th 'o lecthto d tnd ton't tnsiindthem thsks tnd tor , aot tothem thscs them th lond dor themdnd ensiimnensii  an themd s \n",
            "loton'wont to lotlr ansham, don't aoum dm dendle to lther to lo le,thtond tnd ton't ansirn them tosks and tor , dot tother toscs toem to lon lfor themfnd ens imnemsiioean therd s \n",
            "lutor'wand to lotlr anshar, don't aoum dm teo le to lther to lo le,t tond tnd don't ansiin them toaks andldor , bot tother toan  toer to lon lforktherdndlens imnensiio af therd s \n",
            "lutor'thnt to lotlt antham, don't toum dm deo le tyglther thglo lrct torp tnd don't tnsign them tosks andldor , but tother toach them to lo g for themdndlens imnensiiy of the d s \n",
            "letorktont to 'otle anshim, don't doum dm people ty lther to 'o lrct aon  tnd don't ansign them tosks and dor , but auther toach them to lo g for the dnd ens imnessigy o  the d ss\n",
            "letorkwant to butle anshim, don't aoum am people to ether to bo lect aond and don't ansign toem tosks and dor , but auther toach the  to bon  for the bndless imnessigy of toe b ss\n",
            "gntor want to coild asshim, don't aoum dp people to ether to co  ect wond dnd don't assign the  tosks and dor , but wother toach the  to lon  forkthe fndless imnensigy of the f ss\n",
            "g torktant to loild asship, don't doum dp people together to co  ect dond dnd don't dssign the  tosks and dork, buthwcther toach the  to long for the endless immensigy of the f ss\n",
            "g torktant to cuild asshim, don't aoum dp people together to collect tord and don't assign them tosks and dork, but wuther toach them to long for the endless immensigy of the e sn\n",
            "l aomktant to cuild asship, don't aoum dp people together to collect word and don't assign them tosks and dork, but ruther toach them to long for the endlens immensigy of the e sn\n",
            "l torktant to build asship, don't aoum dp people together to collect wood and don't assign them tosks and dork, but ruther toach them to long for the endless immensity of the e sn\n",
            "l tomktant to luild a ship, don't doum dp people tog ther to collect wood and don't dnsign them tosks and dork, but rather toach them to long for the dndlesskimmensity of the eesn\n",
            "l tomkoant to build asship, don't aoum wp people together to collect waod and don't assign them tosks and dork, but rather toach them to long for the endless immensity of the eesn\n",
            "l tomkoant to build asship, don't doum dp people together to bollect wood and don't assign them tosks and dork, but rather toach them to long for the endless immensity of the sesn\n",
            "f tom want to build a ship, don't drum dp people together to bollect wood and don't dssign them tosks and dork, but rather toach them to long for the endless immensity of the sesn\n",
            "t tom want to build a ship, don't doum dp people together to co lect wood and don't dssign them tosks and dork, but rather toach them to long for the endless immensity of the eesn\n",
            "p tom want to build a ship, don't doum dp peoplectogether to collect wood and don't dssign them tosks and dork, but rather toach them to long for the endless immensity of the sesn\n",
            "p aom want to build a ship, don't doum dp people together to bollect wood and don't assign them tosks and dork, but rather toach them to long for the endless immensity of the sesn\n",
            "t aom want to build a ship, don't aoum up people together to collect wood and won't assign them tosks and dork, but rather toach the  to long for the endless immensity of the sesn\n",
            "t aom want to cuild a ship, don't drum up people together to collect wood and won't assign them tosks and work, but rather toach them to long for the sndless immensity of themses \n",
            "l tou want to build a ship, don't drum up people together to collect wood and won't dssign them tosks and dork, but rather toach them to long for the endless immensity of themeesn\n",
            "l aou want to build a ship, don't arum up people together to collect wood and won't assign them tosks and dork, but rather toach them to long for the endless immensity of themses \n",
            "p aou want to build a ship, don't arum up people together to collect wood and don't assign them tosks and dork, but rather toach them to long for the endless immensity of themses \n",
            "l aou want to build a ship, don't drum up people together to collect wood and don't dssign them tosks and dork, but rather toach them to long for the endless immensity of the ses \n",
            "t aou want to build a ship, don't drum up people together to collect wood and won't assign them tosks and work, but rather toach them to long for the endless immensity of the sess\n",
            "t aou want to build a ship, don't drum up people together to collect wood and won't assign them tosks and work, but rather toach them to long for the endless immensity of themsess\n",
            "t aou want to build a ship, don't drum up people together to collect wood and won't assign them tosks and work, but rather toach them to long for the endless immensity of the sess\n",
            "t you want to build a ship, don't drum up people together to collect wood and don't assign them tosks and work, but rather toach them to long for the endless immensity of the sess\n",
            "p you want to build a ship, don't drum up people together to collect wood and don't dssign them tosks and dork, but rather toach them to long for the endless immensity of the sesn\n",
            "p you want to build a ship, don't drum up people together to collect wood and won't assign them tosks and work, but rather toach them to long for the endless immensity of the sesn\n",
            "p you want to build a ship, don't drum up people together to collect wood and don't assign them tosks and work, but rather toach them to long for the endless immensity of the sess\n",
            "p you want to build a ship, don't drum up people together to collect wood and don't assign them tosks and work, but rather toach them to long for the endless immensity of the sess\n",
            "p you want to build a ship, don't drum up people together to collect wood and don't assign them tosks and work, but rather toach them to long for the endless immensity of the sets\n",
            "p you want to build a ship, don't drum up people together to collect wood and don't dssign them tosks and work, but rather toach them to long for the endless immensity of the sesn\n",
            "f you want to build a ship, don't arum up people together to collect wood and don't assign them tosks and work, but rather toach them to long for the endless immensity of the sea \n",
            "f you want to build a ship, don't drum up people together to collect wood and don't assign them tosks and work, but rather toach them to long for the endless immensity of the ses \n",
            "f you want to build a ship, don't drum up people together to collect wood and don't assign them tosks and work, but rather toach them to long for the endless immensity of the sea.\n",
            "f you want to build a ship, don't drum up people together to collect wood and don't assign them tosks and work, but rather toach them to long for the endless immensity of the sea.\n",
            "t you want to build a ship, don't drum up people together to collect wood and don't assign them tosks and work, but rather toach them to long for the endless immensity of the sea.\n",
            "t you want to build a ship, don't drum up people together to collect wood and don't assign them tosks and work, but rather toach them to long for the endless immensity of the sea.\n",
            "t you want to build a ship, don't drum up people together to collect wood and don't assign them tasks and work, but rather teach them ta long for the endless immensity of the sea.\n",
            "t you want to build a ship, don't drum up people together to collect wood and don't assign them tosks and work, but rather teach them to long for the endless immensity of the sea.\n",
            "l you want to build a ship, don't drum up people together to collect wood and don't assign them tosks and work, but rather toach them to long for the endless immensity of the sea.\n",
            "l you want to build a ship, don't drum up people together to collect wood and don't assign them tasks and work, but rather teach them to long for the endless immensity of the sea.\n",
            "p you want to build a ship, don't drum up people together to collect wood and don't assign them tosks and work, but rather teach them to long for the endless immensity of the sea.\n",
            "m you want to build a ship, don't drum up people together to collect wood and don't assign them tosks and work, but rather teach them to long for the endless immensity of the sea.\n",
            "m you want to build a ship, don't drum up people together to collect wood and don't assign them tosks and work, but rather teach them to long for the endless immensity of the sea.\n",
            "t you want to build a ship, don't drum up people together to collect wood and don't assign them tasks and work, but rather teach them to long for the endless immensity of the sea.\n",
            "l you want to build a ship, don't drum up people together to collect wood and don't assign them tosks and work, but rather teach them to long for the endless immensity of the sea.\n",
            "l you want to build a ship, don't drum up people together to collect wood and don't assign them tosks and work, but rather teach them to long for the endless immensity of the sea.\n",
            "t you want to build a ship, don't drum up people together to collect wood and don't assign them tasks and work, but rather teach them to long for the endless immensity of the sea.\n",
            "t you want to build a ship, don't drum up people together to collect wood and don't assign them tosks and work, but rather teach them to long for the endless immensity of the sea.\n",
            "m you want to build a ship, don't drum up people together to collect wood and don't assign them tasks and work, but rather teach them to long for the endless immensity of the sea.\n",
            "m you want to build a ship, don't drum up people together to collect wood and don't assign them tosks and work, but rather teach them to long for the endless immensity of the sea.\n",
            "l you want to build a ship, don't drum up people together to collect wood and don't assign them tasks and work, but rather teach them to long for the endless immensity of the sea.\n",
            "l you want to build a ship, don't drum up people together to collect wood and don't assign them tosks and work, but rather teach them to long for the endless immensity of the sea.\n",
            "t you want to build a ship, don't drum up people together to collect wood and don't assign them tasks and work, but rather teach them to long for the endless immensity of the sea.\n",
            "l you want to build a ship, don't drum up people together to collect wood and don't assign them tasks and work, but rather teach them to long for the endless immensity of the sea.\n",
            "l you want to build a ship, don't drum up people together to collect wood and don't assign them tasks and work, but rather teach them to long for the endless immensity of the sea.\n",
            "f you want to build a ship, don't drum up people together to collect wood and don't assign them tasks and work, but rather teach them to long for the endless immensity of the sea.\n",
            "t you want to build a ship, don't drum up people together to collect wood and don't assign them tasks and work, but rather teach them to long for the endless immensity of the sea.\n",
            "t you want to build a ship, don't drum up people together to collect wood and don't assign them tasks and work, but rather teach them to long for the endless immensity of the sea.\n",
            "t you want to build a ship, don't drum up people together to collect wood and don't assign them tasks and work, but rather teach them to long for the endless immensity of the sea.\n",
            "l you want to build a ship, don't drum up people together to collect wood and don't assign them tasks and work, but rather teach them to long for the endless immensity of the sea.\n",
            "m you want to build a ship, don't drum up people together to collect wood and don't assign them tasks and work, but rather teach them to long for the endless immensity of the sea.\n",
            "g you want to build a ship, don't drum up people together to collect wood and don't assign them tasks and work, but rather teach them to long for the endless immensity of the sea.\n",
            "g you want to build a ship, don't drum up people together to collect wood and don't assign them tosks and work, but rather teach them to long for the endless immensity of the sea.\n",
            "l you want to build a ship, don't drum up people together to collect wood and don't assign them tasks and work, but rather teach them to long for the endless immensity of the sea.\n",
            "l you want to build a ship, don't drum up people together to collect wood and don't assign them tasks and work, but rather teach them to long for the endless immensity of the sea.\n",
            "g you want to build a ship, don't drum up people together to collect wood and don't assign them tosks and work, but rather teach them to long for the endless immensity of the sea.\n",
            "t you want to build a ship, don't drum up people together to collect wood and don't assign them tosks and work, but rather toach them to long for the endless immensity of the sea.\n",
            "f you want to build a ship, don't drum up people together te collect wood and don't assign them thsks and work, but rather thach them to long for the endless immensity of the sea.\n",
            "p you want to build a ship, don't drum up people together te collect wood and don't assign them tasks and work, but rather teach them to long for the endless immensity of the sea.\n",
            "g you want to build a ship, don't drum up people together te collect wood and don't assign them tosks and work, but rather toach them to long for the endless immensity of the sea.\n",
            "g you want to build a ship, don't drum up people together te collect wood and don't assign them tasks and work, but rather teach them to long for the endless immensity of the sea.\n",
            "l you want to build a ship, don't drum up people together te collect wood and don't assign them tasks and work, but rather teach them to long for the endless immensity of the sea.\n",
            "l you want to build a ship, don't drum up people together te collect wood and don't assign them tasks and work, but rather teach them to long for the endless immensity of the sea.\n",
            "t you want to build a ship, don't drum up people together to collect wood and don't assign them tasks and work, but rather toach them to long for the endless immensity of the sea.\n",
            "g you want to build a ship, don't drum up people together to collect wood and don't assign them tasks and work, but rather toach them to long for the endless immensity of the sea.\n",
            "m you want to build a ship, don't drum up people together to collect wood and don't assign them tosks and work, but rather toach them to long for the endless immensity of the sea.\n",
            "p you want to build a ship, don't drum up people together to collect wood and don't assign them tosks and work, but rather toach them to long for the endless immensity of the sea.\n",
            "f you want to build a ship, don't drum up people together to collect wood and don't assign them tosks and work, but rather toach them to long for the endless immensity of the sea.\n"
          ]
        }
      ]
    },
    {
      "cell_type": "code",
      "metadata": {
        "id": "uiNWwoH6Rslb"
      },
      "source": [
        ""
      ],
      "execution_count": null,
      "outputs": []
    }
  ]
}