{
 "cells": [
  {
   "cell_type": "markdown",
   "metadata": {},
   "source": [
    "# lab-10_2_mnist_deep_cnn\n",
    "##### JaehyunJeong"
   ]
  },
  {
   "cell_type": "code",
   "execution_count": 24,
   "metadata": {
    "executionInfo": {
     "elapsed": 562,
     "status": "ok",
     "timestamp": 1636441208254,
     "user": {
      "displayName": "Jimin Kim",
      "photoUrl": "https://lh3.googleusercontent.com/a-/AOh14GjXY4Z58QWqdf0_emFTik194qt20j1LbvN1ymGJsBI=s64",
      "userId": "03179597400061085718"
     },
     "user_tz": -540
    },
    "id": "V2AsCs9FlZhq"
   },
   "outputs": [],
   "source": [
    "import torch\n",
    "import torch.nn as nn\n",
    "import torchvision.datasets as dsets\n",
    "import torchvision.transforms as transforms\n",
    "import torch.nn.init\n",
    "\n",
    "from torchsummary import summary"
   ]
  },
  {
   "cell_type": "code",
   "execution_count": 25,
   "metadata": {
    "colab": {
     "base_uri": "https://localhost:8080/"
    },
    "executionInfo": {
     "elapsed": 7,
     "status": "ok",
     "timestamp": 1636441208665,
     "user": {
      "displayName": "Jimin Kim",
      "photoUrl": "https://lh3.googleusercontent.com/a-/AOh14GjXY4Z58QWqdf0_emFTik194qt20j1LbvN1ymGJsBI=s64",
      "userId": "03179597400061085718"
     },
     "user_tz": -540
    },
    "id": "SAXvqBxEl728",
    "outputId": "6270ad12-3b6d-42fb-c78d-e8ac0b01edb6"
   },
   "outputs": [
    {
     "name": "stdout",
     "output_type": "stream",
     "text": [
      "conv 연산 :  Conv2d(1, 1, kernel_size=(11, 11), stride=(4, 4))\n",
      "입력 이미지 크기 :  torch.Size([1, 1, 227, 227])\n",
      "출력 이미지 크기 :  torch.Size([1, 1, 55, 55])\n"
     ]
    }
   ],
   "source": [
    "# conv 연산 연습\n",
    "conv = nn.Conv2d(1,1,11,stride=4, padding=0) # 입력채널, 출력채널(=필터갯수), 필터사이즈\n",
    "print(\"conv 연산 : \",conv)\n",
    "\n",
    "inputs = torch.Tensor(1,1,227,227) # 배치사이즈, 채널, 높이, 너비\n",
    "print(\"입력 이미지 크기 : \",inputs.shape)\n",
    "\n",
    "out = conv(inputs)\n",
    "print(\"출력 이미지 크기 : \",out.shape)"
   ]
  },
  {
   "cell_type": "code",
   "execution_count": 26,
   "metadata": {
    "colab": {
     "base_uri": "https://localhost:8080/"
    },
    "executionInfo": {
     "elapsed": 6,
     "status": "ok",
     "timestamp": 1636441208666,
     "user": {
      "displayName": "Jimin Kim",
      "photoUrl": "https://lh3.googleusercontent.com/a-/AOh14GjXY4Z58QWqdf0_emFTik194qt20j1LbvN1ymGJsBI=s64",
      "userId": "03179597400061085718"
     },
     "user_tz": -540
    },
    "id": "YwXMtNH3m4pY",
    "outputId": "d40a69dc-dfa5-4107-aab5-89f08286b351"
   },
   "outputs": [
    {
     "data": {
      "text/plain": [
       "torch.Size([1, 5, 24, 24])"
      ]
     },
     "execution_count": 26,
     "metadata": {},
     "output_type": "execute_result"
    }
   ],
   "source": [
    "# conv + pooling\n",
    "inputs = torch.Tensor(1,1,28,28)\n",
    "conv = nn.Conv2d(1,5,5)\n",
    "pool = nn.MaxPool2d(2) # 풀링 계층의 필터 사이즈는 2x2\n",
    "\n",
    "out = conv(inputs)\n",
    "out2 = pool(out)\n",
    "\n",
    "out.size()"
   ]
  },
  {
   "cell_type": "code",
   "execution_count": 27,
   "metadata": {
    "executionInfo": {
     "elapsed": 319,
     "status": "ok",
     "timestamp": 1636441222081,
     "user": {
      "displayName": "Jimin Kim",
      "photoUrl": "https://lh3.googleusercontent.com/a-/AOh14GjXY4Z58QWqdf0_emFTik194qt20j1LbvN1ymGJsBI=s64",
      "userId": "03179597400061085718"
     },
     "user_tz": -540
    },
    "id": "1Px79BbhnRyL"
   },
   "outputs": [],
   "source": [
    "device = 'cuda' if torch.cuda.is_available() else 'cpu'\n",
    "\n",
    "torch.manual_seed(777)\n",
    "if device == 'cuda' :\n",
    "    torch.cuda.manual_seed_all(777)"
   ]
  },
  {
   "cell_type": "code",
   "execution_count": 28,
   "metadata": {
    "colab": {
     "base_uri": "https://localhost:8080/",
     "height": 37
    },
    "executionInfo": {
     "elapsed": 6,
     "status": "ok",
     "timestamp": 1636441222999,
     "user": {
      "displayName": "Jimin Kim",
      "photoUrl": "https://lh3.googleusercontent.com/a-/AOh14GjXY4Z58QWqdf0_emFTik194qt20j1LbvN1ymGJsBI=s64",
      "userId": "03179597400061085718"
     },
     "user_tz": -540
    },
    "id": "7DHMT1XSxXiX",
    "outputId": "bb6d9d5a-1fcf-46e4-e15a-42aac3e947bc"
   },
   "outputs": [
    {
     "data": {
      "application/vnd.google.colaboratory.intrinsic+json": {
       "type": "string"
      },
      "text/plain": [
       "'cpu'"
      ]
     },
     "execution_count": 28,
     "metadata": {},
     "output_type": "execute_result"
    }
   ],
   "source": [
    "device"
   ]
  },
  {
   "cell_type": "code",
   "execution_count": 29,
   "metadata": {
    "executionInfo": {
     "elapsed": 2,
     "status": "ok",
     "timestamp": 1636441223439,
     "user": {
      "displayName": "Jimin Kim",
      "photoUrl": "https://lh3.googleusercontent.com/a-/AOh14GjXY4Z58QWqdf0_emFTik194qt20j1LbvN1ymGJsBI=s64",
      "userId": "03179597400061085718"
     },
     "user_tz": -540
    },
    "id": "xvHHiVNjn_jN"
   },
   "outputs": [],
   "source": [
    "# parameter\n",
    "learning_rate = 0.001\n",
    "training_epochs = 15\n",
    "batch_size = 100"
   ]
  },
  {
   "cell_type": "code",
   "execution_count": 30,
   "metadata": {
    "executionInfo": {
     "elapsed": 357,
     "status": "ok",
     "timestamp": 1636441227732,
     "user": {
      "displayName": "Jimin Kim",
      "photoUrl": "https://lh3.googleusercontent.com/a-/AOh14GjXY4Z58QWqdf0_emFTik194qt20j1LbvN1ymGJsBI=s64",
      "userId": "03179597400061085718"
     },
     "user_tz": -540
    },
    "id": "ZP7uJTInr8Tg"
   },
   "outputs": [],
   "source": [
    "#mnist dataset\n",
    "\n",
    "mnist_train = dsets.MNIST(root = 'MNIST_data/',\n",
    "                          train = True,\n",
    "                          transform = transforms.ToTensor(),\n",
    "                          download=True)\n",
    "\n",
    "mnist_test = dsets.MNIST(root = 'MNIST_data/',\n",
    "                          train = False,\n",
    "                          transform = transforms.ToTensor(),\n",
    "                          download=True)"
   ]
  },
  {
   "cell_type": "code",
   "execution_count": 31,
   "metadata": {
    "executionInfo": {
     "elapsed": 302,
     "status": "ok",
     "timestamp": 1636441232663,
     "user": {
      "displayName": "Jimin Kim",
      "photoUrl": "https://lh3.googleusercontent.com/a-/AOh14GjXY4Z58QWqdf0_emFTik194qt20j1LbvN1ymGJsBI=s64",
      "userId": "03179597400061085718"
     },
     "user_tz": -540
    },
    "id": "Yt3qfWUutOlL"
   },
   "outputs": [],
   "source": [
    "# loader 생성\n",
    "data_loader = torch.utils.data.DataLoader(dataset = mnist_train,\n",
    "                                          batch_size = batch_size,\n",
    "                                          shuffle = True,\n",
    "                                          drop_last = True)"
   ]
  },
  {
   "cell_type": "code",
   "execution_count": 32,
   "metadata": {
    "executionInfo": {
     "elapsed": 303,
     "status": "ok",
     "timestamp": 1636441234964,
     "user": {
      "displayName": "Jimin Kim",
      "photoUrl": "https://lh3.googleusercontent.com/a-/AOh14GjXY4Z58QWqdf0_emFTik194qt20j1LbvN1ymGJsBI=s64",
      "userId": "03179597400061085718"
     },
     "user_tz": -540
    },
    "id": "4Tuf34lhvFeQ"
   },
   "outputs": [],
   "source": [
    "# 모델 생성\n",
    "class CNN(nn.Module):\n",
    "    def __init__(self):\n",
    "        super(CNN, self).__init__()\n",
    "        self.keep_prob = 0.5\n",
    "\n",
    "        # conv layer\n",
    "        self.layer1 = nn.Sequential(\n",
    "            nn.Conv2d(1,32,kernel_size=3, stride=1, padding=1), # 입력 채널 1, 출력 채널(필터 갯수) 32\n",
    "            nn.ReLU(),\n",
    "            nn.MaxPool2d(kernel_size=2, stride=2)\n",
    "        )\n",
    "\n",
    "        # conv layer\n",
    "        self.layer2 = nn.Sequential(\n",
    "            nn.Conv2d(32,64,kernel_size=3, stride=1, padding=1),\n",
    "            nn.ReLU(),\n",
    "            nn.MaxPool2d(kernel_size=2, stride=2)\n",
    "        )\n",
    "\n",
    "        # conv layer\n",
    "        self.layer3 = nn.Sequential(\n",
    "            nn.Conv2d(64,128, kernel_size=3, stride=1, padding=1),\n",
    "            nn.ReLU(),\n",
    "            nn.MaxPool2d(kernel_size=2, stride=2, padding=1)\n",
    "        )\n",
    "\n",
    "        self.fc1 = nn.Linear(4*4*128, 625, bias=True) # 4*4 사이즈의 맵이 64개(입력), 625(출력)\n",
    "        torch.nn.init.xavier_uniform_(self.fc1.weight) # fc층은 가중치 초기화 적용\n",
    "\n",
    "        # fc layer\n",
    "        self.layer4 = nn.Sequential(\n",
    "            self.fc1,\n",
    "            torch.nn.ReLU(),\n",
    "            torch.nn.Dropout(p = self.keep_prob)\n",
    "        )\n",
    "\n",
    "        self.fc2 = torch.nn.Linear(625, 10, bias = True)\n",
    "        torch.nn.init.xavier_uniform_(self.fc2.weight)\n",
    "\n",
    "    def forward(self, x):\n",
    "        out = self.layer1(x) # conv\n",
    "        out = self.layer2(out) # conv\n",
    "        out = self.layer3(out) # conv\n",
    "        out = out.view(out.size(0), -1) # flatten\n",
    "        out = self.layer4(out) # fc\n",
    "        out = self.fc2(out) # fc\n",
    "        return out"
   ]
  },
  {
   "cell_type": "code",
   "execution_count": 33,
   "metadata": {
    "colab": {
     "base_uri": "https://localhost:8080/"
    },
    "executionInfo": {
     "elapsed": 477,
     "status": "ok",
     "timestamp": 1636441238845,
     "user": {
      "displayName": "Jimin Kim",
      "photoUrl": "https://lh3.googleusercontent.com/a-/AOh14GjXY4Z58QWqdf0_emFTik194qt20j1LbvN1ymGJsBI=s64",
      "userId": "03179597400061085718"
     },
     "user_tz": -540
    },
    "id": "DyBzrhwKxQju",
    "outputId": "569329e1-e8ab-41d9-b731-e38519ff65f7"
   },
   "outputs": [
    {
     "name": "stdout",
     "output_type": "stream",
     "text": [
      "----------------------------------------------------------------\n",
      "        Layer (type)               Output Shape         Param #\n",
      "================================================================\n",
      "            Conv2d-1          [100, 32, 28, 28]             320\n",
      "              ReLU-2          [100, 32, 28, 28]               0\n",
      "         MaxPool2d-3          [100, 32, 14, 14]               0\n",
      "            Conv2d-4          [100, 64, 14, 14]          18,496\n",
      "              ReLU-5          [100, 64, 14, 14]               0\n",
      "         MaxPool2d-6            [100, 64, 7, 7]               0\n",
      "            Conv2d-7           [100, 128, 7, 7]          73,856\n",
      "              ReLU-8           [100, 128, 7, 7]               0\n",
      "         MaxPool2d-9           [100, 128, 4, 4]               0\n",
      "           Linear-10                 [100, 625]       1,280,625\n",
      "           Linear-11                 [100, 625]       1,280,625\n",
      "             ReLU-12                 [100, 625]               0\n",
      "          Dropout-13                 [100, 625]               0\n",
      "           Linear-14                  [100, 10]           6,260\n",
      "================================================================\n",
      "Total params: 2,660,182\n",
      "Trainable params: 2,660,182\n",
      "Non-trainable params: 0\n",
      "----------------------------------------------------------------\n",
      "Input size (MB): 0.30\n",
      "Forward/backward pass size (MB): 77.65\n",
      "Params size (MB): 10.15\n",
      "Estimated Total Size (MB): 88.09\n",
      "----------------------------------------------------------------\n"
     ]
    }
   ],
   "source": [
    "model = CNN().to(device)\n",
    "summary(model, (1,28,28), batch_size=batch_size)"
   ]
  },
  {
   "cell_type": "code",
   "execution_count": 34,
   "metadata": {
    "executionInfo": {
     "elapsed": 320,
     "status": "ok",
     "timestamp": 1636441242813,
     "user": {
      "displayName": "Jimin Kim",
      "photoUrl": "https://lh3.googleusercontent.com/a-/AOh14GjXY4Z58QWqdf0_emFTik194qt20j1LbvN1ymGJsBI=s64",
      "userId": "03179597400061085718"
     },
     "user_tz": -540
    },
    "id": "-s1YwTonzeWR"
   },
   "outputs": [],
   "source": [
    "# 파라미터 정의\n",
    "criterion = nn.CrossEntropyLoss().to(device)\n",
    "optimizer = torch.optim.Adam(model.parameters(), lr = learning_rate)"
   ]
  },
  {
   "cell_type": "code",
   "execution_count": 35,
   "metadata": {
    "colab": {
     "base_uri": "https://localhost:8080/"
    },
    "executionInfo": {
     "elapsed": 1477622,
     "status": "ok",
     "timestamp": 1636442722833,
     "user": {
      "displayName": "Jimin Kim",
      "photoUrl": "https://lh3.googleusercontent.com/a-/AOh14GjXY4Z58QWqdf0_emFTik194qt20j1LbvN1ymGJsBI=s64",
      "userId": "03179597400061085718"
     },
     "user_tz": -540
    },
    "id": "T8uWtetlxdL0",
    "outputId": "df582140-f16b-4073-d07e-d6220edf1fcf"
   },
   "outputs": [
    {
     "name": "stdout",
     "output_type": "stream",
     "text": [
      "[Epoch :  1] cost = 0.196370274\n",
      "[Epoch :  2] cost = 0.0524963289\n",
      "[Epoch :  3] cost = 0.0392724425\n",
      "[Epoch :  4] cost = 0.0289225206\n",
      "[Epoch :  5] cost = 0.022951914\n",
      "[Epoch :  6] cost = 0.0187023841\n",
      "[Epoch :  7] cost = 0.0173200276\n",
      "[Epoch :  8] cost = 0.0152993798\n",
      "[Epoch :  9] cost = 0.0118491845\n",
      "[Epoch : 10] cost = 0.0129938331\n",
      "[Epoch : 11] cost = 0.010562093\n",
      "[Epoch : 12] cost = 0.00931800716\n",
      "[Epoch : 13] cost = 0.00956155546\n",
      "[Epoch : 14] cost = 0.00598781416\n",
      "[Epoch : 15] cost = 0.00741908466\n",
      "Learning Finished!\n"
     ]
    }
   ],
   "source": [
    "# training\n",
    "total_batch = len(data_loader) # 600개의 배치 묶음\n",
    "model.train() # dropout = True\n",
    "\n",
    "for epoch in range(training_epochs):\n",
    "    avg_cost = 0\n",
    "\n",
    "    for X, Y in data_loader : # (image, label)\n",
    "        X = X.to(device)\n",
    "        Y = Y.to(device)\n",
    "\n",
    "        optimizer.zero_grad()\n",
    "        hypothesis = model(X)\n",
    "\n",
    "        cost = criterion(hypothesis, Y) # 한 배치묶음(100개의 이미지)의 평균 loss(cost)\n",
    "        cost.backward()\n",
    "        optimizer.step()\n",
    "\n",
    "        avg_cost += cost / total_batch\n",
    "\n",
    "    print('[Epoch : {:>2}] cost = {:.9}'.format(epoch+1, avg_cost))\n",
    "\n",
    "print('Learning Finished!')"
   ]
  },
  {
   "cell_type": "code",
   "execution_count": 52,
   "metadata": {
    "colab": {
     "base_uri": "https://localhost:8080/"
    },
    "executionInfo": {
     "elapsed": 5921,
     "status": "ok",
     "timestamp": 1636443203992,
     "user": {
      "displayName": "Jimin Kim",
      "photoUrl": "https://lh3.googleusercontent.com/a-/AOh14GjXY4Z58QWqdf0_emFTik194qt20j1LbvN1ymGJsBI=s64",
      "userId": "03179597400061085718"
     },
     "user_tz": -540
    },
    "id": "vuK-jtoCzE3t",
    "outputId": "fd1c028b-1d21-4e84-9a48-0ad59ef43014"
   },
   "outputs": [
    {
     "name": "stderr",
     "output_type": "stream",
     "text": [
      "/usr/local/lib/python3.7/dist-packages/torchvision/datasets/mnist.py:67: UserWarning: test_data has been renamed data\n",
      "  warnings.warn(\"test_data has been renamed data\")\n",
      "/usr/local/lib/python3.7/dist-packages/torchvision/datasets/mnist.py:57: UserWarning: test_labels has been renamed targets\n",
      "  warnings.warn(\"test_labels has been renamed targets\")\n"
     ]
    },
    {
     "name": "stdout",
     "output_type": "stream",
     "text": [
      "accuracy : 0.9887999892234802\n"
     ]
    }
   ],
   "source": [
    "# test model and check accuracy\n",
    "with torch.no_grad():\n",
    "  model.eval() # dropout = False\n",
    "\n",
    "  X_test = mnist_test.test_data.view(len(mnist_test), 1, 28,28).float().to(device) # 배치사이즈*\n",
    "  Y_test = mnist_test.test_labels.to(device)\n",
    "\n",
    "  prediction = model(X_test)\n",
    "  correct_prediction = torch.argmax(prediction, 1) == Y_test\n",
    "  accuracy = correct_prediction.float().mean()\n",
    "  print('accuracy : {}'.format(accuracy.item()))"
   ]
  }
 ],
 "metadata": {
  "colab": {
   "authorship_tag": "ABX9TyMDcI5kLrEr0XAxzl6YwlaZ",
   "collapsed_sections": [],
   "name": "Lab10-2_JiminKim.ipynb",
   "provenance": []
  },
  "kernelspec": {
   "display_name": "Python 3 (ipykernel)",
   "language": "python",
   "name": "python3"
  },
  "language_info": {
   "codemirror_mode": {
    "name": "ipython",
    "version": 3
   },
   "file_extension": ".py",
   "mimetype": "text/x-python",
   "name": "python",
   "nbconvert_exporter": "python",
   "pygments_lexer": "ipython3",
   "version": "3.8.5"
  }
 },
 "nbformat": 4,
 "nbformat_minor": 1
}
