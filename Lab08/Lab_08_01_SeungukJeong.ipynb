{
 "cells": [
  {
   "cell_type": "markdown",
   "metadata": {},
   "source": [
    "# Lab 08 Perceptron XOR"
   ]
  },
  {
   "cell_type": "code",
   "execution_count": 1,
   "metadata": {},
   "outputs": [],
   "source": [
    "import torch"
   ]
  },
  {
   "cell_type": "code",
   "execution_count": 2,
   "metadata": {},
   "outputs": [],
   "source": [
    "device = 'cuda' if torch.cuda.is_available() else 'cpu'\n",
    "\n",
    "# for reproducibility\n",
    "torch.manual_seed(6273)\n",
    "if device  == 'cuda':\n",
    "    torch.cuda.manual_seed_all(6273)"
   ]
  },
  {
   "cell_type": "code",
   "execution_count": 3,
   "metadata": {},
   "outputs": [],
   "source": [
    "X = torch.FloatTensor( [ [0, 0], [0, 1], [1, 0], [1, 1] ]).to(device)\n",
    "Y = torch.FloatTensor([[0], [1], [1], [0]]).to(device)"
   ]
  },
  {
   "cell_type": "code",
   "execution_count": 4,
   "metadata": {},
   "outputs": [],
   "source": [
    "# nn layers\n",
    "linear = torch.nn.Linear(2, 1, bias = True)\n",
    "sigmoid = torch.nn.Sigmoid()"
   ]
  },
  {
   "cell_type": "code",
   "execution_count": 5,
   "metadata": {},
   "outputs": [],
   "source": [
    "# model모델\n",
    "model = torch.nn.Sequential(linear, sigmoid).to(device)"
   ]
  },
  {
   "cell_type": "code",
   "execution_count": 6,
   "metadata": {},
   "outputs": [],
   "source": [
    "# define cost/loss & optimizer 코스트, 최적화\n",
    "criterion = torch.nn.BCELoss().to(device) # Binary Classifier Loss\n",
    "optimizer = torch.optim.SGD(model.parameters(), lr = 1)"
   ]
  },
  {
   "cell_type": "code",
   "execution_count": 7,
   "metadata": {},
   "outputs": [
    {
     "name": "stdout",
     "output_type": "stream",
     "text": [
      "0 step 0.7629144787788391\n",
      "100 step 0.6931477189064026\n",
      "200 step 0.6931472420692444\n",
      "300 step 0.6931471824645996\n",
      "400 step 0.6931471824645996\n",
      "500 step 0.6931471824645996\n",
      "600 step 0.6931471824645996\n",
      "700 step 0.6931471824645996\n",
      "800 step 0.6931471824645996\n",
      "900 step 0.6931471824645996\n",
      "1000 step 0.6931471824645996\n",
      "1100 step 0.6931471824645996\n",
      "1200 step 0.6931471824645996\n",
      "1300 step 0.6931471824645996\n",
      "1400 step 0.6931471824645996\n",
      "1500 step 0.6931471824645996\n",
      "1600 step 0.6931471824645996\n",
      "1700 step 0.6931471824645996\n",
      "1800 step 0.6931471824645996\n",
      "1900 step 0.6931471824645996\n",
      "2000 step 0.6931471824645996\n",
      "2100 step 0.6931471824645996\n",
      "2200 step 0.6931471824645996\n",
      "2300 step 0.6931471824645996\n",
      "2400 step 0.6931471824645996\n",
      "2500 step 0.6931471824645996\n",
      "2600 step 0.6931471824645996\n",
      "2700 step 0.6931471824645996\n",
      "2800 step 0.6931471824645996\n",
      "2900 step 0.6931471824645996\n",
      "3000 step 0.6931471824645996\n",
      "3100 step 0.6931471824645996\n",
      "3200 step 0.6931471824645996\n",
      "3300 step 0.6931471824645996\n",
      "3400 step 0.6931471824645996\n",
      "3500 step 0.6931471824645996\n",
      "3600 step 0.6931471824645996\n",
      "3700 step 0.6931471824645996\n",
      "3800 step 0.6931471824645996\n",
      "3900 step 0.6931471824645996\n",
      "4000 step 0.6931471824645996\n",
      "4100 step 0.6931471824645996\n",
      "4200 step 0.6931471824645996\n",
      "4300 step 0.6931471824645996\n",
      "4400 step 0.6931471824645996\n",
      "4500 step 0.6931471824645996\n",
      "4600 step 0.6931471824645996\n",
      "4700 step 0.6931471824645996\n",
      "4800 step 0.6931471824645996\n",
      "4900 step 0.6931471824645996\n",
      "5000 step 0.6931471824645996\n",
      "5100 step 0.6931471824645996\n",
      "5200 step 0.6931471824645996\n",
      "5300 step 0.6931471824645996\n",
      "5400 step 0.6931471824645996\n",
      "5500 step 0.6931471824645996\n",
      "5600 step 0.6931471824645996\n",
      "5700 step 0.6931471824645996\n",
      "5800 step 0.6931471824645996\n",
      "5900 step 0.6931471824645996\n",
      "6000 step 0.6931471824645996\n",
      "6100 step 0.6931471824645996\n",
      "6200 step 0.6931471824645996\n",
      "6300 step 0.6931471824645996\n",
      "6400 step 0.6931471824645996\n",
      "6500 step 0.6931471824645996\n",
      "6600 step 0.6931471824645996\n",
      "6700 step 0.6931471824645996\n",
      "6800 step 0.6931471824645996\n",
      "6900 step 0.6931471824645996\n",
      "7000 step 0.6931471824645996\n",
      "7100 step 0.6931471824645996\n",
      "7200 step 0.6931471824645996\n",
      "7300 step 0.6931471824645996\n",
      "7400 step 0.6931471824645996\n",
      "7500 step 0.6931471824645996\n",
      "7600 step 0.6931471824645996\n",
      "7700 step 0.6931471824645996\n",
      "7800 step 0.6931471824645996\n",
      "7900 step 0.6931471824645996\n",
      "8000 step 0.6931471824645996\n",
      "8100 step 0.6931471824645996\n",
      "8200 step 0.6931471824645996\n",
      "8300 step 0.6931471824645996\n",
      "8400 step 0.6931471824645996\n",
      "8500 step 0.6931471824645996\n",
      "8600 step 0.6931471824645996\n",
      "8700 step 0.6931471824645996\n",
      "8800 step 0.6931471824645996\n",
      "8900 step 0.6931471824645996\n",
      "9000 step 0.6931471824645996\n",
      "9100 step 0.6931471824645996\n",
      "9200 step 0.6931471824645996\n",
      "9300 step 0.6931471824645996\n",
      "9400 step 0.6931471824645996\n",
      "9500 step 0.6931471824645996\n",
      "9600 step 0.6931471824645996\n",
      "9700 step 0.6931471824645996\n",
      "9800 step 0.6931471824645996\n",
      "9900 step 0.6931471824645996\n",
      "10000 step 0.6931471824645996\n"
     ]
    }
   ],
   "source": [
    "# step 10000 회\n",
    "for step in range(10001):\n",
    "    optimizer.zero_grad()\n",
    "    hypothesis = model(X)\n",
    "\n",
    "    # cost/loss function\n",
    "    cost = criterion(hypothesis, Y)\n",
    "    cost.backward()\n",
    "    optimizer.step()\n",
    "\n",
    "    if step % 100 == 0: # cost per 100 steps \n",
    "        print(step, 'step', cost.item())"
   ]
  },
  {
   "cell_type": "markdown",
   "metadata": {},
   "source": [
    "## Accuracy Computation"
   ]
  },
  {
   "cell_type": "code",
   "execution_count": 12,
   "metadata": {},
   "outputs": [
    {
     "name": "stdout",
     "output_type": "stream",
     "text": [
      "\n",
      " * Hypothesis:  \n",
      " [[0.5]\n",
      " [0.5]\n",
      " [0.5]\n",
      " [0.5]] \n",
      " * Correct:  \n",
      " [[0.]\n",
      " [0.]\n",
      " [0.]\n",
      " [0.]] \n",
      " * Accuracy:  \n",
      " 0.5\n"
     ]
    }
   ],
   "source": [
    "# Accuracy computation\n",
    "# True if hypthesis > 0.5 else False\n",
    "with torch.no_grad():\n",
    "    hypothesis = model(X)\n",
    "    predicted = (hypothesis > 0.5).float()\n",
    "    accuracy = (predicted == Y).float().mean()\n",
    "    print('\\n * Hypothesis: ', '\\n', hypothesis.detach().cpu().numpy(),\n",
    "          '\\n * Correct: ', '\\n', predicted.detach().cpu().numpy(),\n",
    "          '\\n * Accuracy: ', '\\n', accuracy.item())"
   ]
  },
  {
   "cell_type": "code",
   "execution_count": null,
   "metadata": {},
   "outputs": [],
   "source": []
  },
  {
   "cell_type": "code",
   "execution_count": null,
   "metadata": {},
   "outputs": [],
   "source": []
  },
  {
   "cell_type": "code",
   "execution_count": null,
   "metadata": {},
   "outputs": [],
   "source": []
  },
  {
   "cell_type": "code",
   "execution_count": null,
   "metadata": {},
   "outputs": [],
   "source": []
  },
  {
   "cell_type": "code",
   "execution_count": null,
   "metadata": {},
   "outputs": [],
   "source": []
  },
  {
   "cell_type": "code",
   "execution_count": null,
   "metadata": {},
   "outputs": [],
   "source": []
  }
 ],
 "metadata": {
  "interpreter": {
   "hash": "c6e4e9f98eb68ad3b7c296f83d20e6de614cb42e90992a65aa266555a3137d0d"
  },
  "kernelspec": {
   "display_name": "Python 3.9.7 64-bit ('base': conda)",
   "name": "python3"
  },
  "language_info": {
   "codemirror_mode": {
    "name": "ipython",
    "version": 3
   },
   "file_extension": ".py",
   "mimetype": "text/x-python",
   "name": "python",
   "nbconvert_exporter": "python",
   "pygments_lexer": "ipython3",
   "version": "3.9.7"
  },
  "orig_nbformat": 4
 },
 "nbformat": 4,
 "nbformat_minor": 2
}
