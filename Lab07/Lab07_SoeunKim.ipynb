{
  "nbformat": 4,
  "nbformat_minor": 0,
  "metadata": {
    "kernelspec": {
      "display_name": "Python 3",
      "language": "python",
      "name": "python3"
    },
    "language_info": {
      "codemirror_mode": {
        "name": "ipython",
        "version": 3
      },
      "file_extension": ".py",
      "mimetype": "text/x-python",
      "name": "python",
      "nbconvert_exporter": "python",
      "pygments_lexer": "ipython3",
      "version": "3.8.5"
    },
    "colab": {
      "name": "Lab07_SoeunKim.ipynb",
      "provenance": [],
      "toc_visible": true
    },
    "accelerator": "GPU"
  },
  "cells": [
    {
      "cell_type": "markdown",
      "metadata": {
        "id": "aQfpfG0uVwfd"
      },
      "source": [
        "# Lab07_1 : Tips\n",
        "#### CUAI 4기 김소은"
      ]
    },
    {
      "cell_type": "markdown",
      "metadata": {
        "id": "kwUtgW1DVwff"
      },
      "source": [
        "## Imports"
      ]
    },
    {
      "cell_type": "code",
      "metadata": {
        "id": "ga4mKzPNVwfg"
      },
      "source": [
        "import torch\n",
        "import torch.nn as nn\n",
        "import torch.nn.functional as F\n",
        "import torch.optim as optim"
      ],
      "execution_count": 12,
      "outputs": []
    },
    {
      "cell_type": "code",
      "metadata": {
        "colab": {
          "base_uri": "https://localhost:8080/"
        },
        "id": "U8-g8N8SVwfi",
        "outputId": "6a27798c-0c41-4974-cc61-915b4d463e86"
      },
      "source": [
        "torch.manual_seed(1)"
      ],
      "execution_count": 13,
      "outputs": [
        {
          "output_type": "execute_result",
          "data": {
            "text/plain": [
              "<torch._C.Generator at 0x7efb600429d0>"
            ]
          },
          "metadata": {},
          "execution_count": 13
        }
      ]
    },
    {
      "cell_type": "markdown",
      "metadata": {
        "id": "OmXt7YANVwfk"
      },
      "source": [
        "## Training and Test Datasets"
      ]
    },
    {
      "cell_type": "code",
      "metadata": {
        "id": "NHzd-14xVwfk"
      },
      "source": [
        "x_train = torch.FloatTensor([[1, 2, 1],\n",
        "                             [1, 3, 2],\n",
        "                             [1, 3, 4],\n",
        "                             [1, 5, 5],\n",
        "                             [1, 7, 5],\n",
        "                             [1, 2, 5],\n",
        "                             [1, 6, 6],\n",
        "                             [1, 7, 7]\n",
        "                            ])\n",
        "y_train = torch.LongTensor([2, 2, 2, 1, 1, 1, 0, 0])"
      ],
      "execution_count": 14,
      "outputs": []
    },
    {
      "cell_type": "code",
      "metadata": {
        "id": "sfNvzaCiVwfl"
      },
      "source": [
        "x_test = torch.FloatTensor([[2, 1, 1], [3, 1, 2], [3, 3, 4]])\n",
        "y_test = torch.LongTensor([2, 2, 2])"
      ],
      "execution_count": 15,
      "outputs": []
    },
    {
      "cell_type": "markdown",
      "metadata": {
        "id": "BJh55LwqVwfl"
      },
      "source": [
        "## Model"
      ]
    },
    {
      "cell_type": "code",
      "metadata": {
        "id": "J6Ms6BWxVwfm"
      },
      "source": [
        "class SoftmaxClassifierModel(nn.Module):\n",
        "    def __init__(self):\n",
        "        super().__init__()\n",
        "        self.linear = nn.Linear(3, 3)\n",
        "    def forward(self, x):\n",
        "        return self.linear(x)"
      ],
      "execution_count": 16,
      "outputs": []
    },
    {
      "cell_type": "code",
      "metadata": {
        "id": "W8_G18NSVwfn"
      },
      "source": [
        "model = SoftmaxClassifierModel()"
      ],
      "execution_count": 17,
      "outputs": []
    },
    {
      "cell_type": "code",
      "metadata": {
        "id": "I07_5nRaVwfn"
      },
      "source": [
        "# optimizer 설정\n",
        "optimizer = optim.SGD(model.parameters(), lr=0.1)"
      ],
      "execution_count": 18,
      "outputs": []
    },
    {
      "cell_type": "code",
      "metadata": {
        "id": "X1dCBHZWVwfn"
      },
      "source": [
        "def train(model, optimizer, x_train, y_train):\n",
        "    nb_epochs = 20\n",
        "    for epoch in range(nb_epochs):\n",
        "\n",
        "        # H(x) 계산\n",
        "        prediction = model(x_train)\n",
        "\n",
        "        # cost 계산\n",
        "        cost = F.cross_entropy(prediction, y_train)\n",
        "\n",
        "        # cost로 H(x) 개선\n",
        "        optimizer.zero_grad()\n",
        "        cost.backward()\n",
        "        optimizer.step()\n",
        "\n",
        "        print('Epoch {:4d}/{} Cost: {:.6f}'.format(\n",
        "            epoch, nb_epochs, cost.item()\n",
        "        ))"
      ],
      "execution_count": 19,
      "outputs": []
    },
    {
      "cell_type": "code",
      "metadata": {
        "id": "Xa90qZu1Vwfo"
      },
      "source": [
        "def test(model, optimizer, x_test, y_test):\n",
        "    prediction = model(x_test)\n",
        "    predicted_classes = prediction.max(1)[1]\n",
        "    correct_count = (predicted_classes == y_test).sum().item()\n",
        "    cost = F.cross_entropy(prediction, y_test)\n",
        "\n",
        "    print('Accuracy: {}% Cost: {:.6f}'.format(\n",
        "         correct_count / len(y_test) * 100, cost.item()\n",
        "    ))"
      ],
      "execution_count": 20,
      "outputs": []
    },
    {
      "cell_type": "code",
      "metadata": {
        "colab": {
          "base_uri": "https://localhost:8080/"
        },
        "id": "YnWkNKvaVwfo",
        "outputId": "6adf4692-ecdc-4f1f-b90d-38802e8158db"
      },
      "source": [
        "train(model, optimizer, x_train, y_train)"
      ],
      "execution_count": 21,
      "outputs": [
        {
          "output_type": "stream",
          "name": "stdout",
          "text": [
            "Epoch    0/20 Cost: 2.203667\n",
            "Epoch    1/20 Cost: 1.199645\n",
            "Epoch    2/20 Cost: 1.142985\n",
            "Epoch    3/20 Cost: 1.117769\n",
            "Epoch    4/20 Cost: 1.100901\n",
            "Epoch    5/20 Cost: 1.089523\n",
            "Epoch    6/20 Cost: 1.079872\n",
            "Epoch    7/20 Cost: 1.071320\n",
            "Epoch    8/20 Cost: 1.063325\n",
            "Epoch    9/20 Cost: 1.055720\n",
            "Epoch   10/20 Cost: 1.048378\n",
            "Epoch   11/20 Cost: 1.041245\n",
            "Epoch   12/20 Cost: 1.034285\n",
            "Epoch   13/20 Cost: 1.027478\n",
            "Epoch   14/20 Cost: 1.020813\n",
            "Epoch   15/20 Cost: 1.014279\n",
            "Epoch   16/20 Cost: 1.007872\n",
            "Epoch   17/20 Cost: 1.001586\n",
            "Epoch   18/20 Cost: 0.995419\n",
            "Epoch   19/20 Cost: 0.989365\n"
          ]
        }
      ]
    },
    {
      "cell_type": "code",
      "metadata": {
        "colab": {
          "base_uri": "https://localhost:8080/"
        },
        "id": "je2-sWulVwfp",
        "outputId": "f133835d-da4c-43ef-9f92-281e73daabca"
      },
      "source": [
        "test(model, optimizer, x_test, y_test)"
      ],
      "execution_count": 22,
      "outputs": [
        {
          "output_type": "stream",
          "name": "stdout",
          "text": [
            "Accuracy: 0.0% Cost: 1.425844\n"
          ]
        }
      ]
    },
    {
      "cell_type": "markdown",
      "metadata": {
        "id": "05NPBrCXVwfp"
      },
      "source": [
        "## Learning Rate"
      ]
    },
    {
      "cell_type": "markdown",
      "metadata": {
        "id": "8Ra182JSVwfp"
      },
      "source": [
        "##### learning rate이 너무 크면 diverge하면서 cost가 점점 늘어난다 (overshooting)"
      ]
    },
    {
      "cell_type": "code",
      "metadata": {
        "id": "jCd4ud-xVwfp"
      },
      "source": [
        "model = SoftmaxClassifierModel()"
      ],
      "execution_count": 23,
      "outputs": []
    },
    {
      "cell_type": "code",
      "metadata": {
        "id": "sqr6PwetVwfq"
      },
      "source": [
        "optimizer = optim.SGD(model.parameters(), lr=1e5)"
      ],
      "execution_count": 24,
      "outputs": []
    },
    {
      "cell_type": "code",
      "metadata": {
        "colab": {
          "base_uri": "https://localhost:8080/"
        },
        "id": "Ap6At5mbVwfq",
        "outputId": "dbfd25fd-0787-45f6-9c4b-43c0864fcbce"
      },
      "source": [
        "train(model, optimizer, x_train, y_train)"
      ],
      "execution_count": 25,
      "outputs": [
        {
          "output_type": "stream",
          "name": "stdout",
          "text": [
            "Epoch    0/20 Cost: 1.280268\n",
            "Epoch    1/20 Cost: 976950.750000\n",
            "Epoch    2/20 Cost: 1279135.250000\n",
            "Epoch    3/20 Cost: 1198378.875000\n",
            "Epoch    4/20 Cost: 1098825.750000\n",
            "Epoch    5/20 Cost: 1968197.750000\n",
            "Epoch    6/20 Cost: 284763.250000\n",
            "Epoch    7/20 Cost: 1532260.250000\n",
            "Epoch    8/20 Cost: 1651503.750000\n",
            "Epoch    9/20 Cost: 521878.593750\n",
            "Epoch   10/20 Cost: 1397263.250000\n",
            "Epoch   11/20 Cost: 750986.375000\n",
            "Epoch   12/20 Cost: 918691.375000\n",
            "Epoch   13/20 Cost: 1487888.250000\n",
            "Epoch   14/20 Cost: 1582260.250000\n",
            "Epoch   15/20 Cost: 685818.125000\n",
            "Epoch   16/20 Cost: 1140048.875000\n",
            "Epoch   17/20 Cost: 940566.375000\n",
            "Epoch   18/20 Cost: 931638.250000\n",
            "Epoch   19/20 Cost: 1971322.750000\n"
          ]
        }
      ]
    },
    {
      "cell_type": "markdown",
      "metadata": {
        "id": "lIAHYx0xVwfq"
      },
      "source": [
        "##### learning rate이 너무 작으면 cost가 거의 줄어들지 않는다."
      ]
    },
    {
      "cell_type": "code",
      "metadata": {
        "id": "z-blluIkVwfq"
      },
      "source": [
        "model = SoftmaxClassifierModel()"
      ],
      "execution_count": 26,
      "outputs": []
    },
    {
      "cell_type": "code",
      "metadata": {
        "id": "CYZ4-QruVwfq"
      },
      "source": [
        "optimizer = optim.SGD(model.parameters(), lr=1e-10)"
      ],
      "execution_count": 27,
      "outputs": []
    },
    {
      "cell_type": "code",
      "metadata": {
        "colab": {
          "base_uri": "https://localhost:8080/"
        },
        "id": "e_x0SZ_LVwfr",
        "outputId": "64e51c66-d09e-4591-ab31-429f20693cf2"
      },
      "source": [
        "train(model, optimizer, x_train, y_train)"
      ],
      "execution_count": 28,
      "outputs": [
        {
          "output_type": "stream",
          "name": "stdout",
          "text": [
            "Epoch    0/20 Cost: 3.187324\n",
            "Epoch    1/20 Cost: 3.187324\n",
            "Epoch    2/20 Cost: 3.187324\n",
            "Epoch    3/20 Cost: 3.187324\n",
            "Epoch    4/20 Cost: 3.187324\n",
            "Epoch    5/20 Cost: 3.187324\n",
            "Epoch    6/20 Cost: 3.187324\n",
            "Epoch    7/20 Cost: 3.187324\n",
            "Epoch    8/20 Cost: 3.187324\n",
            "Epoch    9/20 Cost: 3.187324\n",
            "Epoch   10/20 Cost: 3.187324\n",
            "Epoch   11/20 Cost: 3.187324\n",
            "Epoch   12/20 Cost: 3.187324\n",
            "Epoch   13/20 Cost: 3.187324\n",
            "Epoch   14/20 Cost: 3.187324\n",
            "Epoch   15/20 Cost: 3.187324\n",
            "Epoch   16/20 Cost: 3.187324\n",
            "Epoch   17/20 Cost: 3.187324\n",
            "Epoch   18/20 Cost: 3.187324\n",
            "Epoch   19/20 Cost: 3.187324\n"
          ]
        }
      ]
    },
    {
      "cell_type": "markdown",
      "metadata": {
        "id": "Q9EdIW2RVwfr"
      },
      "source": [
        "##### 적절한 learing rate로 변경"
      ]
    },
    {
      "cell_type": "code",
      "metadata": {
        "id": "Tzbo98uhVwfr"
      },
      "source": [
        "model = SoftmaxClassifierModel()"
      ],
      "execution_count": 29,
      "outputs": []
    },
    {
      "cell_type": "code",
      "metadata": {
        "id": "50QOdPEgVwfr"
      },
      "source": [
        "optimizer = optim.SGD(model.parameters(), lr=1e-1)"
      ],
      "execution_count": 30,
      "outputs": []
    },
    {
      "cell_type": "code",
      "metadata": {
        "colab": {
          "base_uri": "https://localhost:8080/"
        },
        "id": "PCHcZVq-Vwfr",
        "outputId": "b84417ad-7b88-450e-baa5-3a471f2946cc"
      },
      "source": [
        "train(model, optimizer, x_train, y_train)"
      ],
      "execution_count": 31,
      "outputs": [
        {
          "output_type": "stream",
          "name": "stdout",
          "text": [
            "Epoch    0/20 Cost: 1.341574\n",
            "Epoch    1/20 Cost: 1.198802\n",
            "Epoch    2/20 Cost: 1.150877\n",
            "Epoch    3/20 Cost: 1.131977\n",
            "Epoch    4/20 Cost: 1.116242\n",
            "Epoch    5/20 Cost: 1.102514\n",
            "Epoch    6/20 Cost: 1.089676\n",
            "Epoch    7/20 Cost: 1.077479\n",
            "Epoch    8/20 Cost: 1.065775\n",
            "Epoch    9/20 Cost: 1.054511\n",
            "Epoch   10/20 Cost: 1.043655\n",
            "Epoch   11/20 Cost: 1.033187\n",
            "Epoch   12/20 Cost: 1.023091\n",
            "Epoch   13/20 Cost: 1.013356\n",
            "Epoch   14/20 Cost: 1.003968\n",
            "Epoch   15/20 Cost: 0.994917\n",
            "Epoch   16/20 Cost: 0.986189\n",
            "Epoch   17/20 Cost: 0.977775\n",
            "Epoch   18/20 Cost: 0.969661\n",
            "Epoch   19/20 Cost: 0.961836\n"
          ]
        }
      ]
    },
    {
      "cell_type": "markdown",
      "metadata": {
        "id": "RUcGKuBRVwfs"
      },
      "source": [
        "## Data Preprocessing"
      ]
    },
    {
      "cell_type": "code",
      "metadata": {
        "id": "qi11nymkVwfs"
      },
      "source": [
        "x_train = torch.FloatTensor([[73, 80, 75],\n",
        "                             [93, 88, 93],\n",
        "                             [89, 91, 90],\n",
        "                             [96, 98, 100],\n",
        "                             [73, 66, 70]])\n",
        "y_train = torch.FloatTensor([[152], [185], [180], [196], [142]])"
      ],
      "execution_count": 32,
      "outputs": []
    },
    {
      "cell_type": "code",
      "metadata": {
        "id": "w6i-_difVwfs"
      },
      "source": [
        "mu = x_train.mean(dim=0)"
      ],
      "execution_count": 33,
      "outputs": []
    },
    {
      "cell_type": "code",
      "metadata": {
        "id": "KEvDSzX5Vwfs"
      },
      "source": [
        "sigma = x_train.std(dim=0)"
      ],
      "execution_count": 34,
      "outputs": []
    },
    {
      "cell_type": "code",
      "metadata": {
        "colab": {
          "base_uri": "https://localhost:8080/"
        },
        "id": "LNoQbC0NVwft",
        "outputId": "cd477bf7-9253-4dc3-ed6e-d9e5e75f450d"
      },
      "source": [
        "# Normalize, zero center\n",
        "norm_x_train = (x_train - mu) / sigma\n",
        "print(norm_x_train)"
      ],
      "execution_count": 35,
      "outputs": [
        {
          "output_type": "stream",
          "name": "stdout",
          "text": [
            "tensor([[-1.0674, -0.3758, -0.8398],\n",
            "        [ 0.7418,  0.2778,  0.5863],\n",
            "        [ 0.3799,  0.5229,  0.3486],\n",
            "        [ 1.0132,  1.0948,  1.1409],\n",
            "        [-1.0674, -1.5197, -1.2360]])\n"
          ]
        }
      ]
    },
    {
      "cell_type": "code",
      "metadata": {
        "id": "__M2OMEJVwft"
      },
      "source": [
        "class MultivariateLinearRegressionModel(nn.Module):\n",
        "    def __init__(self):\n",
        "        super().__init__()\n",
        "        self.linear = nn.Linear(3, 1)\n",
        "\n",
        "    def forward(self, x):\n",
        "        return self.linear(x)"
      ],
      "execution_count": 36,
      "outputs": []
    },
    {
      "cell_type": "code",
      "metadata": {
        "id": "2XgUSzstVwft"
      },
      "source": [
        "model = MultivariateLinearRegressionModel()"
      ],
      "execution_count": 37,
      "outputs": []
    },
    {
      "cell_type": "code",
      "metadata": {
        "id": "1OntmkMsVwft"
      },
      "source": [
        "optimizer = optim.SGD(model.parameters(), lr=1e-1)"
      ],
      "execution_count": 38,
      "outputs": []
    },
    {
      "cell_type": "code",
      "metadata": {
        "id": "Fbm3th3PVwft"
      },
      "source": [
        "def train(model, optimizer, x_train, y_train):\n",
        "    nb_epochs = 20\n",
        "    for epoch in range(nb_epochs):\n",
        "\n",
        "        # H(x) 계산\n",
        "        prediction = model(x_train)\n",
        "\n",
        "        # cost 계산\n",
        "        cost = F.mse_loss(prediction, y_train)\n",
        "\n",
        "        # cost로 H(x) 개선\n",
        "        optimizer.zero_grad()\n",
        "        cost.backward()\n",
        "        optimizer.step()\n",
        "\n",
        "        print('Epoch {:4d}/{} Cost: {:.6f}'.format(\n",
        "            epoch, nb_epochs, cost.item()\n",
        "        ))"
      ],
      "execution_count": 39,
      "outputs": []
    },
    {
      "cell_type": "code",
      "metadata": {
        "colab": {
          "base_uri": "https://localhost:8080/"
        },
        "id": "Oijce1K3Vwfu",
        "outputId": "091d6d1e-e6f1-4808-981c-e5611ef21149"
      },
      "source": [
        "train(model, optimizer, norm_x_train, y_train)"
      ],
      "execution_count": 40,
      "outputs": [
        {
          "output_type": "stream",
          "name": "stdout",
          "text": [
            "Epoch    0/20 Cost: 29785.089844\n",
            "Epoch    1/20 Cost: 18906.166016\n",
            "Epoch    2/20 Cost: 12054.673828\n",
            "Epoch    3/20 Cost: 7702.029785\n",
            "Epoch    4/20 Cost: 4925.733398\n",
            "Epoch    5/20 Cost: 3151.632812\n",
            "Epoch    6/20 Cost: 2016.996094\n",
            "Epoch    7/20 Cost: 1291.051270\n",
            "Epoch    8/20 Cost: 826.505249\n",
            "Epoch    9/20 Cost: 529.207397\n",
            "Epoch   10/20 Cost: 338.934174\n",
            "Epoch   11/20 Cost: 217.153564\n",
            "Epoch   12/20 Cost: 139.206757\n",
            "Epoch   13/20 Cost: 89.313782\n",
            "Epoch   14/20 Cost: 57.375465\n",
            "Epoch   15/20 Cost: 36.928429\n",
            "Epoch   16/20 Cost: 23.835773\n",
            "Epoch   17/20 Cost: 15.450401\n",
            "Epoch   18/20 Cost: 10.077809\n",
            "Epoch   19/20 Cost: 6.633700\n"
          ]
        }
      ]
    },
    {
      "cell_type": "markdown",
      "metadata": {
        "id": "97k_2Ai2Vwfu"
      },
      "source": [
        "## Overfitting"
      ]
    },
    {
      "cell_type": "code",
      "metadata": {
        "id": "c-lCP9cvVwfu"
      },
      "source": [
        "# Regularization\n",
        "def train_with_regularization(model, optimizer, x_train, y_train):\n",
        "    nb_epochs = 20\n",
        "    for epoch in range(nb_epochs):\n",
        "\n",
        "        # H(x) 계산\n",
        "        prediction = model(x_train)\n",
        "\n",
        "        # cost 계산\n",
        "        cost = F.mse_loss(prediction, y_train)\n",
        "        \n",
        "        # l2 norm 계산\n",
        "        l2_reg = 0\n",
        "        for param in model.parameters():\n",
        "            l2_reg += torch.norm(param)\n",
        "            \n",
        "        cost += l2_reg\n",
        "\n",
        "        # cost로 H(x) 개선\n",
        "        optimizer.zero_grad()\n",
        "        cost.backward()\n",
        "        optimizer.step()\n",
        "\n",
        "        print('Epoch {:4d}/{} Cost: {:.6f}'.format(\n",
        "            epoch+1, nb_epochs, cost.item()\n",
        "        ))"
      ],
      "execution_count": 41,
      "outputs": []
    },
    {
      "cell_type": "code",
      "metadata": {
        "id": "8W6tLrWBVwfu"
      },
      "source": [
        "model = MultivariateLinearRegressionModel()"
      ],
      "execution_count": 42,
      "outputs": []
    },
    {
      "cell_type": "code",
      "metadata": {
        "id": "6y0sdhGWVwfu"
      },
      "source": [
        "optimizer = optim.SGD(model.parameters(), lr=1e-1)"
      ],
      "execution_count": 43,
      "outputs": []
    },
    {
      "cell_type": "code",
      "metadata": {
        "colab": {
          "base_uri": "https://localhost:8080/"
        },
        "id": "HCjl6z56Vwfu",
        "outputId": "3779e5b2-bcd3-482a-cb01-3d5151808ca2"
      },
      "source": [
        "train_with_regularization(model, optimizer, norm_x_train, y_train)"
      ],
      "execution_count": 44,
      "outputs": [
        {
          "output_type": "stream",
          "name": "stdout",
          "text": [
            "Epoch    1/20 Cost: 29477.810547\n",
            "Epoch    2/20 Cost: 18798.513672\n",
            "Epoch    3/20 Cost: 12059.365234\n",
            "Epoch    4/20 Cost: 7773.400391\n",
            "Epoch    5/20 Cost: 5038.264160\n",
            "Epoch    6/20 Cost: 3290.066406\n",
            "Epoch    7/20 Cost: 2171.881836\n",
            "Epoch    8/20 Cost: 1456.433350\n",
            "Epoch    9/20 Cost: 998.597473\n",
            "Epoch   10/20 Cost: 705.594727\n",
            "Epoch   11/20 Cost: 518.073608\n",
            "Epoch   12/20 Cost: 398.057220\n",
            "Epoch   13/20 Cost: 321.242920\n",
            "Epoch   14/20 Cost: 272.078247\n",
            "Epoch   15/20 Cost: 240.609131\n",
            "Epoch   16/20 Cost: 220.465637\n",
            "Epoch   17/20 Cost: 207.570572\n",
            "Epoch   18/20 Cost: 199.314804\n",
            "Epoch   19/20 Cost: 194.028214\n",
            "Epoch   20/20 Cost: 190.642029\n"
          ]
        }
      ]
    },
    {
      "cell_type": "markdown",
      "metadata": {
        "id": "_2s1dVDJVwfv"
      },
      "source": [
        "# Lab07_2 : MNIST introduction"
      ]
    },
    {
      "cell_type": "markdown",
      "metadata": {
        "id": "wIL17_CfVwfv"
      },
      "source": [
        "## Imports"
      ]
    },
    {
      "cell_type": "code",
      "metadata": {
        "id": "1FchMH1-Vwfv"
      },
      "source": [
        "# !pip install torchvision"
      ],
      "execution_count": 45,
      "outputs": []
    },
    {
      "cell_type": "code",
      "metadata": {
        "id": "G-1o7gC7Vwfv"
      },
      "source": [
        "import torchvision.datasets as dsets\n",
        "import torchvision.transforms as transforms\n",
        "import matplotlib.pyplot as plt\n",
        "import random"
      ],
      "execution_count": 46,
      "outputs": []
    },
    {
      "cell_type": "code",
      "metadata": {
        "id": "MICCT7KcVwfv"
      },
      "source": [
        "device = 'cuda' if torch.cuda.is_available() else 'cpu'\n",
        "\n",
        "# for reproducibility\n",
        "random.seed(777)\n",
        "torch.manual_seed(777)\n",
        "if device == 'cuda':\n",
        "    torch.cuda.manual_seed_all(777)"
      ],
      "execution_count": 47,
      "outputs": []
    },
    {
      "cell_type": "code",
      "metadata": {
        "id": "pzZF80n9Vwfv"
      },
      "source": [
        "# parameters 설정\n",
        "training_epochs = 15\n",
        "batch_size = 100"
      ],
      "execution_count": 48,
      "outputs": []
    },
    {
      "cell_type": "code",
      "metadata": {
        "id": "_JmDj5NDVwfw"
      },
      "source": [
        "# MNIST dataset\n",
        "mnist_train = dsets.MNIST(root='MNIST_data/',\n",
        "                          train=True,\n",
        "                          transform=transforms.ToTensor(),\n",
        "                          download=True)\n",
        "\n",
        "mnist_test = dsets.MNIST(root='MNIST_data/',\n",
        "                         train=False,\n",
        "                         transform=transforms.ToTensor(),\n",
        "                         download=True)"
      ],
      "execution_count": 49,
      "outputs": []
    },
    {
      "cell_type": "code",
      "metadata": {
        "id": "hYDLAHTnVwfw"
      },
      "source": [
        "# dataset loader (위에서 parameter 값 설정했음)\n",
        "data_loader = torch.utils.data.DataLoader(dataset=mnist_train,\n",
        "                                          batch_size=batch_size,\n",
        "                                          shuffle=True,\n",
        "                                          drop_last=True)"
      ],
      "execution_count": 50,
      "outputs": []
    },
    {
      "cell_type": "code",
      "metadata": {
        "id": "6TNk8jq4Vwfw"
      },
      "source": [
        "# MNIST data image of shape 28 * 28 = 784\n",
        "\n",
        "linear = torch.nn.Linear(784, 10, bias=True).to(device)"
      ],
      "execution_count": 51,
      "outputs": []
    },
    {
      "cell_type": "code",
      "metadata": {
        "id": "Foi71VvPVwfx"
      },
      "source": [
        "# define cost/loss & optimizer\n",
        "\n",
        "criterion = torch.nn.CrossEntropyLoss().to(device)   \n",
        "optimizer = torch.optim.SGD(linear.parameters(), lr=0.1)"
      ],
      "execution_count": 52,
      "outputs": []
    },
    {
      "cell_type": "code",
      "metadata": {
        "colab": {
          "base_uri": "https://localhost:8080/"
        },
        "id": "5CmvgyaVVwfx",
        "outputId": "a3b10c9f-d1b5-4be7-9ce5-ca3eb8c95703"
      },
      "source": [
        "for epoch in range(training_epochs):\n",
        "    avg_cost = 0\n",
        "    total_batch = len(data_loader)\n",
        "\n",
        "    for X, Y in data_loader:\n",
        "        \n",
        "        # reshape input image into [batch_size by 784]\n",
        "        # label is not one-hot encoded\n",
        "        X = X.view(-1, 28 * 28).to(device)\n",
        "        Y = Y.to(device)\n",
        "\n",
        "        optimizer.zero_grad()\n",
        "        hypothesis = linear(X)\n",
        "        cost = criterion(hypothesis, Y)\n",
        "        cost.backward()\n",
        "        optimizer.step()\n",
        "\n",
        "        avg_cost += cost / total_batch\n",
        "\n",
        "    print('Epoch:', '%04d' % (epoch + 1), 'cost =', '{:.9f}'.format(avg_cost))\n",
        "\n",
        "print('Learning finished')"
      ],
      "execution_count": 53,
      "outputs": [
        {
          "output_type": "stream",
          "name": "stdout",
          "text": [
            "Epoch: 0001 cost = 0.535150647\n",
            "Epoch: 0002 cost = 0.359577745\n",
            "Epoch: 0003 cost = 0.331264257\n",
            "Epoch: 0004 cost = 0.316404670\n",
            "Epoch: 0005 cost = 0.307106972\n",
            "Epoch: 0006 cost = 0.300456583\n",
            "Epoch: 0007 cost = 0.294933438\n",
            "Epoch: 0008 cost = 0.290956229\n",
            "Epoch: 0009 cost = 0.287074089\n",
            "Epoch: 0010 cost = 0.284515619\n",
            "Epoch: 0011 cost = 0.281914085\n",
            "Epoch: 0012 cost = 0.279526889\n",
            "Epoch: 0013 cost = 0.277636617\n",
            "Epoch: 0014 cost = 0.275874794\n",
            "Epoch: 0015 cost = 0.274422735\n",
            "Learning finished\n"
          ]
        }
      ]
    },
    {
      "cell_type": "code",
      "metadata": {
        "colab": {
          "base_uri": "https://localhost:8080/",
          "height": 388
        },
        "id": "J9tmpNbXVwfx",
        "outputId": "2e57f6ac-c2de-4406-830d-b2bcadb25466"
      },
      "source": [
        "# model test with test data\n",
        "\n",
        "with torch.no_grad():\n",
        "    X_test = mnist_test.test_data.view(-1, 28 * 28).float().to(device)\n",
        "    Y_test = mnist_test.test_labels.to(device)\n",
        "\n",
        "    prediction = linear(X_test)\n",
        "    correct_prediction = torch.argmax(prediction, 1) == Y_test\n",
        "    accuracy = correct_prediction.float().mean()\n",
        "    print('Accuracy:', accuracy.item())\n",
        "\n",
        "    r = random.randint(0, len(mnist_test) - 1)\n",
        "    X_single_data = mnist_test.test_data[r:r + 1].view(-1, 28 * 28).float().to(device)\n",
        "    Y_single_data = mnist_test.test_labels[r:r + 1].to(device)\n",
        "\n",
        "    print('Label: ', Y_single_data.item())\n",
        "    single_prediction = linear(X_single_data)\n",
        "    print('Prediction: ', torch.argmax(single_prediction, 1).item())\n",
        "\n",
        "    plt.imshow(mnist_test.test_data[r:r + 1].view(28, 28), cmap='Greys', interpolation='nearest')\n",
        "    plt.show()"
      ],
      "execution_count": 54,
      "outputs": [
        {
          "output_type": "stream",
          "name": "stdout",
          "text": [
            "Accuracy: 0.8883000016212463\n",
            "Label:  8\n",
            "Prediction:  3\n"
          ]
        },
        {
          "output_type": "stream",
          "name": "stderr",
          "text": [
            "/usr/local/lib/python3.7/dist-packages/torchvision/datasets/mnist.py:67: UserWarning: test_data has been renamed data\n",
            "  warnings.warn(\"test_data has been renamed data\")\n",
            "/usr/local/lib/python3.7/dist-packages/torchvision/datasets/mnist.py:57: UserWarning: test_labels has been renamed targets\n",
            "  warnings.warn(\"test_labels has been renamed targets\")\n"
          ]
        },
        {
          "output_type": "display_data",
          "data": {
            "image/png": "[encoded data removed]",
            "text/plain": [
              "<Figure size 432x288 with 1 Axes>"
            ]
          },
          "metadata": {
            "needs_background": "light"
          }
        }
      ]
    },
    {
      "cell_type": "code",
      "metadata": {
        "id": "3yisaqwxVwfx"
      },
      "source": [
        ""
      ],
      "execution_count": 54,
      "outputs": []
    }
  ]
}