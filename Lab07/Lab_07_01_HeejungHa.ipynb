{
  "nbformat": 4,
  "nbformat_minor": 0,
  "metadata": {
    "kernelspec": {
      "display_name": "Python 3",
      "language": "python",
      "name": "python3"
    },
    "language_info": {
      "codemirror_mode": {
        "name": "ipython",
        "version": 3
      },
      "file_extension": ".py",
      "mimetype": "text/x-python",
      "name": "python",
      "nbconvert_exporter": "python",
      "pygments_lexer": "ipython3",
      "version": "3.6.5"
    },
    "colab": {
      "name": "Lab-07-01-Tips.ipynb",
      "provenance": [],
      "collapsed_sections": []
    }
  },
  "cells": [
    {
      "cell_type": "markdown",
      "metadata": {
        "id": "LG_dJ_pPrd7M"
      },
      "source": [
        "# Lab 7-01: Tips"
      ]
    },
    {
      "cell_type": "code",
      "metadata": {
        "id": "NkMC65p_rd7h"
      },
      "source": [
        "import torch\n",
        "import torch.nn as nn\n",
        "import torch.nn.functional as F\n",
        "import torch.optim as optim"
      ],
      "execution_count": 1,
      "outputs": []
    },
    {
      "cell_type": "code",
      "metadata": {
        "colab": {
          "base_uri": "https://localhost:8080/"
        },
        "id": "QGTfOfUErd7l",
        "outputId": "b258e8cf-d974-4bf4-c4cc-f5704fe34a0a"
      },
      "source": [
        "torch.manual_seed(1)"
      ],
      "execution_count": 2,
      "outputs": [
        {
          "output_type": "execute_result",
          "data": {
            "text/plain": [
              "<torch._C.Generator at 0x7fd375c1b9d0>"
            ]
          },
          "metadata": {},
          "execution_count": 2
        }
      ]
    },
    {
      "cell_type": "code",
      "metadata": {
        "id": "nQnAh2cFr_LC"
      },
      "source": [
        ""
      ],
      "execution_count": 2,
      "outputs": []
    },
    {
      "cell_type": "markdown",
      "metadata": {
        "id": "v6fB-Cxnrd7p"
      },
      "source": [
        "## Training and Test Datasets"
      ]
    },
    {
      "cell_type": "code",
      "metadata": {
        "id": "bmKqqnEard7q"
      },
      "source": [
        "x_train = torch.FloatTensor([[1, 2, 1],\n",
        "                             [1, 3, 2],\n",
        "                             [1, 3, 4],\n",
        "                             [1, 5, 5],\n",
        "                             [1, 7, 5],\n",
        "                             [1, 2, 5],\n",
        "                             [1, 6, 6],\n",
        "                             [1, 7, 7]\n",
        "                            ])\n",
        "y_train = torch.LongTensor([2, 2, 2, 1, 1, 1, 0, 0])"
      ],
      "execution_count": 3,
      "outputs": []
    },
    {
      "cell_type": "code",
      "metadata": {
        "id": "ZuIkI4Znrd7t"
      },
      "source": [
        "x_test = torch.FloatTensor([[2, 1, 1], [3, 1, 2], [3, 3, 4]])\n",
        "y_test = torch.LongTensor([2, 2, 2])"
      ],
      "execution_count": 4,
      "outputs": []
    },
    {
      "cell_type": "markdown",
      "metadata": {
        "id": "d2kU7D1lrd7v"
      },
      "source": [
        "## Model"
      ]
    },
    {
      "cell_type": "code",
      "metadata": {
        "id": "UaDWFkdTrd7x"
      },
      "source": [
        "class SoftmaxClassifierModel(nn.Module):\n",
        "    def __init__(self):\n",
        "        super().__init__()\n",
        "        self.linear = nn.Linear(3, 3)\n",
        "    def forward(self, x):\n",
        "        return self.linear(x)"
      ],
      "execution_count": 5,
      "outputs": []
    },
    {
      "cell_type": "code",
      "metadata": {
        "id": "Y7HWL3A6rd70"
      },
      "source": [
        "model = SoftmaxClassifierModel()"
      ],
      "execution_count": 6,
      "outputs": []
    },
    {
      "cell_type": "code",
      "metadata": {
        "id": "uYS2xk_Krd72"
      },
      "source": [
        "optimizer = optim.SGD(model.parameters(), lr=0.1)"
      ],
      "execution_count": 7,
      "outputs": []
    },
    {
      "cell_type": "code",
      "metadata": {
        "id": "BRa8rhikrd73"
      },
      "source": [
        "def train(model, optimizer, x_train, y_train):\n",
        "    nb_epochs = 20\n",
        "    for epoch in range(nb_epochs):\n",
        "\n",
        "        \n",
        "        prediction = model(x_train)\n",
        "\n",
        "        \n",
        "        cost = F.cross_entropy(prediction, y_train)\n",
        "\n",
        "       \n",
        "        optimizer.zero_grad()\n",
        "        cost.backward()\n",
        "        optimizer.step()\n",
        "\n",
        "        print('Epoch {:4d}/{} Cost: {:.6f}'.format(\n",
        "            epoch, nb_epochs, cost.item()\n",
        "        ))"
      ],
      "execution_count": 8,
      "outputs": []
    },
    {
      "cell_type": "code",
      "metadata": {
        "id": "nKBbjBLtrd76"
      },
      "source": [
        "def test(model, optimizer, x_test, y_test):\n",
        "    prediction = model(x_test)\n",
        "    predicted_classes = prediction.max(1)[1]\n",
        "    correct_count = (predicted_classes == y_test).sum().item()\n",
        "    cost = F.cross_entropy(prediction, y_test)\n",
        "\n",
        "    print('Accuracy: {}% Cost: {:.6f}'.format(\n",
        "         correct_count / len(y_test) * 100, cost.item()\n",
        "    ))"
      ],
      "execution_count": 9,
      "outputs": []
    },
    {
      "cell_type": "code",
      "metadata": {
        "colab": {
          "base_uri": "https://localhost:8080/"
        },
        "id": "mAngrYMBrd78",
        "outputId": "bcb5b1a8-676c-4b4f-fec9-2375b0716300"
      },
      "source": [
        "train(model, optimizer, x_train, y_train)"
      ],
      "execution_count": 10,
      "outputs": [
        {
          "output_type": "stream",
          "name": "stdout",
          "text": [
            "Epoch    0/20 Cost: 2.203667\n",
            "Epoch    1/20 Cost: 1.199645\n",
            "Epoch    2/20 Cost: 1.142985\n",
            "Epoch    3/20 Cost: 1.117769\n",
            "Epoch    4/20 Cost: 1.100901\n",
            "Epoch    5/20 Cost: 1.089523\n",
            "Epoch    6/20 Cost: 1.079872\n",
            "Epoch    7/20 Cost: 1.071320\n",
            "Epoch    8/20 Cost: 1.063325\n",
            "Epoch    9/20 Cost: 1.055720\n",
            "Epoch   10/20 Cost: 1.048378\n",
            "Epoch   11/20 Cost: 1.041245\n",
            "Epoch   12/20 Cost: 1.034285\n",
            "Epoch   13/20 Cost: 1.027478\n",
            "Epoch   14/20 Cost: 1.020813\n",
            "Epoch   15/20 Cost: 1.014279\n",
            "Epoch   16/20 Cost: 1.007872\n",
            "Epoch   17/20 Cost: 1.001586\n",
            "Epoch   18/20 Cost: 0.995419\n",
            "Epoch   19/20 Cost: 0.989365\n"
          ]
        }
      ]
    },
    {
      "cell_type": "code",
      "metadata": {
        "colab": {
          "base_uri": "https://localhost:8080/"
        },
        "id": "fPaptM9Vrd7-",
        "outputId": "5bd0e5a2-3036-4eae-d69e-e91d1b116b20"
      },
      "source": [
        "test(model, optimizer, x_test, y_test)"
      ],
      "execution_count": 11,
      "outputs": [
        {
          "output_type": "stream",
          "name": "stdout",
          "text": [
            "Accuracy: 0.0% Cost: 1.425844\n"
          ]
        }
      ]
    },
    {
      "cell_type": "code",
      "metadata": {
        "id": "GHJ9hs5Urd8E"
      },
      "source": [
        "model = SoftmaxClassifierModel()"
      ],
      "execution_count": 12,
      "outputs": []
    },
    {
      "cell_type": "code",
      "metadata": {
        "id": "cS48x7Klrd8G"
      },
      "source": [
        "optimizer = optim.SGD(model.parameters(), lr=1e5)"
      ],
      "execution_count": 13,
      "outputs": []
    },
    {
      "cell_type": "code",
      "metadata": {
        "colab": {
          "base_uri": "https://localhost:8080/"
        },
        "id": "yAfo9MA1rd8H",
        "outputId": "65033628-fb1e-4d47-d263-f8cbc89f1852"
      },
      "source": [
        "train(model, optimizer, x_train, y_train)"
      ],
      "execution_count": 14,
      "outputs": [
        {
          "output_type": "stream",
          "name": "stdout",
          "text": [
            "Epoch    0/20 Cost: 1.280268\n",
            "Epoch    1/20 Cost: 976950.750000\n",
            "Epoch    2/20 Cost: 1279135.250000\n",
            "Epoch    3/20 Cost: 1198378.875000\n",
            "Epoch    4/20 Cost: 1098825.750000\n",
            "Epoch    5/20 Cost: 1968197.750000\n",
            "Epoch    6/20 Cost: 284763.250000\n",
            "Epoch    7/20 Cost: 1532260.250000\n",
            "Epoch    8/20 Cost: 1651503.750000\n",
            "Epoch    9/20 Cost: 521878.593750\n",
            "Epoch   10/20 Cost: 1397263.250000\n",
            "Epoch   11/20 Cost: 750986.375000\n",
            "Epoch   12/20 Cost: 918691.375000\n",
            "Epoch   13/20 Cost: 1487888.250000\n",
            "Epoch   14/20 Cost: 1582260.250000\n",
            "Epoch   15/20 Cost: 685818.125000\n",
            "Epoch   16/20 Cost: 1140048.875000\n",
            "Epoch   17/20 Cost: 940566.375000\n",
            "Epoch   18/20 Cost: 931638.250000\n",
            "Epoch   19/20 Cost: 1971322.750000\n"
          ]
        }
      ]
    },
    {
      "cell_type": "code",
      "metadata": {
        "id": "4OB2Fjpjrd8K"
      },
      "source": [
        "model = SoftmaxClassifierModel()"
      ],
      "execution_count": 15,
      "outputs": []
    },
    {
      "cell_type": "code",
      "metadata": {
        "id": "7XFcPqhwrd8K"
      },
      "source": [
        "optimizer = optim.SGD(model.parameters(), lr=1e-10)"
      ],
      "execution_count": 16,
      "outputs": []
    },
    {
      "cell_type": "code",
      "metadata": {
        "colab": {
          "base_uri": "https://localhost:8080/"
        },
        "id": "LjQYB3Krrd8L",
        "outputId": "276f1daa-58c9-4d11-b952-ac65f46bcf7d"
      },
      "source": [
        "train(model, optimizer, x_train, y_train)"
      ],
      "execution_count": 17,
      "outputs": [
        {
          "output_type": "stream",
          "name": "stdout",
          "text": [
            "Epoch    0/20 Cost: 3.187324\n",
            "Epoch    1/20 Cost: 3.187324\n",
            "Epoch    2/20 Cost: 3.187324\n",
            "Epoch    3/20 Cost: 3.187324\n",
            "Epoch    4/20 Cost: 3.187324\n",
            "Epoch    5/20 Cost: 3.187324\n",
            "Epoch    6/20 Cost: 3.187324\n",
            "Epoch    7/20 Cost: 3.187324\n",
            "Epoch    8/20 Cost: 3.187324\n",
            "Epoch    9/20 Cost: 3.187324\n",
            "Epoch   10/20 Cost: 3.187324\n",
            "Epoch   11/20 Cost: 3.187324\n",
            "Epoch   12/20 Cost: 3.187324\n",
            "Epoch   13/20 Cost: 3.187324\n",
            "Epoch   14/20 Cost: 3.187324\n",
            "Epoch   15/20 Cost: 3.187324\n",
            "Epoch   16/20 Cost: 3.187324\n",
            "Epoch   17/20 Cost: 3.187324\n",
            "Epoch   18/20 Cost: 3.187324\n",
            "Epoch   19/20 Cost: 3.187324\n"
          ]
        }
      ]
    },
    {
      "cell_type": "code",
      "metadata": {
        "id": "ci64xgJPrd8N"
      },
      "source": [
        "model = SoftmaxClassifierModel()"
      ],
      "execution_count": 18,
      "outputs": []
    },
    {
      "cell_type": "code",
      "metadata": {
        "id": "kzRcnid-rd8O"
      },
      "source": [
        "optimizer = optim.SGD(model.parameters(), lr=1e-1)"
      ],
      "execution_count": 19,
      "outputs": []
    },
    {
      "cell_type": "code",
      "metadata": {
        "colab": {
          "base_uri": "https://localhost:8080/"
        },
        "id": "Zn1DcdUMrd8O",
        "outputId": "e566cb43-949f-483d-c4be-6a8bd6420bb4"
      },
      "source": [
        "train(model, optimizer, x_train, y_train)"
      ],
      "execution_count": 20,
      "outputs": [
        {
          "output_type": "stream",
          "name": "stdout",
          "text": [
            "Epoch    0/20 Cost: 1.341574\n",
            "Epoch    1/20 Cost: 1.198802\n",
            "Epoch    2/20 Cost: 1.150877\n",
            "Epoch    3/20 Cost: 1.131977\n",
            "Epoch    4/20 Cost: 1.116242\n",
            "Epoch    5/20 Cost: 1.102514\n",
            "Epoch    6/20 Cost: 1.089676\n",
            "Epoch    7/20 Cost: 1.077479\n",
            "Epoch    8/20 Cost: 1.065775\n",
            "Epoch    9/20 Cost: 1.054511\n",
            "Epoch   10/20 Cost: 1.043655\n",
            "Epoch   11/20 Cost: 1.033187\n",
            "Epoch   12/20 Cost: 1.023091\n",
            "Epoch   13/20 Cost: 1.013356\n",
            "Epoch   14/20 Cost: 1.003968\n",
            "Epoch   15/20 Cost: 0.994917\n",
            "Epoch   16/20 Cost: 0.986189\n",
            "Epoch   17/20 Cost: 0.977775\n",
            "Epoch   18/20 Cost: 0.969661\n",
            "Epoch   19/20 Cost: 0.961836\n"
          ]
        }
      ]
    },
    {
      "cell_type": "markdown",
      "metadata": {
        "id": "vHiiQfPord8P"
      },
      "source": [
        "## Data Preprocessing"
      ]
    },
    {
      "cell_type": "code",
      "metadata": {
        "id": "JU9VWoSzrd8R"
      },
      "source": [
        "x_train = torch.FloatTensor([[73, 80, 75],\n",
        "                             [93, 88, 93],\n",
        "                             [89, 91, 90],\n",
        "                             [96, 98, 100],\n",
        "                             [73, 66, 70]])\n",
        "y_train = torch.FloatTensor([[152], [185], [180], [196], [142]])"
      ],
      "execution_count": 21,
      "outputs": []
    },
    {
      "cell_type": "code",
      "metadata": {
        "id": "-hea4Ln3rd8T"
      },
      "source": [
        "mu = x_train.mean(dim=0)"
      ],
      "execution_count": 22,
      "outputs": []
    },
    {
      "cell_type": "code",
      "metadata": {
        "id": "TVGbHpbtrd8U"
      },
      "source": [
        "sigma = x_train.std(dim=0)"
      ],
      "execution_count": 23,
      "outputs": []
    },
    {
      "cell_type": "code",
      "metadata": {
        "id": "6Bi1knr4rd8V"
      },
      "source": [
        "norm_x_train = (x_train - mu) / sigma"
      ],
      "execution_count": 24,
      "outputs": []
    },
    {
      "cell_type": "code",
      "metadata": {
        "colab": {
          "base_uri": "https://localhost:8080/"
        },
        "id": "_0L-JzgZrd8V",
        "outputId": "df41ecfc-89ec-40fd-a001-0329b92d17a9"
      },
      "source": [
        "print(norm_x_train)"
      ],
      "execution_count": 25,
      "outputs": [
        {
          "output_type": "stream",
          "name": "stdout",
          "text": [
            "tensor([[-1.0674, -0.3758, -0.8398],\n",
            "        [ 0.7418,  0.2778,  0.5863],\n",
            "        [ 0.3799,  0.5229,  0.3486],\n",
            "        [ 1.0132,  1.0948,  1.1409],\n",
            "        [-1.0674, -1.5197, -1.2360]])\n"
          ]
        }
      ]
    },
    {
      "cell_type": "code",
      "metadata": {
        "id": "cJHHrjzOrd8X"
      },
      "source": [
        "class MultivariateLinearRegressionModel(nn.Module):\n",
        "    def __init__(self):\n",
        "        super().__init__()\n",
        "        self.linear = nn.Linear(3, 1)\n",
        "\n",
        "    def forward(self, x):\n",
        "        return self.linear(x)"
      ],
      "execution_count": 26,
      "outputs": []
    },
    {
      "cell_type": "code",
      "metadata": {
        "id": "yCeyX-Xmrd8X"
      },
      "source": [
        "model = MultivariateLinearRegressionModel()"
      ],
      "execution_count": 27,
      "outputs": []
    },
    {
      "cell_type": "code",
      "metadata": {
        "id": "RTGB5jGLrd8Y"
      },
      "source": [
        "optimizer = optim.SGD(model.parameters(), lr=1e-1)"
      ],
      "execution_count": 28,
      "outputs": []
    },
    {
      "cell_type": "code",
      "metadata": {
        "id": "o5Fls-SUrd8Z"
      },
      "source": [
        "def train(model, optimizer, x_train, y_train):\n",
        "    nb_epochs = 20\n",
        "    for epoch in range(nb_epochs):\n",
        "\n",
        "        \n",
        "        prediction = model(x_train)\n",
        "\n",
        "    \n",
        "        cost = F.mse_loss(prediction, y_train)\n",
        "\n",
        "       \n",
        "        optimizer.zero_grad()\n",
        "        cost.backward()\n",
        "        optimizer.step()\n",
        "\n",
        "        print('Epoch {:4d}/{} Cost: {:.6f}'.format(\n",
        "            epoch, nb_epochs, cost.item()\n",
        "        ))"
      ],
      "execution_count": 29,
      "outputs": []
    },
    {
      "cell_type": "code",
      "metadata": {
        "colab": {
          "base_uri": "https://localhost:8080/"
        },
        "id": "W3v6ByWwrd8Z",
        "outputId": "3c586094-147d-4e26-d509-a9f9be21ca69"
      },
      "source": [
        "train(model, optimizer, norm_x_train, y_train)"
      ],
      "execution_count": 30,
      "outputs": [
        {
          "output_type": "stream",
          "name": "stdout",
          "text": [
            "Epoch    0/20 Cost: 29785.089844\n",
            "Epoch    1/20 Cost: 18906.166016\n",
            "Epoch    2/20 Cost: 12054.673828\n",
            "Epoch    3/20 Cost: 7702.029785\n",
            "Epoch    4/20 Cost: 4925.733398\n",
            "Epoch    5/20 Cost: 3151.632812\n",
            "Epoch    6/20 Cost: 2016.996094\n",
            "Epoch    7/20 Cost: 1291.051270\n",
            "Epoch    8/20 Cost: 826.505249\n",
            "Epoch    9/20 Cost: 529.207397\n",
            "Epoch   10/20 Cost: 338.934174\n",
            "Epoch   11/20 Cost: 217.153564\n",
            "Epoch   12/20 Cost: 139.206757\n",
            "Epoch   13/20 Cost: 89.313782\n",
            "Epoch   14/20 Cost: 57.375465\n",
            "Epoch   15/20 Cost: 36.928429\n",
            "Epoch   16/20 Cost: 23.835773\n",
            "Epoch   17/20 Cost: 15.450401\n",
            "Epoch   18/20 Cost: 10.077809\n",
            "Epoch   19/20 Cost: 6.633700\n"
          ]
        }
      ]
    },
    {
      "cell_type": "markdown",
      "metadata": {
        "id": "f1DBGqWQrd8b"
      },
      "source": [
        "## Overfitting"
      ]
    },
    {
      "cell_type": "code",
      "metadata": {
        "id": "3SOWF3_Crd8d"
      },
      "source": [
        "def train_with_regularization(model, optimizer, x_train, y_train):\n",
        "    nb_epochs = 20\n",
        "    for epoch in range(nb_epochs):\n",
        "\n",
        "        \n",
        "        prediction = model(x_train)\n",
        "\n",
        "        \n",
        "        cost = F.mse_loss(prediction, y_train)\n",
        "        \n",
        "      \n",
        "        l2_reg = 0\n",
        "        for param in model.parameters():\n",
        "            l2_reg += torch.norm(param)\n",
        "            \n",
        "        cost += l2_reg\n",
        "\n",
        "       \n",
        "        optimizer.zero_grad()\n",
        "        cost.backward()\n",
        "        optimizer.step()\n",
        "\n",
        "        print('Epoch {:4d}/{} Cost: {:.6f}'.format(\n",
        "            epoch+1, nb_epochs, cost.item()\n",
        "        ))"
      ],
      "execution_count": 31,
      "outputs": []
    },
    {
      "cell_type": "code",
      "metadata": {
        "id": "NPG0v8FQrd8e"
      },
      "source": [
        "model = MultivariateLinearRegressionModel()"
      ],
      "execution_count": 32,
      "outputs": []
    },
    {
      "cell_type": "code",
      "metadata": {
        "id": "g0QDnJGdrd8e"
      },
      "source": [
        "optimizer = optim.SGD(model.parameters(), lr=1e-1)"
      ],
      "execution_count": 33,
      "outputs": []
    },
    {
      "cell_type": "code",
      "metadata": {
        "colab": {
          "base_uri": "https://localhost:8080/"
        },
        "id": "atqFK3a_rd8f",
        "outputId": "977354e2-6bba-4504-d0b2-693703aecb71"
      },
      "source": [
        "train_with_regularization(model, optimizer, norm_x_train, y_train)"
      ],
      "execution_count": 34,
      "outputs": [
        {
          "output_type": "stream",
          "name": "stdout",
          "text": [
            "Epoch    1/20 Cost: 29477.810547\n",
            "Epoch    2/20 Cost: 18798.513672\n",
            "Epoch    3/20 Cost: 12059.365234\n",
            "Epoch    4/20 Cost: 7773.400391\n",
            "Epoch    5/20 Cost: 5038.264160\n",
            "Epoch    6/20 Cost: 3290.066406\n",
            "Epoch    7/20 Cost: 2171.881836\n",
            "Epoch    8/20 Cost: 1456.433350\n",
            "Epoch    9/20 Cost: 998.597473\n",
            "Epoch   10/20 Cost: 705.594727\n",
            "Epoch   11/20 Cost: 518.073608\n",
            "Epoch   12/20 Cost: 398.057220\n",
            "Epoch   13/20 Cost: 321.242920\n",
            "Epoch   14/20 Cost: 272.078247\n",
            "Epoch   15/20 Cost: 240.609131\n",
            "Epoch   16/20 Cost: 220.465637\n",
            "Epoch   17/20 Cost: 207.570572\n",
            "Epoch   18/20 Cost: 199.314804\n",
            "Epoch   19/20 Cost: 194.028214\n",
            "Epoch   20/20 Cost: 190.642029\n"
          ]
        }
      ]
    }
  ]
}