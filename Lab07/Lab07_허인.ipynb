{
 "cells": [
  {
   "cell_type": "markdown",
   "metadata": {},
   "source": [
    "# Lab07-1: Tips\n",
    "CUAI 허인"
   ]
  },
  {
   "cell_type": "code",
   "execution_count": 1,
   "metadata": {},
   "outputs": [],
   "source": [
    "import torch\n",
    "import torch.nn as nn\n",
    "import torch.nn.functional as F\n",
    "import torch.optim as optim"
   ]
  },
  {
   "cell_type": "code",
   "execution_count": 2,
   "metadata": {},
   "outputs": [
    {
     "data": {
      "text/plain": [
       "<torch._C.Generator at 0x230aef133d0>"
      ]
     },
     "execution_count": 2,
     "metadata": {},
     "output_type": "execute_result"
    }
   ],
   "source": [
    "torch.manual_seed(1)"
   ]
  },
  {
   "cell_type": "markdown",
   "metadata": {},
   "source": [
    "## Training and Test Datsets"
   ]
  },
  {
   "cell_type": "code",
   "execution_count": 3,
   "metadata": {},
   "outputs": [],
   "source": [
    "x_train = torch.FloatTensor([[1, 2, 1],\n",
    "                             [1, 3, 2],\n",
    "                             [1, 3, 4],\n",
    "                             [1, 5, 5],\n",
    "                             [1, 7, 5],\n",
    "                             [1, 2, 5],\n",
    "                             [1, 6, 6],\n",
    "                             [1, 7, 7]\n",
    "                            ])\n",
    "y_train = torch.LongTensor([2, 2, 2, 1, 1, 1, 0, 0])\n",
    "\n",
    "\n",
    "x_test = torch.FloatTensor([[2, 1, 1], [3, 1, 2], [3, 3, 4]])\n",
    "y_test = torch.LongTensor([2, 2, 2])"
   ]
  },
  {
   "cell_type": "markdown",
   "metadata": {},
   "source": [
    "## 모델"
   ]
  },
  {
   "cell_type": "code",
   "execution_count": 5,
   "metadata": {},
   "outputs": [],
   "source": [
    "class SoftmaxClassifierModel(nn.Module):\n",
    "    def __init__(self):\n",
    "        super().__init__()\n",
    "        self.linear = nn.Linear(3, 3)\n",
    "    def forward(self, x):\n",
    "        return self.linear(x)\n",
    "    \n",
    "model = SoftmaxClassifierModel()"
   ]
  },
  {
   "cell_type": "code",
   "execution_count": 24,
   "metadata": {},
   "outputs": [],
   "source": [
    "# 함수를 만들자 (훈련, 테스트 모두)\n",
    "# 그 전에 optimizer 설정\n",
    "\n",
    "optimizer = optim.SGD(model.parameters(),lr=0.1)\n",
    "\n",
    "def train(model, optimizer, x_train, y_train):\n",
    "    nb_epochs = 20\n",
    "    for epoch in range(nb_epochs):\n",
    "\n",
    "        # H(x)\n",
    "        prediction = model(x_train)\n",
    "\n",
    "        # cost \n",
    "        cost = F.cross_entropy(prediction, y_train)\n",
    "\n",
    "        # cost -> H(x) \n",
    "        optimizer.zero_grad()\n",
    "        cost.backward()\n",
    "        optimizer.step()\n",
    "\n",
    "        print('Epoch {:4d}/{} Cost: {:.6f}'.format(epoch, nb_epochs, cost.item()))\n",
    "        \n",
    "def test(model, optimizer, x_test, y_test):\n",
    "    prediction = model(x_test)\n",
    "    predicted_classes = prediction.max(1)[1]\n",
    "    correct_count = (predicted_classes == y_test).sum().item()\n",
    "    cost = F.cross_entropy(prediction, y_test)\n",
    "\n",
    "    print('Accuracy: {}% Cost: {:.6f}'.format(correct_count / len(y_test) * 100, cost.item()))"
   ]
  },
  {
   "cell_type": "code",
   "execution_count": 25,
   "metadata": {},
   "outputs": [
    {
     "name": "stdout",
     "output_type": "stream",
     "text": [
      "Epoch    0/20 Cost: 0.895360\n",
      "Epoch    1/20 Cost: 0.890797\n",
      "Epoch    2/20 Cost: 0.886333\n",
      "Epoch    3/20 Cost: 0.881965\n",
      "Epoch    4/20 Cost: 0.877687\n",
      "Epoch    5/20 Cost: 0.873499\n",
      "Epoch    6/20 Cost: 0.869395\n",
      "Epoch    7/20 Cost: 0.865373\n",
      "Epoch    8/20 Cost: 0.861432\n",
      "Epoch    9/20 Cost: 0.857567\n",
      "Epoch   10/20 Cost: 0.853776\n",
      "Epoch   11/20 Cost: 0.850057\n",
      "Epoch   12/20 Cost: 0.846408\n",
      "Epoch   13/20 Cost: 0.842827\n",
      "Epoch   14/20 Cost: 0.839311\n",
      "Epoch   15/20 Cost: 0.835858\n",
      "Epoch   16/20 Cost: 0.832466\n",
      "Epoch   17/20 Cost: 0.829135\n",
      "Epoch   18/20 Cost: 0.825861\n",
      "Epoch   19/20 Cost: 0.822643\n"
     ]
    }
   ],
   "source": [
    "train(model, optimizer, x_train, y_train)"
   ]
  },
  {
   "cell_type": "code",
   "execution_count": 26,
   "metadata": {},
   "outputs": [
    {
     "name": "stdout",
     "output_type": "stream",
     "text": [
      "Accuracy: 100.0% Cost: 0.199402\n"
     ]
    }
   ],
   "source": [
    "test(model, optimizer, x_test, y_test)"
   ]
  },
  {
   "cell_type": "markdown",
   "metadata": {},
   "source": [
    "Accuracy: 100%\n",
    "\n",
    "## Learning Rate\n",
    "- Gradeitn Descent 에서의 알파 값이고 optimizer에서는 lr값 \n",
    "- Learning rate 너무 크면 diverge -> cost increases (overshooting)"
   ]
  },
  {
   "cell_type": "code",
   "execution_count": 27,
   "metadata": {},
   "outputs": [
    {
     "name": "stdout",
     "output_type": "stream",
     "text": [
      "Epoch    0/20 Cost: 3.187324\n",
      "Epoch    1/20 Cost: 1100707.500000\n",
      "Epoch    2/20 Cost: 2482261.000000\n",
      "Epoch    3/20 Cost: 664770.062500\n",
      "Epoch    4/20 Cost: 1668198.875000\n",
      "Epoch    5/20 Cost: 748657.500000\n",
      "Epoch    6/20 Cost: 1353832.500000\n",
      "Epoch    7/20 Cost: 1790073.750000\n",
      "Epoch    8/20 Cost: 917895.062500\n",
      "Epoch    9/20 Cost: 989687.125000\n",
      "Epoch   10/20 Cost: 990845.000000\n",
      "Epoch   11/20 Cost: 1585082.625000\n",
      "Epoch   12/20 Cost: 1265073.750000\n",
      "Epoch   13/20 Cost: 1149145.000000\n",
      "Epoch   14/20 Cost: 589766.937500\n",
      "Epoch   15/20 Cost: 689678.750000\n",
      "Epoch   16/20 Cost: 983032.562500\n",
      "Epoch   17/20 Cost: 1265073.875000\n",
      "Epoch   18/20 Cost: 1686645.000000\n",
      "Epoch   19/20 Cost: 484999.593750\n"
     ]
    }
   ],
   "source": [
    "model = SoftmaxClassifierModel()\n",
    "\n",
    "optimizer = optim.SGD(model.parameters(), lr=1e5)\n",
    "\n",
    "train(model, optimizer, x_train, y_train)"
   ]
  },
  {
   "cell_type": "markdown",
   "metadata": {},
   "source": [
    "learning rate 너무 작으면 cost는 거의 줄지 않는다"
   ]
  },
  {
   "cell_type": "code",
   "execution_count": 28,
   "metadata": {},
   "outputs": [
    {
     "name": "stdout",
     "output_type": "stream",
     "text": [
      "Epoch    0/20 Cost: 1.341574\n",
      "Epoch    1/20 Cost: 1.341574\n",
      "Epoch    2/20 Cost: 1.341574\n",
      "Epoch    3/20 Cost: 1.341574\n",
      "Epoch    4/20 Cost: 1.341574\n",
      "Epoch    5/20 Cost: 1.341574\n",
      "Epoch    6/20 Cost: 1.341574\n",
      "Epoch    7/20 Cost: 1.341574\n",
      "Epoch    8/20 Cost: 1.341574\n",
      "Epoch    9/20 Cost: 1.341574\n",
      "Epoch   10/20 Cost: 1.341574\n",
      "Epoch   11/20 Cost: 1.341574\n",
      "Epoch   12/20 Cost: 1.341574\n",
      "Epoch   13/20 Cost: 1.341574\n",
      "Epoch   14/20 Cost: 1.341574\n",
      "Epoch   15/20 Cost: 1.341574\n",
      "Epoch   16/20 Cost: 1.341574\n",
      "Epoch   17/20 Cost: 1.341574\n",
      "Epoch   18/20 Cost: 1.341574\n",
      "Epoch   19/20 Cost: 1.341574\n"
     ]
    }
   ],
   "source": [
    "model = SoftmaxClassifierModel()\n",
    "\n",
    "optimizer = optim.SGD(model.parameters(), lr=1e-10)  #learning rate 조절\n",
    "\n",
    "train(model, optimizer, x_train, y_train)"
   ]
  },
  {
   "cell_type": "code",
   "execution_count": 29,
   "metadata": {},
   "outputs": [
    {
     "name": "stdout",
     "output_type": "stream",
     "text": [
      "Epoch    0/20 Cost: 2.939317\n",
      "Epoch    1/20 Cost: 1.887239\n",
      "Epoch    2/20 Cost: 1.055398\n",
      "Epoch    3/20 Cost: 0.936401\n",
      "Epoch    4/20 Cost: 0.917493\n",
      "Epoch    5/20 Cost: 0.911811\n",
      "Epoch    6/20 Cost: 0.906384\n",
      "Epoch    7/20 Cost: 0.901102\n",
      "Epoch    8/20 Cost: 0.895959\n",
      "Epoch    9/20 Cost: 0.890947\n",
      "Epoch   10/20 Cost: 0.886062\n",
      "Epoch   11/20 Cost: 0.881298\n",
      "Epoch   12/20 Cost: 0.876650\n",
      "Epoch   13/20 Cost: 0.872114\n",
      "Epoch   14/20 Cost: 0.867685\n",
      "Epoch   15/20 Cost: 0.863359\n",
      "Epoch   16/20 Cost: 0.859132\n",
      "Epoch   17/20 Cost: 0.855000\n",
      "Epoch   18/20 Cost: 0.850961\n",
      "Epoch   19/20 Cost: 0.847009\n"
     ]
    }
   ],
   "source": [
    "model = SoftmaxClassifierModel()\n",
    "\n",
    "optimizer = optim.SGD(model.parameters(), lr=1e-1)\n",
    "\n",
    "train(model, optimizer, x_train, y_train)"
   ]
  },
  {
   "cell_type": "markdown",
   "metadata": {},
   "source": [
    "## 데이터 전처리\n",
    "데이터를 zero-center -> normalize"
   ]
  },
  {
   "cell_type": "code",
   "execution_count": 30,
   "metadata": {},
   "outputs": [],
   "source": [
    "x_train = torch.FloatTensor([[73, 80, 75],\n",
    "                             [93, 88, 93],\n",
    "                             [89, 91, 90],\n",
    "                             [96, 98, 100],\n",
    "                             [73, 66, 70]])\n",
    "y_train = torch.FloatTensor([[152], [185], [180], [196], [142]])"
   ]
  },
  {
   "cell_type": "code",
   "execution_count": 31,
   "metadata": {},
   "outputs": [
    {
     "name": "stdout",
     "output_type": "stream",
     "text": [
      "tensor([[-1.0674, -0.3758, -0.8398],\n",
      "        [ 0.7418,  0.2778,  0.5863],\n",
      "        [ 0.3799,  0.5229,  0.3486],\n",
      "        [ 1.0132,  1.0948,  1.1409],\n",
      "        [-1.0674, -1.5197, -1.2360]])\n"
     ]
    }
   ],
   "source": [
    "mu = x_train.mean(dim=0) #평균\n",
    "\n",
    "sigma = x_train.std(dim=0) #분산에 루트 - 표준편차\n",
    "\n",
    "norm_x_train = (x_train - mu) / sigma #정규화\n",
    "\n",
    "print(norm_x_train)"
   ]
  },
  {
   "cell_type": "markdown",
   "metadata": {},
   "source": [
    "normalize + zero center한 X로 학습 후 성능 파악"
   ]
  },
  {
   "cell_type": "code",
   "execution_count": 32,
   "metadata": {},
   "outputs": [],
   "source": [
    "class MultivariateLinearRegressionModel(nn.Module):\n",
    "    def __init__(self):\n",
    "        super().__init__()\n",
    "        self.linear = nn.Linear(3, 1)\n",
    "\n",
    "    def forward(self, x):\n",
    "        return self.linear(x)\n",
    "\n",
    "model = MultivariateLinearRegressionModel()\n",
    "\n",
    "optimizer = optim.SGD(model.parameters(), lr=1e-1)"
   ]
  },
  {
   "cell_type": "code",
   "execution_count": 33,
   "metadata": {},
   "outputs": [],
   "source": [
    "#함수 패턴 유사\n",
    "def train(model, optimizer, x_train, y_train):\n",
    "    nb_epochs = 20\n",
    "    for epoch in range(nb_epochs):\n",
    "\n",
    "        # H(x) \n",
    "        prediction = model(x_train)\n",
    "\n",
    "        # cost \n",
    "        cost = F.mse_loss(prediction, y_train)\n",
    "\n",
    "        # cost-> H(x) \n",
    "        optimizer.zero_grad()\n",
    "        cost.backward()\n",
    "        optimizer.step()\n",
    "\n",
    "        print('Epoch {:4d}/{} Cost: {:.6f}'.format(epoch, nb_epochs, cost.item()))"
   ]
  },
  {
   "cell_type": "code",
   "execution_count": 34,
   "metadata": {},
   "outputs": [
    {
     "name": "stdout",
     "output_type": "stream",
     "text": [
      "Epoch    0/20 Cost: 29474.621094\n",
      "Epoch    1/20 Cost: 18722.042969\n",
      "Epoch    2/20 Cost: 11941.123047\n",
      "Epoch    3/20 Cost: 7630.646973\n",
      "Epoch    4/20 Cost: 4880.463867\n",
      "Epoch    5/20 Cost: 3122.820068\n",
      "Epoch    6/20 Cost: 1998.639648\n",
      "Epoch    7/20 Cost: 1279.363037\n",
      "Epoch    8/20 Cost: 819.076416\n",
      "Epoch    9/20 Cost: 524.500732\n",
      "Epoch   10/20 Cost: 335.968170\n",
      "Epoch   11/20 Cost: 215.298920\n",
      "Epoch   12/20 Cost: 138.062103\n",
      "Epoch   13/20 Cost: 88.621628\n",
      "Epoch   14/20 Cost: 56.971203\n",
      "Epoch   15/20 Cost: 36.706795\n",
      "Epoch   16/20 Cost: 23.729708\n",
      "Epoch   17/20 Cost: 15.416880\n",
      "Epoch   18/20 Cost: 10.089440\n",
      "Epoch   19/20 Cost: 6.672885\n"
     ]
    }
   ],
   "source": [
    "train(model, optimizer, norm_x_train, y_train)"
   ]
  },
  {
   "cell_type": "markdown",
   "metadata": {},
   "source": [
    "cost 감소\n",
    "\n",
    "## overfitting\n",
    "학습 데이터만 잘 학습해서 테스트 데이터가 들어오면 좋은 성능이 안 나올 수 있다. 그리하여 다음의 방법을 실시\n",
    "- 더 많은 학습 데이터\n",
    "- 더 적은 양의 feature\n",
    "- regularization"
   ]
  },
  {
   "cell_type": "code",
   "execution_count": 36,
   "metadata": {},
   "outputs": [],
   "source": [
    "def train_with_regularization(model, optimizer, x_train, y_train):\n",
    "    nb_epochs = 20\n",
    "    for epoch in range(nb_epochs):\n",
    "\n",
    "        # H(x) \n",
    "        prediction = model(x_train)\n",
    "\n",
    "        # cost \n",
    "        cost = F.mse_loss(prediction, y_train)\n",
    "        \n",
    "        # l2 norm \n",
    "        l2_reg = 0\n",
    "        for param in model.parameters():\n",
    "            l2_reg += torch.norm(param)            \n",
    "        cost += l2_reg\n",
    "\n",
    "        # cost-> H(x) \n",
    "        optimizer.zero_grad()\n",
    "        cost.backward()\n",
    "        optimizer.step()\n",
    "\n",
    "        print('Epoch {:4d}/{} Cost: {:.6f}'.format(epoch+1, nb_epochs, cost.item()))"
   ]
  },
  {
   "cell_type": "code",
   "execution_count": 37,
   "metadata": {},
   "outputs": [
    {
     "name": "stdout",
     "output_type": "stream",
     "text": [
      "Epoch    1/20 Cost: 29648.953125\n",
      "Epoch    2/20 Cost: 18888.650391\n",
      "Epoch    3/20 Cost: 12114.510742\n",
      "Epoch    4/20 Cost: 7807.997070\n",
      "Epoch    5/20 Cost: 5060.242188\n",
      "Epoch    6/20 Cost: 3304.121582\n",
      "Epoch    7/20 Cost: 2180.908936\n",
      "Epoch    8/20 Cost: 1462.253418\n",
      "Epoch    9/20 Cost: 1002.366821\n",
      "Epoch   10/20 Cost: 708.049927\n",
      "Epoch   11/20 Cost: 519.685913\n",
      "Epoch   12/20 Cost: 399.127502\n",
      "Epoch   13/20 Cost: 321.964600\n",
      "Epoch   14/20 Cost: 272.574799\n",
      "Epoch   15/20 Cost: 240.960114\n",
      "Epoch   16/20 Cost: 220.721405\n",
      "Epoch   17/20 Cost: 207.763870\n",
      "Epoch   18/20 Cost: 199.466415\n",
      "Epoch   19/20 Cost: 194.151688\n",
      "Epoch   20/20 Cost: 190.746063\n"
     ]
    }
   ],
   "source": [
    "model = MultivariateLinearRegressionModel()\n",
    "\n",
    "optimizer = optim.SGD(model.parameters(), lr=1e-1)\n",
    "\n",
    "train_with_regularization(model, optimizer, norm_x_train, y_train)"
   ]
  },
  {
   "cell_type": "markdown",
   "metadata": {},
   "source": [
    "# Lab07-2: mnist_introduction"
   ]
  },
  {
   "cell_type": "code",
   "execution_count": 40,
   "metadata": {},
   "outputs": [
    {
     "name": "stdout",
     "output_type": "stream",
     "text": [
      "Collecting torchvision\n",
      "  Using cached torchvision-0.10.1-cp38-cp38-win_amd64.whl (936 kB)\n",
      "Requirement already satisfied: pillow>=5.3.0 in c:\\users\\17172\\anaconda3\\lib\\site-packages (from torchvision) (8.0.1)\n",
      "Requirement already satisfied: numpy in c:\\users\\17172\\anaconda3\\lib\\site-packages (from torchvision) (1.19.2)\n",
      "Requirement already satisfied: torch==1.9.1 in c:\\users\\17172\\anaconda3\\lib\\site-packages (from torchvision) (1.9.1)\n",
      "Requirement already satisfied: typing-extensions in c:\\users\\17172\\anaconda3\\lib\\site-packages (from torch==1.9.1->torchvision) (3.7.4.3)\n",
      "Installing collected packages: torchvision\n",
      "Successfully installed torchvision-0.10.1\n"
     ]
    }
   ],
   "source": [
    "#!pip install torchvision"
   ]
  },
  {
   "cell_type": "code",
   "execution_count": 42,
   "metadata": {},
   "outputs": [],
   "source": [
    "import torchvision.datasets as dsets\n",
    "import torchvision.transforms as transforms\n",
    "import matplotlib.pyplot as plt\n",
    "import random"
   ]
  },
  {
   "cell_type": "code",
   "execution_count": 43,
   "metadata": {},
   "outputs": [],
   "source": [
    "device = 'cuda' if torch.cuda.is_available() else 'cpu'\n",
    "\n",
    "# for reproducibility\n",
    "random.seed(777)\n",
    "torch.manual_seed(777)\n",
    "if device == 'cuda':\n",
    "    torch.cuda.manual_seed_all(777)"
   ]
  },
  {
   "cell_type": "code",
   "execution_count": 44,
   "metadata": {},
   "outputs": [],
   "source": [
    "# parameters 설정\n",
    "\n",
    "training_epochs = 15\n",
    "batch_size = 100"
   ]
  },
  {
   "cell_type": "code",
   "execution_count": 45,
   "metadata": {},
   "outputs": [
    {
     "name": "stdout",
     "output_type": "stream",
     "text": [
      "Downloading http://yann.lecun.com/exdb/mnist/train-images-idx3-ubyte.gz\n",
      "Downloading http://yann.lecun.com/exdb/mnist/train-images-idx3-ubyte.gz to MNIST_data/MNIST\\raw\\train-images-idx3-ubyte.gz\n"
     ]
    },
    {
     "data": {
      "application/vnd.jupyter.widget-view+json": {
       "model_id": "e6266062738e457d89a826fe3e2cfad6",
       "version_major": 2,
       "version_minor": 0
      },
      "text/plain": [
       "HBox(children=(HTML(value=''), FloatProgress(value=0.0, max=9912422.0), HTML(value='')))"
      ]
     },
     "metadata": {},
     "output_type": "display_data"
    },
    {
     "name": "stdout",
     "output_type": "stream",
     "text": [
      "\n",
      "Extracting MNIST_data/MNIST\\raw\\train-images-idx3-ubyte.gz to MNIST_data/MNIST\\raw\n",
      "\n",
      "Downloading http://yann.lecun.com/exdb/mnist/train-labels-idx1-ubyte.gz\n",
      "Downloading http://yann.lecun.com/exdb/mnist/train-labels-idx1-ubyte.gz to MNIST_data/MNIST\\raw\\train-labels-idx1-ubyte.gz\n"
     ]
    },
    {
     "data": {
      "application/vnd.jupyter.widget-view+json": {
       "model_id": "c6e3e42f62ec4dcda0f2aba36a1dc3bc",
       "version_major": 2,
       "version_minor": 0
      },
      "text/plain": [
       "HBox(children=(HTML(value=''), FloatProgress(value=0.0, max=28881.0), HTML(value='')))"
      ]
     },
     "metadata": {},
     "output_type": "display_data"
    },
    {
     "name": "stdout",
     "output_type": "stream",
     "text": [
      "\n",
      "Extracting MNIST_data/MNIST\\raw\\train-labels-idx1-ubyte.gz to MNIST_data/MNIST\\raw\n",
      "\n",
      "Downloading http://yann.lecun.com/exdb/mnist/t10k-images-idx3-ubyte.gz\n",
      "Downloading http://yann.lecun.com/exdb/mnist/t10k-images-idx3-ubyte.gz to MNIST_data/MNIST\\raw\\t10k-images-idx3-ubyte.gz\n"
     ]
    },
    {
     "data": {
      "application/vnd.jupyter.widget-view+json": {
       "model_id": "2ed91d9244d541879aa4737735a27f63",
       "version_major": 2,
       "version_minor": 0
      },
      "text/plain": [
       "HBox(children=(HTML(value=''), FloatProgress(value=0.0, max=1648877.0), HTML(value='')))"
      ]
     },
     "metadata": {},
     "output_type": "display_data"
    },
    {
     "name": "stdout",
     "output_type": "stream",
     "text": [
      "\n",
      "Extracting MNIST_data/MNIST\\raw\\t10k-images-idx3-ubyte.gz to MNIST_data/MNIST\\raw\n",
      "\n",
      "Downloading http://yann.lecun.com/exdb/mnist/t10k-labels-idx1-ubyte.gz\n",
      "Downloading http://yann.lecun.com/exdb/mnist/t10k-labels-idx1-ubyte.gz to MNIST_data/MNIST\\raw\\t10k-labels-idx1-ubyte.gz\n"
     ]
    },
    {
     "data": {
      "application/vnd.jupyter.widget-view+json": {
       "model_id": "a5c3f1b94ac74bfb8ce78e300b8c9ec1",
       "version_major": 2,
       "version_minor": 0
      },
      "text/plain": [
       "HBox(children=(HTML(value=''), FloatProgress(value=0.0, max=4542.0), HTML(value='')))"
      ]
     },
     "metadata": {},
     "output_type": "display_data"
    },
    {
     "name": "stdout",
     "output_type": "stream",
     "text": [
      "\n",
      "Extracting MNIST_data/MNIST\\raw\\t10k-labels-idx1-ubyte.gz to MNIST_data/MNIST\\raw\n",
      "\n"
     ]
    },
    {
     "name": "stderr",
     "output_type": "stream",
     "text": [
      "C:\\Users\\17172\\anaconda3\\lib\\site-packages\\torchvision\\datasets\\mnist.py:498: UserWarning: The given NumPy array is not writeable, and PyTorch does not support non-writeable tensors. This means you can write to the underlying (supposedly non-writeable) NumPy array using the tensor. You may want to copy the array to protect its data or make it writeable before converting it to a tensor. This type of warning will be suppressed for the rest of this program. (Triggered internally at  ..\\torch\\csrc\\utils\\tensor_numpy.cpp:143.)\n",
      "  return torch.from_numpy(parsed.astype(m[2], copy=False)).view(*s)\n"
     ]
    }
   ],
   "source": [
    "# MNIST dataset\n",
    "\n",
    "mnist_train = dsets.MNIST(root='MNIST_data/',\n",
    "                          train=True,\n",
    "                          transform=transforms.ToTensor(),\n",
    "                          download=True)\n",
    "\n",
    "mnist_test = dsets.MNIST(root='MNIST_data/',\n",
    "                         train=False,\n",
    "                         transform=transforms.ToTensor(),\n",
    "                         download=True)"
   ]
  },
  {
   "cell_type": "code",
   "execution_count": 46,
   "metadata": {},
   "outputs": [],
   "source": [
    "# dataset loader (위에서 parameter 값 설정했음)\n",
    "\n",
    "data_loader = torch.utils.data.DataLoader(dataset=mnist_train,\n",
    "                                          batch_size=batch_size,\n",
    "                                          shuffle=True,\n",
    "                                          drop_last=True)"
   ]
  },
  {
   "cell_type": "code",
   "execution_count": 47,
   "metadata": {},
   "outputs": [],
   "source": [
    "# MNIST data image of shape 28 * 28 = 784\n",
    "\n",
    "linear = torch.nn.Linear(784, 10, bias=True).to(device)"
   ]
  },
  {
   "cell_type": "code",
   "execution_count": 48,
   "metadata": {},
   "outputs": [],
   "source": [
    "# define cost/loss & optimizer\n",
    "\n",
    "criterion = torch.nn.CrossEntropyLoss().to(device)   \n",
    "optimizer = torch.optim.SGD(linear.parameters(), lr=0.1)"
   ]
  },
  {
   "cell_type": "code",
   "execution_count": 49,
   "metadata": {},
   "outputs": [
    {
     "name": "stdout",
     "output_type": "stream",
     "text": [
      "Epoch: 0001 cost = 0.534912527\n",
      "Epoch: 0002 cost = 0.359308660\n",
      "Epoch: 0003 cost = 0.331088215\n",
      "Epoch: 0004 cost = 0.316574216\n",
      "Epoch: 0005 cost = 0.307130307\n",
      "Epoch: 0006 cost = 0.300207913\n",
      "Epoch: 0007 cost = 0.294897288\n",
      "Epoch: 0008 cost = 0.290830463\n",
      "Epoch: 0009 cost = 0.287419558\n",
      "Epoch: 0010 cost = 0.284589112\n",
      "Epoch: 0011 cost = 0.281816244\n",
      "Epoch: 0012 cost = 0.279919654\n",
      "Epoch: 0013 cost = 0.277836859\n",
      "Epoch: 0014 cost = 0.276022315\n",
      "Epoch: 0015 cost = 0.274443209\n",
      "Learning finished\n"
     ]
    }
   ],
   "source": [
    "for epoch in range(training_epochs):\n",
    "    avg_cost = 0\n",
    "    total_batch = len(data_loader)\n",
    "\n",
    "    for X, Y in data_loader:\n",
    "        \n",
    "        # reshape input image into [batch_size by 784]\n",
    "        # label is not one-hot encoded\n",
    "        X = X.view(-1, 28 * 28).to(device)\n",
    "        Y = Y.to(device)\n",
    "\n",
    "        optimizer.zero_grad()\n",
    "        hypothesis = linear(X)\n",
    "        cost = criterion(hypothesis, Y)\n",
    "        cost.backward()\n",
    "        optimizer.step()\n",
    "\n",
    "        avg_cost += cost / total_batch\n",
    "\n",
    "    print('Epoch:', '%04d' % (epoch + 1), 'cost =', '{:.9f}'.format(avg_cost))\n",
    "\n",
    "print('Learning finished')"
   ]
  },
  {
   "cell_type": "code",
   "execution_count": 50,
   "metadata": {},
   "outputs": [
    {
     "name": "stdout",
     "output_type": "stream",
     "text": [
      "Accuracy: 0.8867999911308289\n",
      "Label:  8\n",
      "Prediction:  3\n"
     ]
    },
    {
     "name": "stderr",
     "output_type": "stream",
     "text": [
      "C:\\Users\\17172\\anaconda3\\lib\\site-packages\\torchvision\\datasets\\mnist.py:67: UserWarning: test_data has been renamed data\n",
      "  warnings.warn(\"test_data has been renamed data\")\n",
      "C:\\Users\\17172\\anaconda3\\lib\\site-packages\\torchvision\\datasets\\mnist.py:57: UserWarning: test_labels has been renamed targets\n",
      "  warnings.warn(\"test_labels has been renamed targets\")\n"
     ]
    },
    {
     "data": {
      "image/png": "[encoded data removed]",
      "text/plain": [
       "<Figure size 432x288 with 1 Axes>"
      ]
     },
     "metadata": {
      "needs_background": "light"
     },
     "output_type": "display_data"
    }
   ],
   "source": [
    "# 테스트 데이터로 모델 테스트 \n",
    "\n",
    "with torch.no_grad():\n",
    "    X_test = mnist_test.test_data.view(-1, 28 * 28).float().to(device)\n",
    "    Y_test = mnist_test.test_labels.to(device)\n",
    "\n",
    "    prediction = linear(X_test)\n",
    "    correct_prediction = torch.argmax(prediction, 1) == Y_test\n",
    "    accuracy = correct_prediction.float().mean()\n",
    "    print('Accuracy:', accuracy.item())\n",
    "\n",
    "    r = random.randint(0, len(mnist_test) - 1)\n",
    "    X_single_data = mnist_test.test_data[r:r + 1].view(-1, 28 * 28).float().to(device)\n",
    "    Y_single_data = mnist_test.test_labels[r:r + 1].to(device)\n",
    "\n",
    "    print('Label: ', Y_single_data.item())\n",
    "    single_prediction = linear(X_single_data)\n",
    "    print('Prediction: ', torch.argmax(single_prediction, 1).item())\n",
    "\n",
    "    plt.imshow(mnist_test.test_data[r:r + 1].view(28, 28), cmap='Greys', interpolation='nearest')\n",
    "    plt.show()"
   ]
  },
  {
   "cell_type": "markdown",
   "metadata": {},
   "source": [
    "정확도 약 88%"
   ]
  }
 ],
 "metadata": {
  "kernelspec": {
   "display_name": "Python 3",
   "language": "python",
   "name": "python3"
  },
  "language_info": {
   "codemirror_mode": {
    "name": "ipython",
    "version": 3
   },
   "file_extension": ".py",
   "mimetype": "text/x-python",
   "name": "python",
   "nbconvert_exporter": "python",
   "pygments_lexer": "ipython3",
   "version": "3.8.5"
  }
 },
 "nbformat": 4,
 "nbformat_minor": 4
}
